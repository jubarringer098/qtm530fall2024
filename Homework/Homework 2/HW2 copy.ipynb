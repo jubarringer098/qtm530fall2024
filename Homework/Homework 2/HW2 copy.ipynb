{
 "cells": [
  {
   "cell_type": "markdown",
   "metadata": {},
   "source": [
    "# I. Import Libraries and Data"
   ]
  },
  {
   "cell_type": "markdown",
   "metadata": {},
   "source": [
    "### Key Libraries"
   ]
  },
  {
   "cell_type": "code",
   "execution_count": 1,
   "metadata": {},
   "outputs": [],
   "source": [
    "import numpy as np\n",
    "import pandas as pd\n",
    "import matplotlib.pyplot as plt\n",
    "import os "
   ]
  },
  {
   "cell_type": "markdown",
   "metadata": {},
   "source": [
    "### Read Datasets"
   ]
  },
  {
   "cell_type": "markdown",
   "metadata": {},
   "source": [
    "To answer questions a-e, I know that I need the following fields from the following tables:\n",
    "results:\n",
    "raceId, driverId, constructorId, number, positionOrder, points, fastestLapTime, rank\n",
    "races: raceId, year, \n",
    "constructors: "
   ]
  },
  {
   "cell_type": "code",
   "execution_count": 2,
   "metadata": {},
   "outputs": [],
   "source": [
    "import os \n",
    "base_dir = os.getcwd()\n",
    "#\"/Users/gracebarringer/qtm530fall2024/Lecture 03/data_raw\" # \n",
    "\n",
    "import os \n",
    "base_dir = os.getcwd()\n",
    "file_path = os.path.normpath(os.path.join(base_dir, \"../../\", \"Lecture 03/data_raw/\"))\n",
    "\n",
    "\n",
    "results_file_path = os.path.join(file_path, \"results.csv\")\n",
    "races_file_path = os.path.join(file_path, \"races.csv\")\n",
    "constructors_file_path = os.path.join(file_path, \"constructors.csv\")\n",
    "drivers_file_path = os.path.join(file_path, \"drivers.csv\")\n",
    "\n",
    "\n",
    "results = pd.read_csv(results_file_path)\n",
    "races = pd.read_csv(races_file_path)\n",
    "constructors = pd.read_csv(constructors_file_path)\n",
    "drivers = pd.read_csv(drivers_file_path)\n",
    "\n"
   ]
  },
  {
   "cell_type": "markdown",
   "metadata": {},
   "source": [
    "# II. Cleaning Data "
   ]
  },
  {
   "cell_type": "markdown",
   "metadata": {},
   "source": [
    "## 1.\\) Checking for correct data types and fixing incorrect data types.\n",
    "I want to ensure that all columns in the results table are the same types as what is shown in the f1_codebook and fix them if they are not."
   ]
  },
  {
   "cell_type": "markdown",
   "metadata": {},
   "source": [
    "## results table"
   ]
  },
  {
   "cell_type": "code",
   "execution_count": 10,
   "metadata": {},
   "outputs": [
    {
     "data": {
      "text/plain": [
       "resultId             int64\n",
       "raceId               int64\n",
       "driverId             int64\n",
       "constructorId        int64\n",
       "number              object\n",
       "grid                 int64\n",
       "position            object\n",
       "positionText        object\n",
       "positionOrder        int64\n",
       "points             float64\n",
       "laps                 int64\n",
       "time                object\n",
       "milliseconds        object\n",
       "fastestLap          object\n",
       "rank                object\n",
       "fastestLapTime      object\n",
       "fastestLapSpeed     object\n",
       "statusId             int64\n",
       "dtype: object"
      ]
     },
     "execution_count": 10,
     "metadata": {},
     "output_type": "execute_result"
    }
   ],
   "source": [
    "# Checking to ensure the data types match what's expected \n",
    "results.dtypes\n"
   ]
  },
  {
   "cell_type": "markdown",
   "metadata": {},
   "source": [
    "number, position, milliseconds, fastestLap, and rank don't match the data types in the f1_codebook - they are showing as objects in this table but should be integers. They are showing up as objects because there is at least one non-numeric value in each of the columns. Although I will not be using all of these columns in my analysis, I still to ensure they are all of the correct data type. Next, I will check to see what the non-numeric value(s) is (are) in each column."
   ]
  },
  {
   "cell_type": "code",
   "execution_count": 11,
   "metadata": {},
   "outputs": [
    {
     "name": "stdout",
     "output_type": "stream",
     "text": [
      "number:  ['\\\\N']\n",
      "position:  ['\\\\N']\n",
      "milliseconds:  ['\\\\N']\n",
      "fastestLap:  ['\\\\N']\n",
      "rank:  ['\\\\N']\n"
     ]
    }
   ],
   "source": [
    "# Checking to see non-numeric values in each column  \n",
    "\n",
    "subset_num = results.query(\"number.str.isnumeric() == False\")\n",
    "print(\"number: \", pd.unique(subset_num[\"number\"]))\n",
    "\n",
    "subset_pos = results.query(\"position.str.isnumeric() == False\")\n",
    "print(\"position: \", pd.unique(subset_pos[\"position\"]))\n",
    "\n",
    "subset_ms = results.query(\"milliseconds.str.isnumeric() == False\")\n",
    "print(\"milliseconds: \", pd.unique(subset_ms[\"milliseconds\"]))\n",
    "\n",
    "subset_fl = results.query(\"fastestLap.str.isnumeric() == False\")\n",
    "print(\"fastestLap: \", pd.unique(subset_fl[\"fastestLap\"]))\n",
    "\n",
    "subset_r = results.query(\"rank.str.isnumeric() == False\")\n",
    "print(\"rank: \", pd.unique(subset_r[\"rank\"]))"
   ]
  },
  {
   "cell_type": "markdown",
   "metadata": {},
   "source": [
    "'\\\\\\N' is the non-numeric value showing up across all columns listed above, so I will now use the .replace method to replace this value with NaN and convert the columns to integers. \n"
   ]
  },
  {
   "cell_type": "code",
   "execution_count": 12,
   "metadata": {},
   "outputs": [],
   "source": [
    "# Replacing non-numeric values with NaN and converting the column to type Int64\n",
    "\n",
    "results[\"number\"] = results[\"number\"].replace('\\\\N', np.nan)\n",
    "results[\"number\"] = pd.to_numeric(results[\"number\"]).astype('Int64')\n",
    "\n",
    "results[\"position\"] = results[\"position\"].replace('\\\\N', np.nan)\n",
    "results[\"position\"] = pd.to_numeric(results[\"position\"]).astype('Int64')\n",
    "\n",
    "results[\"milliseconds\"] = results[\"milliseconds\"].replace('\\\\N', np.nan)\n",
    "results[\"milliseconds\"] = pd.to_numeric(results[\"milliseconds\"]).astype('Int64')\n",
    "\n",
    "results[\"fastestLap\"] = results[\"fastestLap\"].replace('\\\\N', np.nan)\n",
    "results[\"fastestLap\"] = pd.to_numeric(results[\"fastestLap\"]).astype('Int64')\n",
    "\n",
    "results[\"rank\"] = results[\"rank\"].replace('\\\\N', np.nan)\n",
    "results[\"rank\"] = pd.to_numeric(results[\"rank\"]).astype('Int64')"
   ]
  },
  {
   "cell_type": "markdown",
   "metadata": {},
   "source": [
    "## races table"
   ]
  },
  {
   "cell_type": "code",
   "execution_count": 3,
   "metadata": {},
   "outputs": [
    {
     "data": {
      "text/plain": [
       "raceId          int64\n",
       "year            int64\n",
       "round           int64\n",
       "circuitId       int64\n",
       "name           object\n",
       "date           object\n",
       "time           object\n",
       "url            object\n",
       "fp1_date       object\n",
       "fp1_time       object\n",
       "fp2_date       object\n",
       "fp2_time       object\n",
       "fp3_date       object\n",
       "fp3_time       object\n",
       "quali_date     object\n",
       "quali_time     object\n",
       "sprint_date    object\n",
       "sprint_time    object\n",
       "dtype: object"
      ]
     },
     "execution_count": 3,
     "metadata": {},
     "output_type": "execute_result"
    }
   ],
   "source": [
    "# Checking to ensure the data types match what's expected \n",
    "races.dtypes"
   ]
  },
  {
   "cell_type": "markdown",
   "metadata": {},
   "source": [
    "The column types in the races table match the codebook. "
   ]
  },
  {
   "cell_type": "markdown",
   "metadata": {},
   "source": [
    "## constructors table"
   ]
  },
  {
   "cell_type": "code",
   "execution_count": 4,
   "metadata": {},
   "outputs": [
    {
     "data": {
      "text/plain": [
       "constructorId      int64\n",
       "constructorRef    object\n",
       "name              object\n",
       "nationality       object\n",
       "url               object\n",
       "dtype: object"
      ]
     },
     "execution_count": 4,
     "metadata": {},
     "output_type": "execute_result"
    }
   ],
   "source": [
    "# Checking to ensure the data types match what's expected \n",
    "constructors.dtypes"
   ]
  },
  {
   "cell_type": "markdown",
   "metadata": {},
   "source": [
    "The column types in the constructors table match the codebook. "
   ]
  },
  {
   "cell_type": "markdown",
   "metadata": {},
   "source": [
    "## drivers table"
   ]
  },
  {
   "cell_type": "code",
   "execution_count": 5,
   "metadata": {},
   "outputs": [
    {
     "data": {
      "text/plain": [
       "driverId        int64\n",
       "driverRef      object\n",
       "number         object\n",
       "code           object\n",
       "forename       object\n",
       "surname        object\n",
       "dob            object\n",
       "nationality    object\n",
       "url            object\n",
       "dtype: object"
      ]
     },
     "execution_count": 5,
     "metadata": {},
     "output_type": "execute_result"
    }
   ],
   "source": [
    "# Checking to ensure the data types match what's expected \n",
    "drivers.dtypes"
   ]
  },
  {
   "cell_type": "markdown",
   "metadata": {},
   "source": [
    "number doesn't match the data type in the f1_codebook - it is showing as an object in this table but should be an integer. It is showing up as an object because there is at least one non-numeric value in this column. Next, I will check to see what the non-numeric value(s) is (are) in the number column."
   ]
  },
  {
   "cell_type": "code",
   "execution_count": 6,
   "metadata": {},
   "outputs": [
    {
     "name": "stdout",
     "output_type": "stream",
     "text": [
      "number:  ['\\\\N']\n"
     ]
    }
   ],
   "source": [
    "# Checking to see non-numeric values in number column  \n",
    "\n",
    "drivers_subset_num = drivers.query(\"number.str.isnumeric() == False\")\n",
    "print(\"number: \", pd.unique(drivers_subset_num[\"number\"]))"
   ]
  },
  {
   "cell_type": "markdown",
   "metadata": {},
   "source": [
    "'\\\\\\N' is the non-numeric value showing up in the number column, so I will now use the .replace method to replace this value with NaN and convert the column to type integer. "
   ]
  },
  {
   "cell_type": "code",
   "execution_count": 7,
   "metadata": {},
   "outputs": [],
   "source": [
    "drivers[\"number\"] = drivers[\"number\"].replace('\\\\N', np.nan)\n",
    "drivers[\"number\"] = pd.to_numeric(drivers[\"number\"]).astype('Int64')"
   ]
  },
  {
   "cell_type": "markdown",
   "metadata": {},
   "source": [
    "## 2.\\) Checking for duplicate records\n",
    "I want to ensure that there are no duplicate records in the tables, because each row should be a unique record"
   ]
  },
  {
   "cell_type": "markdown",
   "metadata": {},
   "source": [
    "## results table"
   ]
  },
  {
   "cell_type": "code",
   "execution_count": 25,
   "metadata": {},
   "outputs": [
    {
     "name": "stdout",
     "output_type": "stream",
     "text": [
      "Duplicate rows in results table:  Empty DataFrame\n",
      "Columns: [resultId, raceId, driverId, constructorId, number, grid, position, positionText, positionOrder, points, laps, time, milliseconds, fastestLap, rank, fastestLapTime, fastestLapSpeed, statusId]\n",
      "Index: []\n"
     ]
    }
   ],
   "source": [
    "print(\"Duplicate rows in results table: \", results[results.duplicated()])"
   ]
  },
  {
   "cell_type": "markdown",
   "metadata": {},
   "source": [
    "There are no duplicate rows in the results table."
   ]
  },
  {
   "cell_type": "markdown",
   "metadata": {},
   "source": [
    "## races table"
   ]
  },
  {
   "cell_type": "code",
   "execution_count": 8,
   "metadata": {},
   "outputs": [
    {
     "name": "stdout",
     "output_type": "stream",
     "text": [
      "Duplicate rows in races table:  Empty DataFrame\n",
      "Columns: [raceId, year, round, circuitId, name, date, time, url, fp1_date, fp1_time, fp2_date, fp2_time, fp3_date, fp3_time, quali_date, quali_time, sprint_date, sprint_time]\n",
      "Index: []\n"
     ]
    }
   ],
   "source": [
    "print(\"Duplicate rows in races table: \", races[races.duplicated()])"
   ]
  },
  {
   "cell_type": "markdown",
   "metadata": {},
   "source": [
    "##### 3.\\) Checking for count of missing values\n",
    "Now that all of my columns are of the correct type and I've checked for duplicate records, I want to count how many values are missing for each column in the results table. If many values are missing in a column that I plan on using, I might need to decide on a method to impute the values. \n"
   ]
  },
  {
   "cell_type": "markdown",
   "metadata": {},
   "source": [
    "Now that all of my columns are of the correct type, I want to count how many values each column in the results table are missing. If many values are missing in a column that I plan on using, I might need to decide on a method to impute the values. \n",
    "\n",
    "NaN represents a missing value in my int or float columns so I will use .isna() to count how many missing values there are in these columns. \n",
    "\n",
    "For object columns, I will use .isnull() to determine if any values are missing (not that isnull just checks for NULLs, but if the value makes sense or not)"
   ]
  },
  {
   "cell_type": "code",
   "execution_count": 20,
   "metadata": {},
   "outputs": [
    {
     "name": "stdout",
     "output_type": "stream",
     "text": [
      "Missing value count  resultId :  0\n",
      "Missing value count  raceId :  0\n",
      "Missing value count  driverId :  0\n",
      "Missing value count  constructorId :  0\n",
      "Missing value count  number :  6\n",
      "Missing value count  grid :  0\n",
      "Missing value count  position :  10851\n",
      "Missing value count  positionOrder :  0\n",
      "Missing value count  points :  0\n",
      "Missing value count  laps :  0\n",
      "Missing value count  milliseconds :  18753\n",
      "Missing value count  fastestLap :  18461\n",
      "Missing value count  rank :  18249\n",
      "Missing value count  statusId :  0\n",
      "Missing value count  positionText :  0\n",
      "Missing value count  time :  0\n",
      "Missing value count  fastestLapTime :  0\n",
      "Missing value count  fastestLapSpeed :  0\n"
     ]
    }
   ],
   "source": [
    "# getting list of column names \n",
    "results_cols_all = results.columns.tolist()\n",
    "# getting list of column names for numeric variables \n",
    "results_cols_num = results.select_dtypes(include = ['number']).columns.tolist()\n",
    "# getting list of column names for object variables \n",
    "results_cols_obj = results.select_dtypes(include = ['object']).columns.tolist()\n",
    "\n",
    "# count and print the missing values of each numeric column \n",
    "for i in results_cols_num:\n",
    "    print(\"Missing value count \", i, \": \", results[i].isna().sum())\n",
    "\n",
    "for i in results_cols_obj:\n",
    "    print(\"Missing value count \", i, \": \", results[i].isnull().sum())\n"
   ]
  },
  {
   "cell_type": "markdown",
   "metadata": {},
   "source": [
    "None of the fields I'm using are missing values."
   ]
  },
  {
   "cell_type": "markdown",
   "metadata": {},
   "source": [
    "Questions: \n",
    "About ferrari being \"best\" - when to see if ferarri is missing values for what I might uyse for \"best\"\n",
    "About if I should look at description now or way until aggregated \n",
    "\n"
   ]
  },
  {
   "cell_type": "markdown",
   "metadata": {},
   "source": [
    "##### 4.\\) soemthing about uniqueness"
   ]
  },
  {
   "cell_type": "markdown",
   "metadata": {},
   "source": [
    "### races table"
   ]
  },
  {
   "cell_type": "markdown",
   "metadata": {},
   "source": [
    "##### 1.\\) Checking for correct data types and fixing incorrect data types.\n",
    "I want to ensure that all columns in the results table are the same types as what is shown in the f1_codebook and fix them if they are not."
   ]
  },
  {
   "cell_type": "code",
   "execution_count": null,
   "metadata": {},
   "outputs": [],
   "source": [
    "# Checking to ensure the data types match what's expected \n",
    "races.dtypes"
   ]
  },
  {
   "cell_type": "markdown",
   "metadata": {},
   "source": [
    "The column types in the races table match the codebook. \n",
    "\n",
    "Because I will be using the races table to pull in the year to the results table on raceId, I want to ensure that raceId and year are not missing any values. "
   ]
  },
  {
   "cell_type": "code",
   "execution_count": 24,
   "metadata": {},
   "outputs": [
    {
     "name": "stdout",
     "output_type": "stream",
     "text": [
      "Missing value count raceId:  0\n",
      "Missing value count year:  0\n"
     ]
    }
   ],
   "source": [
    "print(\"Missing value count raceId: \", races['raceId'].isna().sum())\n",
    "print(\"Missing value count year: \", races['year'].isna().sum())"
   ]
  },
  {
   "cell_type": "markdown",
   "metadata": {},
   "source": [
    "### drivers table"
   ]
  },
  {
   "cell_type": "markdown",
   "metadata": {},
   "source": [
    "First, I want to ensure that all columns in the drivers table are the same types as what is shown in the ERD."
   ]
  },
  {
   "cell_type": "code",
   "execution_count": null,
   "metadata": {},
   "outputs": [],
   "source": [
    "# Checking to ensure the data types match what's expected \n",
    "drivers.dtypes"
   ]
  },
  {
   "cell_type": "markdown",
   "metadata": {},
   "source": [
    "number does not match the data type in the ERD - it are showing as an object in this table but should be an integer. It is showing up as an object because there is at least one non-numeric value in the column. Next, I will check to see what the non-numeric value(s) is (are) in the column"
   ]
  },
  {
   "cell_type": "code",
   "execution_count": null,
   "metadata": {},
   "outputs": [],
   "source": [
    "# Checking to see non-numeric values in the column  \n",
    "subset_num_dr = drivers.query(\"number.str.isnumeric() == False\")\n",
    "print(pd.unique(subset_num_dr[\"number\"]))"
   ]
  },
  {
   "cell_type": "markdown",
   "metadata": {},
   "source": [
    "'\\\\\\N' is the non-numeric value showing up in the number column, so I will now use the .replace method to replace this value with NaN and convert the column to be type integer"
   ]
  },
  {
   "cell_type": "code",
   "execution_count": 118,
   "metadata": {},
   "outputs": [],
   "source": [
    "drivers[\"number\"] = drivers[\"number\"].replace('\\\\N', np.nan)\n",
    "drivers[\"number\"] = pd.to_numeric(drivers[\"number\"]).astype('Int64')"
   ]
  },
  {
   "cell_type": "code",
   "execution_count": null,
   "metadata": {},
   "outputs": [],
   "source": [
    "# Verifying that the number column is now type integer\n",
    "drivers.dtypes"
   ]
  },
  {
   "cell_type": "markdown",
   "metadata": {},
   "source": [
    "In the drivers table, each driver should be represented in one row. Furthermore, each driver should have a unique number associated with them (number to driver should be a one-to-one mapping). I want to validate this so I with check for two things: \n",
    "1. The count of rows in the table equals to the count of unique number \n",
    "2. There are no duplicate drivers "
   ]
  },
  {
   "cell_type": "code",
   "execution_count": null,
   "metadata": {},
   "outputs": [],
   "source": [
    "# Check to see the number of rows in the dataset \n",
    "print(\"drivers shape: \", drivers.shape)\n",
    "print(\"count of unique number: \", drivers['number'].nunique())\n",
    "\n",
    "\n",
    "\n",
    "\n",
    "# # Combine drivers forename and surname to get unique driver name (in case some drivers have the same forename or the same surname)\n",
    "# drivers['fullName'] = drivers['forename'] + \" \" + drivers['surname']\n",
    "# drivers['normalizedName'] = drivers['fullName'].str.lower().str.strip()\n"
   ]
  },
  {
   "cell_type": "markdown",
   "metadata": {},
   "source": [
    "Next, I want to ensure that there are no duplicate driver names and ensure that there are no typos that are resulting in the same driver being interpreted as a different driver (e.g., Lewis Hamilton vs. lewis hamilton). I will combine the forename and the lastname of the driver, and then normalize the names by stripping any white space and making the names lowercase. "
   ]
  },
  {
   "cell_type": "code",
   "execution_count": null,
   "metadata": {},
   "outputs": [],
   "source": [
    "drivers['fullName'] = drivers['forename'] + \" \" + drivers['surname']\n",
    "\n",
    "driver_counts = drivers['fullName'].value_counts()\n",
    "\n",
    "duplicates = driver_counts[driver_counts > 1]\n",
    "\n",
    "# Display the result\n",
    "print(duplicates)\n",
    "\n"
   ]
  },
  {
   "cell_type": "code",
   "execution_count": null,
   "metadata": {},
   "outputs": [],
   "source": [
    "drivers['normalizedName'] = drivers['fullName'].str.lower().str.strip()\n",
    "\n",
    "# Get the value counts for the normalized names\n",
    "driver_counts = drivers['normalizedName'].value_counts()\n",
    "\n",
    "# Filter the counts where the value is greater than 1 to find duplicates\n",
    "potential_duplicates = driver_counts[driver_counts > 1]\n",
    "\n",
    "# Display the result\n",
    "print(potential_duplicates)"
   ]
  },
  {
   "cell_type": "code",
   "execution_count": null,
   "metadata": {},
   "outputs": [],
   "source": [
    "display(drivers)"
   ]
  },
  {
   "cell_type": "markdown",
   "metadata": {},
   "source": [
    "### constructors table"
   ]
  },
  {
   "cell_type": "code",
   "execution_count": null,
   "metadata": {},
   "outputs": [],
   "source": []
  },
  {
   "cell_type": "markdown",
   "metadata": {},
   "source": [
    "# III. Creating needed dataframes for questions\n"
   ]
  },
  {
   "cell_type": "markdown",
   "metadata": {},
   "source": [
    "### creating needed data frames for questions a, b, and c"
   ]
  },
  {
   "cell_type": "code",
   "execution_count": 43,
   "metadata": {},
   "outputs": [],
   "source": [
    "# Pulling year into results data using a join on raceId\n",
    "results_merged_abc = pd.merge(results[['raceId', 'constructorId', 'points']],\n",
    "                       races[[\"raceId\", \"year\"]],\n",
    "                       on = \"raceId\",\n",
    "                       how = \"left\")\n",
    "\n",
    "# Pulling in constructor name \n",
    "results_merged_abc = pd.merge(results_merged_abc, constructors[['constructorId', 'name']], \n",
    "                          on = \"constructorId\",\n",
    "                          how = \"left\")\n",
    "\n"
   ]
  },
  {
   "cell_type": "code",
   "execution_count": null,
   "metadata": {},
   "outputs": [],
   "source": [
    "display(results_merged_abc)"
   ]
  },
  {
   "cell_type": "markdown",
   "metadata": {},
   "source": [
    "### Creating needed dataframe for question d and e"
   ]
  },
  {
   "cell_type": "code",
   "execution_count": null,
   "metadata": {},
   "outputs": [],
   "source": [
    "results_merged2 = pd.merge(results[['raceId', 'constructorId', \"driverId\", \"number\", 'points']],\n",
    "                       races[[\"raceId\", \"year\"]],\n",
    "                       on = \"raceId\",\n",
    "                       how = \"left\")\n",
    "\n",
    "# Pulling in constructor name \n",
    "results_merged2 = pd.merge(results_merged2, constructors[['constructorId', 'name']], \n",
    "                          on = \"constructorId\",\n",
    "                          how = \"left\")\n",
    "\n",
    "results_merged2 = pd.merge(results_merged2, drivers[['driverId', 'forename', 'surname']], \n",
    "                          on = \"driverId\",\n",
    "                          how = \"left\")"
   ]
  },
  {
   "cell_type": "markdown",
   "metadata": {},
   "source": [
    "### Creating needed aggregated data frames"
   ]
  },
  {
   "cell_type": "code",
   "execution_count": null,
   "metadata": {},
   "outputs": [],
   "source": [
    "# Created new dataframe with constructor points by year \n",
    "constructors_agg = (results_merged.groupby([\"constructorId\", \"name\", \"year\"]).agg(points_by_year = ('points','sum'))).reset_index()\n",
    "\n",
    "# Querying for just years between 1981 and 2020, aggregating points by constructorId, and sorting by total points by constructor \n",
    "constructor_points_1981_2020 = (constructors_agg.query(\"(year >= 1981) & (year <= 2020)\").groupby([\"constructorId\", \"name\"]).agg(total_points_1981_2020 = ('points_by_year','sum')).sort_values(by = 'total_points_1981_2020', ascending = False)).reset_index()\n",
    "\n",
    "# Getting the average total points between 1981 and 2020\n",
    "avg_total_points_1981_2020 = constructor_points_1981_2020['total_points_1981_2020'].mean()\n",
    "\n"
   ]
  },
  {
   "cell_type": "markdown",
   "metadata": {},
   "source": [
    "### Results for Answers"
   ]
  },
  {
   "cell_type": "code",
   "execution_count": null,
   "metadata": {},
   "outputs": [],
   "source": [
    "display(constructor_points_1981_2020.iloc[0:3,:])\n",
    "\n",
    "print(\"Average total points between 1981 and 2020 \", avg_total_points_1981_2020)\n"
   ]
  },
  {
   "cell_type": "code",
   "execution_count": null,
   "metadata": {},
   "outputs": [],
   "source": [
    "constructor_points_1981_2020.iloc[0:3,:]['name']"
   ]
  },
  {
   "cell_type": "code",
   "execution_count": null,
   "metadata": {},
   "outputs": [],
   "source": [
    "# Create a bar chart for the top 3 constructors\n",
    "plt.figure(figsize=(7, 4))\n",
    "bars = plt.bar(constructor_points_1981_2020.iloc[0:3,:]['name'], constructor_points_1981_2020.iloc[0:3,:]['total_points_1981_2020'], color='skyblue')\n",
    "plt.axhline(y=avg_total_points_1981_2020, color='red', linestyle='--', label=f'Average Points Across All Constructors: {avg_total_points_1981_2020:.0f}')\n",
    "\n",
    "for bar in bars:\n",
    "    yval = bar.get_height()  # Get the height of the bar (total points)\n",
    "    plt.text(bar.get_x() + bar.get_width()/2, yval, f'{yval:,.0f}', ha='center', va='bottom', fontsize=10)\n",
    "\n",
    "\n",
    "plt.xlabel('Constructor')\n",
    "plt.ylabel('Total Points (1981-2020)')\n",
    "plt.title('Top 3 Constructors by Total Points (1981-2020)')\n",
    "plt.ylim(0, 8000)\n",
    "plt.legend()\n",
    "\n",
    "# Display the plot\n",
    "plt.show()"
   ]
  },
  {
   "cell_type": "markdown",
   "metadata": {},
   "source": [
    "### Answer \n",
    "| Constructor | Total Points Between 1981 and 2020 |\n",
    "|-------------|------------------------------------|\n",
    "| Ferrari     | 7,374                              |\n",
    "| Mercedes    | 5,685                              |\n",
    "| McLaren     | 5,230                              |\n",
    "\n",
    "#### Avergage total points across all constructors between 1981 and 2020 was 532 points\n",
    "\n",
    "#### Ferrari, Mercedes, and McLaren had the highest number of total points between 1981 and 2020\n",
    "\n",
    "#### Between 1981 and 2020, Ferrari got 7,374 total points, Mercedes got 5,685 total points, and McLaren got 5,230 total points (5,229.5)\n",
    "\n",
    "#### As shown in the bar chart above, Ferrari, Mercedes, and McLaren are all far higher than the average total points per constructor between 1981 and 2020. Since not all constructors participated every year or some constructors changed names between years, the average total points between 1981 and 2020 could be understated. \n"
   ]
  },
  {
   "cell_type": "code",
   "execution_count": 67,
   "metadata": {},
   "outputs": [],
   "source": [
    "# Querying for just years between 2001 and 2020, aggregating points by constructorId, and sorting by total points by constructor \n",
    "constructor_points_2001_2020 = (constructors_agg.query(\"(year >= 2001) & (year <= 2020)\").groupby([\"constructorId\", \"name\"]).agg(total_points_2001_2020 = ('points_by_year','sum')).sort_values(by = 'total_points_2001_2020', ascending = False)).reset_index()\n",
    "\n",
    "# Getting the average total points between 2001 and 2020\n",
    "avg_total_points_2001_2020 = constructor_points_2001_2020['total_points_2001_2020'].mean()"
   ]
  },
  {
   "cell_type": "code",
   "execution_count": null,
   "metadata": {},
   "outputs": [],
   "source": [
    "display(constructor_points_2001_2020.iloc[0:3,:])\n",
    "\n",
    "print(\"Average total points between 2001 and 2020 \", avg_total_points_2001_2020)"
   ]
  },
  {
   "cell_type": "code",
   "execution_count": null,
   "metadata": {},
   "outputs": [],
   "source": [
    "# Create a bar chart for the top 3 constructors\n",
    "\n",
    "plt.figure(figsize=(7, 4))\n",
    "bars = plt.bar(constructor_points_2001_2020.iloc[0:3,:]['name'], constructor_points_2001_2020.iloc[0:3,:]['total_points_2001_2020'], color='skyblue')\n",
    "plt.axhline(y=avg_total_points_2001_2020, color='red', linestyle='--', label=f'Average Points Across All Constructors: {avg_total_points_2001_2020:.0f}')\n",
    "\n",
    "for bar in bars:\n",
    "    yval = bar.get_height()  # Get the height of the bar (total points)\n",
    "    plt.text(bar.get_x() + bar.get_width()/2, yval, f'{yval:,.0f}', ha='center', va='bottom', fontsize=10)\n",
    "\n",
    "plt.ylim(0, 7000)\n",
    "plt.xlabel('Constructor')\n",
    "plt.ylabel('Total Points (2001-2020)')\n",
    "plt.title('Top 3 Constructors by Total Points (2001-2020)')\n",
    "plt.legend() \n",
    "\n",
    "# Display the plot\n",
    "plt.show()"
   ]
  },
  {
   "cell_type": "markdown",
   "metadata": {},
   "source": [
    "### Answer \n",
    "| Constructor | Total Points Between 2001 and 2020 |\n",
    "|-------------|------------------------------------|\n",
    "| Ferrari     | 5,862                              |\n",
    "| Mercedes    | 5,685                              |\n",
    "| Red Bull    | 5,044                              |\n",
    "\n",
    "#### Avergage total points across all constructors between 2001 and 2020 was 786 points\n",
    "\n",
    "#### Ferrari, Mercedes, and Red Bull had the highest number of total points between 2001 and 2020, with Ferrari getting 5,862 total points, Mercedes getting 5,685 total points, and Red Bull getting 5,044 total points; note that Mercedes has the same number of total points between 1981 and 2020, and 2001 and 2020 because within those time periods, they only started racing from 2010 onwards.\n",
    "\n",
    "#### As shown in the bar chart above, Ferrari, Mercedes, and Red Bull are all far higher than the average total points per constructor between 2001 and 2020. Since not all constructors participated every year or some constructors changed names between years, the average total points between 2001 and 2020 could be understated. "
   ]
  },
  {
   "cell_type": "code",
   "execution_count": null,
   "metadata": {},
   "outputs": [],
   "source": [
    "(constructors_agg.query(\"(year >= 1981) & (year <= 2020)\")"
   ]
  },
  {
   "cell_type": "code",
   "execution_count": 99,
   "metadata": {},
   "outputs": [],
   "source": [
    "results_merged2 = pd.merge(results[['raceId', 'constructorId', \"driverId\", \"number\", 'points']],\n",
    "                       races[[\"raceId\", \"year\"]],\n",
    "                       on = \"raceId\",\n",
    "                       how = \"left\")\n",
    "\n",
    "# Pulling in constructor name \n",
    "results_merged2 = pd.merge(results_merged2, constructors[['constructorId', 'name']], \n",
    "                          on = \"constructorId\",\n",
    "                          how = \"left\")\n",
    "\n",
    "results_merged2 = pd.merge(results_merged2, drivers[['driverId', 'forename', 'surname']], \n",
    "                          on = \"driverId\",\n",
    "                          how = \"left\")"
   ]
  },
  {
   "cell_type": "code",
   "execution_count": null,
   "metadata": {},
   "outputs": [],
   "source": [
    "results_merged2['Full Name'] = df['First Name'] + ' ' + df['Last Name']"
   ]
  },
  {
   "cell_type": "code",
   "execution_count": null,
   "metadata": {},
   "outputs": [],
   "source": [
    "display(results_merged2)"
   ]
  }
 ],
 "metadata": {
  "kernelspec": {
   "display_name": "Python 3",
   "language": "python",
   "name": "python3"
  },
  "language_info": {
   "codemirror_mode": {
    "name": "ipython",
    "version": 3
   },
   "file_extension": ".py",
   "mimetype": "text/x-python",
   "name": "python",
   "nbconvert_exporter": "python",
   "pygments_lexer": "ipython3",
   "version": "3.11.5"
  }
 },
 "nbformat": 4,
 "nbformat_minor": 2
}
