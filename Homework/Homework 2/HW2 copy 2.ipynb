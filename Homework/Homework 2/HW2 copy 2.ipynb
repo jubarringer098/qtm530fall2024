{
 "cells": [
  {
   "cell_type": "markdown",
   "metadata": {},
   "source": [
    "# I. Import Libraries and Data"
   ]
  },
  {
   "cell_type": "markdown",
   "metadata": {},
   "source": [
    "Questions for Dr. Sánchez Becerra\n",
    "1. Should I clean all fields of the data or just the ones I am going to use? For example, if I'm not planning on using the milliseconds field in the results table, do I still need to convert it to the correct data type? What about missing values?\n",
    "2. How thorough do my checks for data cleaning and validation need to be? For example, in the races table, can I assume that the values in the year column match the year specified in the date column?\n",
    "    Should I have checks for every new table I create?\n",
    "\n",
    "5. Should I check for outliers before or after the data is filtered and aggregated? For example, if I am using the points field in the results table but aggregating it across constructors and only for specific years, should I look at the point outliers of my new table or the original results table or both?\n",
    "\n",
    "7. Structure of code\n",
    "8. What was it that we should comment out vs. what we should show in our submission?\n",
    "\n",
    "\n",
    "\n",
    "Make code more concise \n",
    "- Get rid of cleaning variables that I am not using \n",
    "- Don't need to print dtypes or .describe()\n",
    "- Make use of lists/dictionaries instead of printing loads\n",
    "- Add a title\n",
    "- Add 3 bullet points of top findings \n",
    "- Make code more readable (e.g., dont just print out empty dataframe)\n",
    "- Don't need to check for duplicates for all - could just say \"no duplicates found\" \n",
    "- Dont break out by table, break out by check \n",
    "- Format results tables \n",
    "\n",
    "\n",
    "Questions: \n",
    "- Needed data\n",
    "- Steps \n",
    "- Table\n",
    "- Visualization\n",
    "- Findings "
   ]
  },
  {
   "cell_type": "markdown",
   "metadata": {},
   "source": [
    "### Key Libraries"
   ]
  },
  {
   "cell_type": "code",
   "execution_count": 1,
   "metadata": {},
   "outputs": [],
   "source": [
    "import numpy as np\n",
    "import pandas as pd\n",
    "import matplotlib.pyplot as plt\n",
    "import os "
   ]
  },
  {
   "cell_type": "markdown",
   "metadata": {},
   "source": [
    "### Read Datasets"
   ]
  },
  {
   "cell_type": "markdown",
   "metadata": {},
   "source": [
    "To answer questions a-e, I know that I need the following fields from the following tables:\n",
    "results:\n",
    "raceId, driverId, constructorId, number, positionOrder, points, fastestLapTime, rank\n",
    "races: raceId, year, \n",
    "constructors: "
   ]
  },
  {
   "cell_type": "code",
   "execution_count": 2,
   "metadata": {},
   "outputs": [],
   "source": [
    "import os \n",
    "base_dir = os.getcwd()\n",
    "#\"/Users/gracebarringer/qtm530fall2024/Lecture 03/data_raw\" # \n",
    "\n",
    "import os \n",
    "base_dir = os.getcwd()\n",
    "file_path = os.path.normpath(os.path.join(base_dir, \"../../\", \"Lecture 03/data_raw/\"))\n",
    "\n",
    "\n",
    "results_file_path = os.path.join(file_path, \"results.csv\")\n",
    "races_file_path = os.path.join(file_path, \"races.csv\")\n",
    "constructors_file_path = os.path.join(file_path, \"constructors.csv\")\n",
    "drivers_file_path = os.path.join(file_path, \"drivers.csv\")\n",
    "\n",
    "\n",
    "results = pd.read_csv(results_file_path)\n",
    "races = pd.read_csv(races_file_path)\n",
    "constructors = pd.read_csv(constructors_file_path)\n",
    "drivers = pd.read_csv(drivers_file_path)\n",
    "\n"
   ]
  },
  {
   "cell_type": "markdown",
   "metadata": {},
   "source": [
    "# II. Cleaning Data "
   ]
  },
  {
   "cell_type": "code",
   "execution_count": 3,
   "metadata": {},
   "outputs": [],
   "source": [
    "# Lists of fields I will be using from each data source\n",
    "results_cols = ['resultId', 'raceId', 'driverId', 'constructorId', 'positionOrder', 'points', 'fastestLapTime', 'fastestLapSpeed']\n",
    "races_cols = ['raceId', 'year']\n",
    "constructors_cols = ['constructorId', 'name']\n",
    "drivers_cols = ['driverId', 'forename', 'surname']"
   ]
  },
  {
   "cell_type": "markdown",
   "metadata": {},
   "source": [
    "For each table I will be using for the analysis, I want to conduct a few basic checks: \\\n",
    "&emsp;&emsp;1.\\) Check for correct data types \\\n",
    "&emsp;&emsp;2.\\) Check for duplicates \\\n",
    "&emsp;&emsp;3.\\) Check for missing values \\\n",
    "&emsp;&emsp;4.\\) Check for join integrity"
   ]
  },
  {
   "cell_type": "markdown",
   "metadata": {},
   "source": [
    "##### 1.\\) Checking for correct data types"
   ]
  },
  {
   "cell_type": "code",
   "execution_count": 4,
   "metadata": {},
   "outputs": [
    {
     "data": {
      "text/plain": [
       "resultId             int64\n",
       "raceId               int64\n",
       "driverId             int64\n",
       "constructorId        int64\n",
       "positionOrder        int64\n",
       "points             float64\n",
       "fastestLapTime      object\n",
       "fastestLapSpeed     object\n",
       "dtype: object"
      ]
     },
     "metadata": {},
     "output_type": "display_data"
    },
    {
     "data": {
      "text/plain": [
       "raceId    int64\n",
       "year      int64\n",
       "dtype: object"
      ]
     },
     "metadata": {},
     "output_type": "display_data"
    },
    {
     "data": {
      "text/plain": [
       "constructorId     int64\n",
       "name             object\n",
       "dtype: object"
      ]
     },
     "metadata": {},
     "output_type": "display_data"
    },
    {
     "data": {
      "text/plain": [
       "driverId     int64\n",
       "forename    object\n",
       "surname     object\n",
       "dtype: object"
      ]
     },
     "metadata": {},
     "output_type": "display_data"
    }
   ],
   "source": [
    "# Checking to ensure the data types match what's expected \n",
    "# Only for fields I will be using \n",
    "display(results[results_cols].dtypes)\n",
    "display(races[races_cols].dtypes)\n",
    "display(constructors[constructors_cols].dtypes)\n",
    "display(drivers[drivers_cols].dtypes)"
   ]
  },
  {
   "cell_type": "markdown",
   "metadata": {},
   "source": [
    "***Findings***\n",
    "- For each table, all used fields match the data types in the F1 codebook \n",
    "- fastestLapTime and fastestLapSpeed in the results table are objects. I want to look at them when determining Ferrari's best year so I am going to covert them into integers "
   ]
  },
  {
   "cell_type": "code",
   "execution_count": 5,
   "metadata": {},
   "outputs": [],
   "source": [
    "# # convert \\\\N to nan\n",
    "results[\"fastestLapTime\"] = results[\"fastestLapTime\"].replace('\\\\N', np.nan)\n",
    "# # split time \n",
    "# time_split = results['fastestLapTime_test'].str.split(':', expand=True)\n",
    "# print(time_split)\n",
    "# # results['test'] = pd.to_datetime(results['fastestLapTime_test'])\n",
    "# # display(results)\n",
    "\n",
    "results[\"fastestLapSpeed\"] = results[\"fastestLapSpeed\"].replace('\\\\N', np.nan)\n",
    "\n"
   ]
  },
  {
   "cell_type": "markdown",
   "metadata": {},
   "source": [
    "##### 2.\\) Checking for duplicates "
   ]
  },
  {
   "cell_type": "code",
   "execution_count": 6,
   "metadata": {},
   "outputs": [
    {
     "data": {
      "text/html": [
       "<div>\n",
       "<style scoped>\n",
       "    .dataframe tbody tr th:only-of-type {\n",
       "        vertical-align: middle;\n",
       "    }\n",
       "\n",
       "    .dataframe tbody tr th {\n",
       "        vertical-align: top;\n",
       "    }\n",
       "\n",
       "    .dataframe thead th {\n",
       "        text-align: right;\n",
       "    }\n",
       "</style>\n",
       "<table border=\"1\" class=\"dataframe\">\n",
       "  <thead>\n",
       "    <tr style=\"text-align: right;\">\n",
       "      <th></th>\n",
       "      <th>Table Name</th>\n",
       "      <th>Duplicate Check</th>\n",
       "      <th>Duplicate Count</th>\n",
       "    </tr>\n",
       "  </thead>\n",
       "  <tbody>\n",
       "    <tr>\n",
       "      <th>0</th>\n",
       "      <td>results</td>\n",
       "      <td>All Records</td>\n",
       "      <td>0</td>\n",
       "    </tr>\n",
       "    <tr>\n",
       "      <th>1</th>\n",
       "      <td>races</td>\n",
       "      <td>Race ID</td>\n",
       "      <td>0</td>\n",
       "    </tr>\n",
       "    <tr>\n",
       "      <th>2</th>\n",
       "      <td>constructors</td>\n",
       "      <td>Constructor ID</td>\n",
       "      <td>0</td>\n",
       "    </tr>\n",
       "    <tr>\n",
       "      <th>3</th>\n",
       "      <td>constructors</td>\n",
       "      <td>Constructor Name</td>\n",
       "      <td>0</td>\n",
       "    </tr>\n",
       "    <tr>\n",
       "      <th>4</th>\n",
       "      <td>drivers</td>\n",
       "      <td>Driver ID</td>\n",
       "      <td>0</td>\n",
       "    </tr>\n",
       "    <tr>\n",
       "      <th>5</th>\n",
       "      <td>drivers</td>\n",
       "      <td>Driver Full Name</td>\n",
       "      <td>0</td>\n",
       "    </tr>\n",
       "  </tbody>\n",
       "</table>\n",
       "</div>"
      ],
      "text/plain": [
       "     Table Name   Duplicate Check  Duplicate Count\n",
       "0       results       All Records                0\n",
       "1         races           Race ID                0\n",
       "2  constructors    Constructor ID                0\n",
       "3  constructors  Constructor Name                0\n",
       "4       drivers         Driver ID                0\n",
       "5       drivers  Driver Full Name                0"
      ]
     },
     "metadata": {},
     "output_type": "display_data"
    }
   ],
   "source": [
    "# Checking for duplicate records in results table - every record should be unique\n",
    "results_duplicates = results[results.duplicated()]\n",
    "\n",
    "# Checking for unique raceId in the races table - each record should represent a unique raceId \n",
    "# It is important for raceId to be unique because I will be using it to join year to the results table \n",
    "raceId_duplicates = races[races['raceId'].duplicated()]\n",
    "\n",
    "# Checking for unique constructorId in constructors table - each record should represent a unique constructorId\n",
    "# It is important for constructorId to be unique because I will be using it to join constructor name to the results table \n",
    "contructorId_duplicates = constructors[constructors['constructorId'].duplicated()]\n",
    "\n",
    "# Checking for unique name in constructors table - ensuring name formatting is consistent \n",
    "# To ensure no duplicate names, I need to normalize the name values to ensure that duplicate names are recognized if they exist\n",
    "constructors['normalizedName'] = constructors['name'].str.lower().str.strip()\n",
    "constructorName_duplicates = constructors[constructors['normalizedName'].duplicated()]\n",
    "\n",
    "\n",
    "# Checking for unique driverId in the drivers table - each record should represent a unique driverId\n",
    "# It is important for driverId to be unique because I will be using it to join driver name to the results table \n",
    "driverId_duplicates = drivers[drivers['driverId'].duplicated()]\n",
    "\n",
    "# Checking for unique driver names in drivers table - ensuring name formatting is consistent \n",
    "# To ensure no duplicate driver names, I need combine forename and surname then \n",
    "# normalize the values to ensure that duplicate names are recognized if they exist\n",
    "drivers['fullName'] = drivers['forename'] + \" \" + drivers['surname']\n",
    "drivers['normalizedfullName'] = drivers['fullName'].str.lower().str.strip()\n",
    "driverName_duplicates = drivers[drivers['normalizedfullName'].duplicated()]\n",
    "\n",
    "duplicate_dict = {'Table Name': ['results', 'races', 'constructors', 'constructors', 'drivers', 'drivers'],\n",
    "                  'Duplicate Check': ['All Records', 'Race ID', 'Constructor ID', 'Constructor Name', 'Driver ID', 'Driver Full Name'],\n",
    "                  'Duplicate Count': [len(results_duplicates), len(raceId_duplicates), len(contructorId_duplicates), len(constructorName_duplicates), len(driverId_duplicates), len(driverName_duplicates)]\n",
    "}\n",
    "\n",
    "duplicates = pd.DataFrame(duplicate_dict)\n",
    "\n",
    "display(duplicates)\n"
   ]
  },
  {
   "cell_type": "markdown",
   "metadata": {},
   "source": [
    "There are no duplicates in the unique IDs and records I will be using"
   ]
  },
  {
   "cell_type": "markdown",
   "metadata": {},
   "source": [
    "##### 3.\\) Checking for missing values"
   ]
  },
  {
   "cell_type": "code",
   "execution_count": 7,
   "metadata": {},
   "outputs": [
    {
     "data": {
      "text/html": [
       "<div>\n",
       "<style scoped>\n",
       "    .dataframe tbody tr th:only-of-type {\n",
       "        vertical-align: middle;\n",
       "    }\n",
       "\n",
       "    .dataframe tbody tr th {\n",
       "        vertical-align: top;\n",
       "    }\n",
       "\n",
       "    .dataframe thead th {\n",
       "        text-align: right;\n",
       "    }\n",
       "</style>\n",
       "<table border=\"1\" class=\"dataframe\">\n",
       "  <thead>\n",
       "    <tr style=\"text-align: right;\">\n",
       "      <th></th>\n",
       "      <th>Missing Count</th>\n",
       "      <th>Missing Share (%)</th>\n",
       "    </tr>\n",
       "  </thead>\n",
       "  <tbody>\n",
       "    <tr>\n",
       "      <th>resultId</th>\n",
       "      <td>0</td>\n",
       "      <td>0</td>\n",
       "    </tr>\n",
       "    <tr>\n",
       "      <th>raceId</th>\n",
       "      <td>0</td>\n",
       "      <td>0</td>\n",
       "    </tr>\n",
       "    <tr>\n",
       "      <th>driverId</th>\n",
       "      <td>0</td>\n",
       "      <td>0</td>\n",
       "    </tr>\n",
       "    <tr>\n",
       "      <th>constructorId</th>\n",
       "      <td>0</td>\n",
       "      <td>0</td>\n",
       "    </tr>\n",
       "    <tr>\n",
       "      <th>positionOrder</th>\n",
       "      <td>0</td>\n",
       "      <td>0</td>\n",
       "    </tr>\n",
       "    <tr>\n",
       "      <th>points</th>\n",
       "      <td>0</td>\n",
       "      <td>0</td>\n",
       "    </tr>\n",
       "    <tr>\n",
       "      <th>fastestLapTime</th>\n",
       "      <td>18461</td>\n",
       "      <td>71</td>\n",
       "    </tr>\n",
       "    <tr>\n",
       "      <th>fastestLapSpeed</th>\n",
       "      <td>18461</td>\n",
       "      <td>71</td>\n",
       "    </tr>\n",
       "  </tbody>\n",
       "</table>\n",
       "</div>"
      ],
      "text/plain": [
       "                 Missing Count  Missing Share (%)\n",
       "resultId                     0                  0\n",
       "raceId                       0                  0\n",
       "driverId                     0                  0\n",
       "constructorId                0                  0\n",
       "positionOrder                0                  0\n",
       "points                       0                  0\n",
       "fastestLapTime           18461                 71\n",
       "fastestLapSpeed          18461                 71"
      ]
     },
     "metadata": {},
     "output_type": "display_data"
    },
    {
     "data": {
      "text/html": [
       "<div>\n",
       "<style scoped>\n",
       "    .dataframe tbody tr th:only-of-type {\n",
       "        vertical-align: middle;\n",
       "    }\n",
       "\n",
       "    .dataframe tbody tr th {\n",
       "        vertical-align: top;\n",
       "    }\n",
       "\n",
       "    .dataframe thead th {\n",
       "        text-align: right;\n",
       "    }\n",
       "</style>\n",
       "<table border=\"1\" class=\"dataframe\">\n",
       "  <thead>\n",
       "    <tr style=\"text-align: right;\">\n",
       "      <th></th>\n",
       "      <th>Missing Count</th>\n",
       "      <th>Missing Share (%)</th>\n",
       "    </tr>\n",
       "  </thead>\n",
       "  <tbody>\n",
       "    <tr>\n",
       "      <th>raceId</th>\n",
       "      <td>0</td>\n",
       "      <td>0</td>\n",
       "    </tr>\n",
       "    <tr>\n",
       "      <th>year</th>\n",
       "      <td>0</td>\n",
       "      <td>0</td>\n",
       "    </tr>\n",
       "  </tbody>\n",
       "</table>\n",
       "</div>"
      ],
      "text/plain": [
       "        Missing Count  Missing Share (%)\n",
       "raceId              0                  0\n",
       "year                0                  0"
      ]
     },
     "metadata": {},
     "output_type": "display_data"
    },
    {
     "data": {
      "text/html": [
       "<div>\n",
       "<style scoped>\n",
       "    .dataframe tbody tr th:only-of-type {\n",
       "        vertical-align: middle;\n",
       "    }\n",
       "\n",
       "    .dataframe tbody tr th {\n",
       "        vertical-align: top;\n",
       "    }\n",
       "\n",
       "    .dataframe thead th {\n",
       "        text-align: right;\n",
       "    }\n",
       "</style>\n",
       "<table border=\"1\" class=\"dataframe\">\n",
       "  <thead>\n",
       "    <tr style=\"text-align: right;\">\n",
       "      <th></th>\n",
       "      <th>Missing Count</th>\n",
       "      <th>Missing Share (%)</th>\n",
       "    </tr>\n",
       "  </thead>\n",
       "  <tbody>\n",
       "    <tr>\n",
       "      <th>constructorId</th>\n",
       "      <td>0</td>\n",
       "      <td>0</td>\n",
       "    </tr>\n",
       "    <tr>\n",
       "      <th>name</th>\n",
       "      <td>0</td>\n",
       "      <td>0</td>\n",
       "    </tr>\n",
       "  </tbody>\n",
       "</table>\n",
       "</div>"
      ],
      "text/plain": [
       "               Missing Count  Missing Share (%)\n",
       "constructorId              0                  0\n",
       "name                       0                  0"
      ]
     },
     "metadata": {},
     "output_type": "display_data"
    },
    {
     "data": {
      "text/html": [
       "<div>\n",
       "<style scoped>\n",
       "    .dataframe tbody tr th:only-of-type {\n",
       "        vertical-align: middle;\n",
       "    }\n",
       "\n",
       "    .dataframe tbody tr th {\n",
       "        vertical-align: top;\n",
       "    }\n",
       "\n",
       "    .dataframe thead th {\n",
       "        text-align: right;\n",
       "    }\n",
       "</style>\n",
       "<table border=\"1\" class=\"dataframe\">\n",
       "  <thead>\n",
       "    <tr style=\"text-align: right;\">\n",
       "      <th></th>\n",
       "      <th>Missing Count</th>\n",
       "      <th>Missing Share (%)</th>\n",
       "    </tr>\n",
       "  </thead>\n",
       "  <tbody>\n",
       "    <tr>\n",
       "      <th>driverId</th>\n",
       "      <td>0</td>\n",
       "      <td>0</td>\n",
       "    </tr>\n",
       "    <tr>\n",
       "      <th>forename</th>\n",
       "      <td>0</td>\n",
       "      <td>0</td>\n",
       "    </tr>\n",
       "    <tr>\n",
       "      <th>surname</th>\n",
       "      <td>0</td>\n",
       "      <td>0</td>\n",
       "    </tr>\n",
       "  </tbody>\n",
       "</table>\n",
       "</div>"
      ],
      "text/plain": [
       "          Missing Count  Missing Share (%)\n",
       "driverId              0                  0\n",
       "forename              0                  0\n",
       "surname               0                  0"
      ]
     },
     "metadata": {},
     "output_type": "display_data"
    }
   ],
   "source": [
    "results_missing_count = results[results_cols].isna().sum()\n",
    "results_missing_share = ((results[results_cols].isna().sum()/results.shape[0])*100).round(0).astype(int)\n",
    "results_missing_table = pd.DataFrame({\n",
    "    'Missing Count': results_missing_count,\n",
    "    'Missing Share (%)': results_missing_share\n",
    "})\n",
    "\n",
    "races_missing_count = races[races_cols].isna().sum()\n",
    "races_missing_share = ((races[races_cols].isna().sum()/races.shape[0])*100).round(0).astype(int)\n",
    "races_missing_table = pd.DataFrame({\n",
    "    'Missing Count': races_missing_count,\n",
    "    'Missing Share (%)': races_missing_share\n",
    "})\n",
    "\n",
    "constructors_missing_count = constructors[constructors_cols].isna().sum()\n",
    "constructors_missing_share = ((constructors[constructors_cols].isna().sum()/constructors.shape[0])*100).round(0).astype(int)\n",
    "constructors_missing_table = pd.DataFrame({\n",
    "    'Missing Count': constructors_missing_count,\n",
    "    'Missing Share (%)': constructors_missing_share\n",
    "})\n",
    "\n",
    "drivers_missing_count = drivers[drivers_cols].isna().sum()\n",
    "drivers_missing_share = ((drivers[drivers_cols].isna().sum()/drivers.shape[0])*100).round(0).astype(int)\n",
    "drivers_missing_table = pd.DataFrame({\n",
    "    'Missing Count': drivers_missing_count,\n",
    "    'Missing Share (%)': drivers_missing_share\n",
    "})\n",
    "\n",
    "\n",
    "display(results_missing_table)\n",
    "display(races_missing_table)\n",
    "display(constructors_missing_table)\n",
    "display(drivers_missing_table)\n"
   ]
  },
  {
   "cell_type": "markdown",
   "metadata": {},
   "source": [
    "***Findings***\n",
    "- For each table except results, no fields have missing values \n",
    "- In the results table, fastestLapTime and fastestLapSpeed each are missing 71% of all values - in the later section I will see how these numbers look when querying for just Ferrari between 1981 and 2020"
   ]
  },
  {
   "cell_type": "markdown",
   "metadata": {},
   "source": [
    "#### 4.\\) Checking for join integrity "
   ]
  },
  {
   "cell_type": "markdown",
   "metadata": {},
   "source": [
    "In order to answer the questions in the homework, I will need to joins to pull in needed fields into the results table. \n",
    "- Questions a, b, and c: \n",
    "    - Pulling in year from the races table into the results table joining on raceId\n",
    "        - Need to ensure that there are no raceIds in the results table that are not in the races table. \n",
    "    - Pulling name from the constructors table into the results table joining on constructorId\n",
    "        - Need to ensure that there are no constructorIds in the results table that are not in the constructors table\n",
    "- Question \n"
   ]
  },
  {
   "cell_type": "code",
   "execution_count": 8,
   "metadata": {},
   "outputs": [
    {
     "name": "stdout",
     "output_type": "stream",
     "text": [
      "All raceId values in the results table are in the races table\n",
      "All constructorId values in the results table are in the constructors table\n"
     ]
    }
   ],
   "source": [
    "# Checking that all raceIds in the results table are in the races table \n",
    "missing_raceId = results[~results['raceId'].isin(races['raceId'])]\n",
    "if missing_raceId.empty:\n",
    "    print(\"All raceId values in the results table are in the races table\")\n",
    "else:\n",
    "    print(\"There are raceId values in the results table that are not in the races table\")\n",
    "\n",
    "# Checking that all constructorIds in the results table are in the constructors table \n",
    "missing_constructorId = results[~results['constructorId'].isin(constructors['constructorId'])]\n",
    "if missing_constructorId.empty:\n",
    "    print(\"All constructorId values in the results table are in the constructors table\")\n",
    "else:\n",
    "    print(\"There are constructorId values in the results table that are not in the constructors table\")\n"
   ]
  },
  {
   "cell_type": "markdown",
   "metadata": {},
   "source": [
    "# III. Questions and Answers\n"
   ]
  },
  {
   "cell_type": "markdown",
   "metadata": {},
   "source": [
    "## Question a"
   ]
  },
  {
   "cell_type": "markdown",
   "metadata": {},
   "source": [
    "**Data Required**\n",
    "- *results table:* raceId, constructorId, points\n",
    "- *races table:* raceId, year\n",
    "- *constructors table:* constructorId, name\n",
    "\n",
    "**Methodology**\n",
    "- Merge the races table to the results table on raceId to pull the year into the results table\n",
    "- Merge the constructor table to the results table on constructorId to pull the name (constructor name) into the results table\n",
    "- Aggregate the points by constructorId, name, and year \n",
    "- Filter to only years between 1981 and 2020, sum the points and count distinct years by constructorId and name (don't really need both)\n",
    "- Verify merges and filters occured correctly \n"
   ]
  },
  {
   "cell_type": "markdown",
   "metadata": {},
   "source": [
    "#### Creating dataset"
   ]
  },
  {
   "cell_type": "code",
   "execution_count": 9,
   "metadata": {},
   "outputs": [],
   "source": [
    "# Pulling year into results data using a join on raceId and selecting only needed columns \n",
    "results_merged_constructor = pd.merge(results[['raceId', 'constructorId', 'driverId', 'positionOrder','points', 'fastestLapTime', 'rank']],\n",
    "                       races[[\"raceId\", \"year\"]],\n",
    "                       on = \"raceId\",\n",
    "                       how = \"left\")\n",
    "\n",
    "# Pulling in constructor name from the constructors table \n",
    "results_merged_constructor = pd.merge(results_merged_constructor, constructors[['constructorId', 'name']], \n",
    "                          on = \"constructorId\",\n",
    "                          how = \"left\")\n",
    "\n",
    "# Created new dataframe with constructor points by year \n",
    "constructors_points_year = (results_merged_constructor.groupby([\"constructorId\", \"name\", \"year\"]).agg(points_by_year = ('points','sum'))).reset_index()\n",
    "\n",
    "\n",
    "# Querying for just years between 1981 and 2020, aggregating points by constructorId, and sorting by total points by constructor \n",
    "# Note: I am also getting the number of distinct years that each constructor competed during the time frame \n",
    "constructor_points_1981_2020 = (constructors_points_year.query(\"(year >= 1981) & (year <= 2020)\").groupby([\"constructorId\", \"name\"]).agg(total_points_1981_2020 = ('points_by_year','sum'), distinct_years = ('year', 'nunique')).sort_values(by = 'total_points_1981_2020', ascending = False)).reset_index()\n"
   ]
  },
  {
   "cell_type": "markdown",
   "metadata": {},
   "source": [
    "#### Verification Checks"
   ]
  },
  {
   "cell_type": "code",
   "execution_count": 10,
   "metadata": {},
   "outputs": [
    {
     "data": {
      "text/html": [
       "<div>\n",
       "<style scoped>\n",
       "    .dataframe tbody tr th:only-of-type {\n",
       "        vertical-align: middle;\n",
       "    }\n",
       "\n",
       "    .dataframe tbody tr th {\n",
       "        vertical-align: top;\n",
       "    }\n",
       "\n",
       "    .dataframe thead th {\n",
       "        text-align: right;\n",
       "    }\n",
       "</style>\n",
       "<table border=\"1\" class=\"dataframe\">\n",
       "  <thead>\n",
       "    <tr style=\"text-align: right;\">\n",
       "      <th></th>\n",
       "      <th>raceId</th>\n",
       "      <th>constructorId</th>\n",
       "      <th>driverId</th>\n",
       "      <th>positionOrder</th>\n",
       "      <th>points</th>\n",
       "    </tr>\n",
       "  </thead>\n",
       "  <tbody>\n",
       "    <tr>\n",
       "      <th>count</th>\n",
       "      <td>25840.000000</td>\n",
       "      <td>25840.000000</td>\n",
       "      <td>25840.000000</td>\n",
       "      <td>25840.000000</td>\n",
       "      <td>25840.000000</td>\n",
       "    </tr>\n",
       "    <tr>\n",
       "      <th>mean</th>\n",
       "      <td>531.425813</td>\n",
       "      <td>48.628328</td>\n",
       "      <td>261.732082</td>\n",
       "      <td>12.876006</td>\n",
       "      <td>1.877053</td>\n",
       "    </tr>\n",
       "    <tr>\n",
       "      <th>std</th>\n",
       "      <td>299.440908</td>\n",
       "      <td>59.732131</td>\n",
       "      <td>268.623016</td>\n",
       "      <td>7.712391</td>\n",
       "      <td>4.169849</td>\n",
       "    </tr>\n",
       "    <tr>\n",
       "      <th>min</th>\n",
       "      <td>1.000000</td>\n",
       "      <td>1.000000</td>\n",
       "      <td>1.000000</td>\n",
       "      <td>1.000000</td>\n",
       "      <td>0.000000</td>\n",
       "    </tr>\n",
       "    <tr>\n",
       "      <th>25%</th>\n",
       "      <td>293.000000</td>\n",
       "      <td>6.000000</td>\n",
       "      <td>56.000000</td>\n",
       "      <td>6.000000</td>\n",
       "      <td>0.000000</td>\n",
       "    </tr>\n",
       "    <tr>\n",
       "      <th>50%</th>\n",
       "      <td>514.000000</td>\n",
       "      <td>25.000000</td>\n",
       "      <td>163.000000</td>\n",
       "      <td>12.000000</td>\n",
       "      <td>0.000000</td>\n",
       "    </tr>\n",
       "    <tr>\n",
       "      <th>75%</th>\n",
       "      <td>784.000000</td>\n",
       "      <td>58.000000</td>\n",
       "      <td>360.000000</td>\n",
       "      <td>18.000000</td>\n",
       "      <td>2.000000</td>\n",
       "    </tr>\n",
       "    <tr>\n",
       "      <th>max</th>\n",
       "      <td>1096.000000</td>\n",
       "      <td>214.000000</td>\n",
       "      <td>856.000000</td>\n",
       "      <td>39.000000</td>\n",
       "      <td>50.000000</td>\n",
       "    </tr>\n",
       "  </tbody>\n",
       "</table>\n",
       "</div>"
      ],
      "text/plain": [
       "             raceId  constructorId      driverId  positionOrder        points\n",
       "count  25840.000000   25840.000000  25840.000000   25840.000000  25840.000000\n",
       "mean     531.425813      48.628328    261.732082      12.876006      1.877053\n",
       "std      299.440908      59.732131    268.623016       7.712391      4.169849\n",
       "min        1.000000       1.000000      1.000000       1.000000      0.000000\n",
       "25%      293.000000       6.000000     56.000000       6.000000      0.000000\n",
       "50%      514.000000      25.000000    163.000000      12.000000      0.000000\n",
       "75%      784.000000      58.000000    360.000000      18.000000      2.000000\n",
       "max     1096.000000     214.000000    856.000000      39.000000     50.000000"
      ]
     },
     "metadata": {},
     "output_type": "display_data"
    },
    {
     "data": {
      "text/html": [
       "<div>\n",
       "<style scoped>\n",
       "    .dataframe tbody tr th:only-of-type {\n",
       "        vertical-align: middle;\n",
       "    }\n",
       "\n",
       "    .dataframe tbody tr th {\n",
       "        vertical-align: top;\n",
       "    }\n",
       "\n",
       "    .dataframe thead th {\n",
       "        text-align: right;\n",
       "    }\n",
       "</style>\n",
       "<table border=\"1\" class=\"dataframe\">\n",
       "  <thead>\n",
       "    <tr style=\"text-align: right;\">\n",
       "      <th></th>\n",
       "      <th>raceId</th>\n",
       "      <th>constructorId</th>\n",
       "      <th>driverId</th>\n",
       "      <th>positionOrder</th>\n",
       "      <th>points</th>\n",
       "      <th>year</th>\n",
       "    </tr>\n",
       "  </thead>\n",
       "  <tbody>\n",
       "    <tr>\n",
       "      <th>count</th>\n",
       "      <td>25840.000000</td>\n",
       "      <td>25840.000000</td>\n",
       "      <td>25840.000000</td>\n",
       "      <td>25840.000000</td>\n",
       "      <td>25840.000000</td>\n",
       "      <td>25840.000000</td>\n",
       "    </tr>\n",
       "    <tr>\n",
       "      <th>mean</th>\n",
       "      <td>531.425813</td>\n",
       "      <td>48.628328</td>\n",
       "      <td>261.732082</td>\n",
       "      <td>12.876006</td>\n",
       "      <td>1.877053</td>\n",
       "      <td>1990.251780</td>\n",
       "    </tr>\n",
       "    <tr>\n",
       "      <th>std</th>\n",
       "      <td>299.440908</td>\n",
       "      <td>59.732131</td>\n",
       "      <td>268.623016</td>\n",
       "      <td>7.712391</td>\n",
       "      <td>4.169849</td>\n",
       "      <td>19.345632</td>\n",
       "    </tr>\n",
       "    <tr>\n",
       "      <th>min</th>\n",
       "      <td>1.000000</td>\n",
       "      <td>1.000000</td>\n",
       "      <td>1.000000</td>\n",
       "      <td>1.000000</td>\n",
       "      <td>0.000000</td>\n",
       "      <td>1950.000000</td>\n",
       "    </tr>\n",
       "    <tr>\n",
       "      <th>25%</th>\n",
       "      <td>293.000000</td>\n",
       "      <td>6.000000</td>\n",
       "      <td>56.000000</td>\n",
       "      <td>6.000000</td>\n",
       "      <td>0.000000</td>\n",
       "      <td>1976.000000</td>\n",
       "    </tr>\n",
       "    <tr>\n",
       "      <th>50%</th>\n",
       "      <td>514.000000</td>\n",
       "      <td>25.000000</td>\n",
       "      <td>163.000000</td>\n",
       "      <td>12.000000</td>\n",
       "      <td>0.000000</td>\n",
       "      <td>1990.000000</td>\n",
       "    </tr>\n",
       "    <tr>\n",
       "      <th>75%</th>\n",
       "      <td>784.000000</td>\n",
       "      <td>58.000000</td>\n",
       "      <td>360.000000</td>\n",
       "      <td>18.000000</td>\n",
       "      <td>2.000000</td>\n",
       "      <td>2007.000000</td>\n",
       "    </tr>\n",
       "    <tr>\n",
       "      <th>max</th>\n",
       "      <td>1096.000000</td>\n",
       "      <td>214.000000</td>\n",
       "      <td>856.000000</td>\n",
       "      <td>39.000000</td>\n",
       "      <td>50.000000</td>\n",
       "      <td>2022.000000</td>\n",
       "    </tr>\n",
       "  </tbody>\n",
       "</table>\n",
       "</div>"
      ],
      "text/plain": [
       "             raceId  constructorId      driverId  positionOrder        points  \\\n",
       "count  25840.000000   25840.000000  25840.000000   25840.000000  25840.000000   \n",
       "mean     531.425813      48.628328    261.732082      12.876006      1.877053   \n",
       "std      299.440908      59.732131    268.623016       7.712391      4.169849   \n",
       "min        1.000000       1.000000      1.000000       1.000000      0.000000   \n",
       "25%      293.000000       6.000000     56.000000       6.000000      0.000000   \n",
       "50%      514.000000      25.000000    163.000000      12.000000      0.000000   \n",
       "75%      784.000000      58.000000    360.000000      18.000000      2.000000   \n",
       "max     1096.000000     214.000000    856.000000      39.000000     50.000000   \n",
       "\n",
       "               year  \n",
       "count  25840.000000  \n",
       "mean    1990.251780  \n",
       "std       19.345632  \n",
       "min     1950.000000  \n",
       "25%     1976.000000  \n",
       "50%     1990.000000  \n",
       "75%     2007.000000  \n",
       "max     2022.000000  "
      ]
     },
     "metadata": {},
     "output_type": "display_data"
    }
   ],
   "source": [
    "# Ensure that no data was lost, gained or altered during the join by comparing the descriptive statistics of results_merged_constructor to those of results\n",
    "display(results[['raceId', 'constructorId', 'driverId', 'positionOrder', 'points', 'fastestLapTime', 'rank']].describe())\n",
    "display(results_merged_constructor.describe())"
   ]
  },
  {
   "cell_type": "code",
   "execution_count": 15,
   "metadata": {},
   "outputs": [
    {
     "name": "stdout",
     "output_type": "stream",
     "text": [
      "Merged row check passed\n",
      "Query/Aggregation row check passed\n"
     ]
    },
    {
     "data": {
      "text/plain": [
       "raceId                0\n",
       "constructorId         0\n",
       "driverId              0\n",
       "positionOrder         0\n",
       "points                0\n",
       "fastestLapTime    18461\n",
       "rank                  0\n",
       "year                  0\n",
       "name                  0\n",
       "dtype: int64"
      ]
     },
     "execution_count": 15,
     "metadata": {},
     "output_type": "execute_result"
    }
   ],
   "source": [
    "# Ensure row count in results_merged_constructor is the same as the results table\n",
    "if results.shape[0] == results_merged_constructor.shape[0]:\n",
    "    print('Merged row check passed')\n",
    "else:\n",
    "    print('Merged row check failed')\n",
    "\n",
    "\n",
    "# Ensuring we have the correct number of rows after filtering\n",
    "# During the time period 1981 and 2020, I would expect the number of constructors to be computed by this: \n",
    "constructor_count_1981_2020 = results_merged_constructor.query(\"(year >= 1981) & (year <= 2020)\")['constructorId'].nunique()\n",
    "# Since the constructor_points_1981_2020 table is aggregated at the constructor level, I expect that the number of rows in that table should be equal to constructor_count_1981_2020\n",
    "if constructor_count_1981_2020 == constructor_points_1981_2020.shape[0]:\n",
    "    print('Query/Aggregation row check passed')\n",
    "else:\n",
    "    print('Query/Aggregation row check failed')\n",
    "\n",
    "# Check for missing data \n",
    "results_merged_constructor.isnull().sum()"
   ]
  },
  {
   "cell_type": "markdown",
   "metadata": {},
   "source": [
    "**Verification Checks**\n",
    "- The new tables seem to have the correct number of rows and are not many any values"
   ]
  },
  {
   "cell_type": "markdown",
   "metadata": {},
   "source": [
    "#### Results and Visualizations "
   ]
  },
  {
   "cell_type": "code",
   "execution_count": 18,
   "metadata": {},
   "outputs": [
    {
     "ename": "AttributeError",
     "evalue": "'Table' object has no attribute 'axis'",
     "output_type": "error",
     "traceback": [
      "\u001b[0;31m---------------------------------------------------------------------------\u001b[0m",
      "\u001b[0;31mAttributeError\u001b[0m                            Traceback (most recent call last)",
      "Cell \u001b[0;32mIn[18], line 7\u001b[0m\n\u001b[1;32m      2\u001b[0m table \u001b[38;5;241m=\u001b[39m plt\u001b[38;5;241m.\u001b[39mtable(cellText\u001b[38;5;241m=\u001b[39mconstructor_points_1981_2020\u001b[38;5;241m.\u001b[39miloc[\u001b[38;5;241m0\u001b[39m:\u001b[38;5;241m3\u001b[39m, :]\u001b[38;5;241m.\u001b[39mvalues, \n\u001b[1;32m      3\u001b[0m                   colLabels\u001b[38;5;241m=\u001b[39mconstructor_points_1981_2020\u001b[38;5;241m.\u001b[39mcolumns, \n\u001b[1;32m      4\u001b[0m                   loc\u001b[38;5;241m=\u001b[39m\u001b[38;5;124m'\u001b[39m\u001b[38;5;124mcenter\u001b[39m\u001b[38;5;124m'\u001b[39m, cellLoc\u001b[38;5;241m=\u001b[39m\u001b[38;5;124m'\u001b[39m\u001b[38;5;124mcenter\u001b[39m\u001b[38;5;124m'\u001b[39m)\n\u001b[1;32m      6\u001b[0m table\u001b[38;5;241m.\u001b[39mscale(\u001b[38;5;241m1\u001b[39m, \u001b[38;5;241m2\u001b[39m)  \u001b[38;5;66;03m# Adjust table size\u001b[39;00m\n\u001b[0;32m----> 7\u001b[0m table\u001b[38;5;241m.\u001b[39maxis(\u001b[38;5;124m'\u001b[39m\u001b[38;5;124moff\u001b[39m\u001b[38;5;124m'\u001b[39m)\n",
      "\u001b[0;31mAttributeError\u001b[0m: 'Table' object has no attribute 'axis'"
     ]
    },
    {
     "data": {
      "image/png": "[encoded data removed]",
      "text/plain": [
       "<Figure size 640x480 with 1 Axes>"
      ]
     },
     "metadata": {},
     "output_type": "display_data"
    }
   ],
   "source": []
  },
  {
   "cell_type": "code",
   "execution_count": 26,
   "metadata": {},
   "outputs": [],
   "source": [
    "# Getting the names of the top 3 constructors to compute the average \n",
    "top_3_constructor_1981_2020 = constructor_points_1981_2020.iloc[0:3,:]['name']\n",
    "\n",
    "# Getting the average total points between 1981 and 2020 for top 3 constructors \n",
    "top_3_avg_total_points_1981_2020 = constructor_points_1981_2020[constructor_points_1981_2020['name'].isin(top_3_constructor_1981_2020)]['total_points_1981_2020'].mean()\n",
    "\n",
    "# Clean up column names and format\n",
    "constructor_points_1981_2020_clean = constructor_points_1981_2020.rename(columns={\n",
    "    'name': 'Constructor Name',\n",
    "    'total_points_1981_2020': 'Total Points (1981-2020)',\n",
    "    'distinct_years': 'Years Competed (1981-2020)'\n",
    "}).drop(columns = ['constructorId'])\n",
    "constructor_points_1981_2020_clean['Total Points (1981-2020)'] = constructor_points_1981_2020_clean['Total Points (1981-2020)'].round(0).astype(int)"
   ]
  },
  {
   "cell_type": "code",
   "execution_count": 50,
   "metadata": {},
   "outputs": [
    {
     "data": {
      "image/png": "[encoded data removed]",
      "text/plain": [
       "<Figure size 1200x400 with 2 Axes>"
      ]
     },
     "metadata": {},
     "output_type": "display_data"
    }
   ],
   "source": [
    "# Creating a plot with 1 row, 2 columns\n",
    "fig, list_subfig = plt.subplots(1, 2,figsize = (12,4))\n",
    "\n",
    "plt.tight_layout()\n",
    "plt.subplots_adjust(wspace=0.1)\n",
    "\n",
    "# First Subfigure (Bar Chart for Top 3 Constructors 1981 - 2020)\n",
    "bars = list_subfig[0].bar(constructor_points_1981_2020_clean.iloc[0:3,:]['Constructor Name'], constructor_points_1981_2020_clean.iloc[0:3,:]['Total Points (1981-2020)'], color='blue')\n",
    "list_subfig[0].axhline(y=top_3_avg_total_points_1981_2020, color='red', linestyle='--', label=f'Average Points Across Top 3 Constructors: {top_3_avg_total_points_1981_2020:.0f}')\n",
    "\n",
    "for bar in bars:\n",
    "    yval = bar.get_height()  # Get the height of the bar (total points)\n",
    "    list_subfig[0].text(bar.get_x() + bar.get_width()/2, yval, f'{yval:,.0f}', ha='center', va='bottom', fontsize=10)\n",
    "\n",
    "list_subfig[0].set_xlabel('Constructor')\n",
    "list_subfig[0].set_ylabel('Total Points (1981-2020)')\n",
    "list_subfig[0].set_title('Top 3 Constructors by Total Points (1981-2020)')\n",
    "list_subfig[0].set_ylim(0, 8000)\n",
    "list_subfig[0].legend()\n",
    "\n",
    "\n",
    "# Second Subfigure (Table for Top 3 Constructors 1981 - 2020)\n",
    "\n",
    "#Formatting column headers \n",
    "constructor_points_1981_2020_clean_wrapped = ['Constructor Name', 'Total Points\\n(1981-2020)', 'Years Competed\\n(1981-2020)']\n",
    "\n",
    "\n",
    "table = list_subfig[1].table(cellText=constructor_points_1981_2020_clean.iloc[0:3, :].values, \n",
    "                  colLabels=constructor_points_1981_2020_clean_wrapped, \n",
    "                  loc='center', cellLoc='center')\n",
    "\n",
    "table.scale(0.9, 3)  # Adjust table size\n",
    "list_subfig[1].axis('off')\n",
    "list_subfig[1].set_title('Top 3 Constructors by Total Points (1981-2020)')\n",
    "\n",
    "\n",
    "# Format the table\n",
    "table.auto_set_font_size(False)\n",
    "table.set_fontsize(10) \n",
    "\n",
    "# Loop through each cell and apply formatting\n",
    "for (i, j), cell in table.get_celld().items():\n",
    "    if i == 0:  # Header row\n",
    "        cell.set_facecolor('blue')  \n",
    "        cell.set_text_props(color='white', weight='bold', fontsize=10)  \n",
    "    else:  \n",
    "        pass\n",
    "    cell.set_edgecolor('black')  \n",
    "\n",
    "\n",
    "\n"
   ]
  },
  {
   "cell_type": "code",
   "execution_count": 13,
   "metadata": {},
   "outputs": [
    {
     "data": {
      "image/png": "[encoded data removed]",
      "text/plain": [
       "<Figure size 700x400 with 1 Axes>"
      ]
     },
     "metadata": {},
     "output_type": "display_data"
    }
   ],
   "source": [
    "# Create a bar chart for the top 3 constructors\n",
    "plt.figure(figsize=(7, 4))\n",
    "bars = plt.bar(constructor_points_1981_2020_clean.iloc[0:3,:]['Constructor Name'], constructor_points_1981_2020_clean.iloc[0:3,:]['Total Points (1981-2020)'], color='blue')\n",
    "plt.axhline(y=top_3_avg_total_points_1981_2020, color='red', linestyle='--', label=f'Average Points Across Top 3 Constructors: {top_3_avg_total_points_1981_2020:.0f}')\n",
    "\n",
    "for bar in bars:\n",
    "    yval = bar.get_height()  # Get the height of the bar (total points)\n",
    "    plt.text(bar.get_x() + bar.get_width()/2, yval, f'{yval:,.0f}', ha='center', va='bottom', fontsize=10)\n",
    "\n",
    "\n",
    "plt.xlabel('Constructor')\n",
    "plt.ylabel('Total Points (1981-2020)')\n",
    "plt.title('Top 3 Constructors by Total Points (1981-2020)')\n",
    "plt.ylim(0, 8000)\n",
    "plt.legend()\n",
    "\n",
    "# Create a table from the top 3 constructors data\n",
    "table = plt.table(cellText=constructor_points_1981_2020_clean.iloc[0:3, :].values, \n",
    "                  colLabels=constructor_points_1981_2020_clean.columns, \n",
    "                  loc='center', cellLoc='center')\n",
    "\n",
    "table.scale(1, 2)  # Adjust table size\n",
    "table.axis('off')\n",
    "\n",
    "# Display the plot\n",
    "plt.show()"
   ]
  },
  {
   "cell_type": "code",
   "execution_count": 14,
   "metadata": {},
   "outputs": [
    {
     "data": {
      "text/html": [
       "<div>\n",
       "<style scoped>\n",
       "    .dataframe tbody tr th:only-of-type {\n",
       "        vertical-align: middle;\n",
       "    }\n",
       "\n",
       "    .dataframe tbody tr th {\n",
       "        vertical-align: top;\n",
       "    }\n",
       "\n",
       "    .dataframe thead th {\n",
       "        text-align: right;\n",
       "    }\n",
       "</style>\n",
       "<table border=\"1\" class=\"dataframe\">\n",
       "  <thead>\n",
       "    <tr style=\"text-align: right;\">\n",
       "      <th></th>\n",
       "      <th>constructorId</th>\n",
       "      <th>name</th>\n",
       "      <th>total_points_1981_2020</th>\n",
       "      <th>distinct_years</th>\n",
       "    </tr>\n",
       "  </thead>\n",
       "  <tbody>\n",
       "    <tr>\n",
       "      <th>0</th>\n",
       "      <td>6</td>\n",
       "      <td>Ferrari</td>\n",
       "      <td>7374.0</td>\n",
       "      <td>40</td>\n",
       "    </tr>\n",
       "    <tr>\n",
       "      <th>1</th>\n",
       "      <td>131</td>\n",
       "      <td>Mercedes</td>\n",
       "      <td>5685.0</td>\n",
       "      <td>11</td>\n",
       "    </tr>\n",
       "    <tr>\n",
       "      <th>2</th>\n",
       "      <td>1</td>\n",
       "      <td>McLaren</td>\n",
       "      <td>5229.5</td>\n",
       "      <td>40</td>\n",
       "    </tr>\n",
       "  </tbody>\n",
       "</table>\n",
       "</div>"
      ],
      "text/plain": [
       "   constructorId      name  total_points_1981_2020  distinct_years\n",
       "0              6   Ferrari                  7374.0              40\n",
       "1            131  Mercedes                  5685.0              11\n",
       "2              1   McLaren                  5229.5              40"
      ]
     },
     "metadata": {},
     "output_type": "display_data"
    },
    {
     "name": "stdout",
     "output_type": "stream",
     "text": [
      "Average total points across top 3 constructors between 1981 and 2020:  6096\n"
     ]
    }
   ],
   "source": [
    "display(constructor_points_1981_2020.iloc[0:3,:])\n",
    "print(\"Average total points across top 3 constructors between 1981 and 2020: \", int(top_3_avg_total_points_1981_2020))"
   ]
  },
  {
   "cell_type": "markdown",
   "metadata": {},
   "source": [
    "**Answers:**\n",
    "- Ferrari, Mercedes, and McLaren had the highest number of total points between 1981 and 2020\n",
    "\n",
    "- Between 1981 and 2020, Ferrari got 7,374 total points, Mercedes got 5,685 total points, and McLaren got 5,230 total points (5,229.5)\n",
    "\n",
    "- As shown in the bar chart above, both Mercedes and McLaren are below the average of the top 3 indicating that Ferrari dominates in terms of total points accumulated between 1981 and 2020, though Mercedes and McLaren are still strong performers. Also, between 1981 and 2020, mercedes only competed for 11 years while Ferrari and McLaren both competed for all 40 years. "
   ]
  },
  {
   "cell_type": "code",
   "execution_count": null,
   "metadata": {},
   "outputs": [],
   "source": [
    " = pd.merge(results[['raceId', 'constructorId', 'driverId', 'positionOrder','points', 'fastestLapTime', 'rank']],\n",
    "                       races[[\"raceId\", \"year\"]],\n",
    "                       on = \"raceId\",\n",
    "                       how = \"left\")\n",
    "\n",
    "# Pulling in constructor name from the constructors table \n",
    "results_merged = pd.merge(results_merged, constructors[['constructorId', 'name']], \n",
    "                          on = \"constructorId\",\n",
    "                          how = \"left\")\n",
    "\n",
    "# Querying for just years between 1981 and 2020, aggregating points by constructorId, and sorting by total points by constructor \n",
    "# Note: I am also getting the number of distinct years that each constructor competed during the time frame \n",
    "constructor_points_1981_2020 = (constructors_agg.query(\"(year >= 1981) & (year <= 2020)\").groupby([\"constructorId\", \"name\"]).agg(total_points_1981_2020 = ('points_by_year','sum'), distinct_years = ('year', 'nunique')).sort_values(by = 'total_points_1981_2020', ascending = False)).reset_index()\n",
    "\n",
    "\n",
    "# Created new dataframe with constructor points by year \n",
    "constructors_agg = (results_merged.groupby([\"constructorId\", \"name\", \"year\"]).agg(points_by_year = ('points','sum'))).reset_index()\n",
    "\n",
    "\n",
    "\n"
   ]
  },
  {
   "cell_type": "markdown",
   "metadata": {},
   "source": [
    "#### Checking for missing values in rank for Ferrari between 1981 and 2020"
   ]
  },
  {
   "cell_type": "code",
   "execution_count": null,
   "metadata": {},
   "outputs": [],
   "source": [
    "ferrari_1981_2020 = results_merged.query(\"(year >= 1981) & (year <= 2020) & (name == 'Ferrari')\")\n",
    "\n",
    "print(\"Missing value count rank: \", ferrari_1981_2020['rank'].isna().sum())\n",
    "\n",
    "# display(ferrari_1981_2020)"
   ]
  },
  {
   "cell_type": "markdown",
   "metadata": {},
   "source": [
    "#### Question b"
   ]
  },
  {
   "cell_type": "markdown",
   "metadata": {},
   "source": [
    "##### Creating data frame"
   ]
  },
  {
   "cell_type": "code",
   "execution_count": 29,
   "metadata": {},
   "outputs": [],
   "source": [
    "# Note: using constructors_agg from question a\n",
    "\n",
    "# Querying for just years between 2001 and 2020, aggregating points by constructorId, and sorting by total points by constructor \n",
    "# Note: I am also getting the number of distinct years that each constructor competed during the time frame \n",
    "constructor_points_2001_2020 = (constructors_agg.query(\"(year >= 2001) & (year <= 2020)\").groupby([\"constructorId\", \"name\"]).agg(total_points_2001_2020 = ('points_by_year','sum'), distinct_years = ('year', 'nunique')).sort_values(by = 'total_points_2001_2020', ascending = False)).reset_index()\n"
   ]
  },
  {
   "cell_type": "markdown",
   "metadata": {},
   "source": [
    "##### Checking data frame"
   ]
  },
  {
   "cell_type": "code",
   "execution_count": null,
   "metadata": {},
   "outputs": [],
   "source": []
  },
  {
   "cell_type": "markdown",
   "metadata": {},
   "source": [
    "Note: \n",
    "- Will be using analysis from questions a and b to answer question c\n",
    "- Will be using results_merged to compute question d directly\n"
   ]
  },
  {
   "cell_type": "markdown",
   "metadata": {},
   "source": [
    "#### Question e\n",
    "\n"
   ]
  },
  {
   "cell_type": "markdown",
   "metadata": {},
   "source": [
    "There are a few different metrics I want to look at to determine Ferrari's best year between 1981 and 2020:\n",
    "- Total number of points accumulated in each year - directly indicates performance in each season\n",
    "- Average number of points per race in each year \n",
    "- The number of races won in each year (also show relative to total races) - measure of dominance\n",
    "- The number of total podium finishes in each year (also show relative to total races) - measure of consistency \n",
    "- The fastestLap for each year - could be an indicator of Ferrari's potential speed"
   ]
  },
  {
   "cell_type": "markdown",
   "metadata": {},
   "source": [
    "##### Creating data frame"
   ]
  },
  {
   "cell_type": "code",
   "execution_count": null,
   "metadata": {},
   "outputs": [],
   "source": [
    "\n",
    "\n",
    "\n",
    "constructors_agg = (results_merged.groupby([\"constructorId\", \"name\", \"year\"]).agg(total_points_by_year = ('points','sum'), avg_points_by_year = ('points', 'mean'), '')).reset_index()\n"
   ]
  },
  {
   "cell_type": "code",
   "execution_count": null,
   "metadata": {},
   "outputs": [],
   "source": [
    "display(results_merged)"
   ]
  },
  {
   "cell_type": "markdown",
   "metadata": {},
   "source": [
    "# IV. Results, visualizations and answers to each question"
   ]
  },
  {
   "cell_type": "markdown",
   "metadata": {},
   "source": [
    "## Question a"
   ]
  },
  {
   "cell_type": "markdown",
   "metadata": {},
   "source": [
    "#### Top 3 constructors by total points and average total points across top 3 contructors between 1981 and 2020"
   ]
  },
  {
   "cell_type": "code",
   "execution_count": null,
   "metadata": {},
   "outputs": [],
   "source": [
    "# Getting the names of the top 3 constructors to compute the average \n",
    "top_3_constructor_1981_2020 = constructor_points_1981_2020.iloc[0:3,:]['name']\n",
    "\n",
    "# Getting the average total points between 1981 and 2020 for top 3 constructors \n",
    "top_3_avg_total_points_1981_2020 = constructor_points_1981_2020[constructor_points_1981_2020['name'].isin(top_3_constructor_1981_2020)]['total_points_1981_2020'].mean()\n",
    "\n",
    "# showing the top 3 constructors by total points between 1981 to 2020\n",
    "display(constructor_points_1981_2020.iloc[0:3,:])\n",
    "\n",
    "# printing the average total points for the top 3 constructors\n",
    "print(\"Average total points across top 3 constructors between 1981 and 2020 \", top_3_avg_total_points_1981_2020)"
   ]
  },
  {
   "cell_type": "markdown",
   "metadata": {},
   "source": [
    "#### Visualization of top 3 constructors by total points and average total points across top 3 constructors between 1981 and 2020"
   ]
  },
  {
   "cell_type": "code",
   "execution_count": null,
   "metadata": {},
   "outputs": [],
   "source": [
    "# Create a bar chart for the top 3 constructors\n",
    "plt.figure(figsize=(7, 4))\n",
    "bars = plt.bar(constructor_points_1981_2020.iloc[0:3,:]['name'], constructor_points_1981_2020.iloc[0:3,:]['total_points_1981_2020'], color='blue')\n",
    "plt.axhline(y=top_3_avg_total_points_1981_2020, color='red', linestyle='--', label=f'Average Points Across Top 3 Constructors: {top_3_avg_total_points_1981_2020:.0f}')\n",
    "\n",
    "for bar in bars:\n",
    "    yval = bar.get_height()  # Get the height of the bar (total points)\n",
    "    plt.text(bar.get_x() + bar.get_width()/2, yval, f'{yval:,.0f}', ha='center', va='bottom', fontsize=10)\n",
    "\n",
    "\n",
    "plt.xlabel('Constructor')\n",
    "plt.ylabel('Total Points (1981-2020)')\n",
    "plt.title('Top 3 Constructors by Total Points (1981-2020)')\n",
    "plt.ylim(0, 8000)\n",
    "plt.legend()\n",
    "\n",
    "# Display the plot\n",
    "plt.show()\n",
    "\n"
   ]
  },
  {
   "cell_type": "markdown",
   "metadata": {},
   "source": [
    "### Answers\n",
    "\n",
    "| Constructor | Total Points Between 1981 and 2020 | Years Competed between 1981 and 2020 |\n",
    "|-------------|------------------------------------|--------------------------------------|\n",
    "| Ferrari     | 7,374                              | 40                                   |\n",
    "| Mercedes    | 5,685                              | 11                                   |\n",
    "| McLaren     | 5,230                              | 40                                   |\n",
    "\n",
    "Avergage total points across top 3 constructors between 1981 and 2020 was 6,096 points\n",
    "\n",
    "\n"
   ]
  },
  {
   "cell_type": "code",
   "execution_count": null,
   "metadata": {},
   "outputs": [],
   "source": [
    "# showing the top 3 constructors by total points between 1981 to 2020\n",
    "display(constructor_points_1981_2020.iloc[0:3,:])"
   ]
  },
  {
   "cell_type": "markdown",
   "metadata": {},
   "source": [
    "#### Ferrari, Mercedes, and McLaren had the highest number of total points between 1981 and 2020\n",
    "\n",
    "#### Between 1981 and 2020, Ferrari got 7,374 total points, Mercedes got 5,685 total points, and McLaren got 5,230 total points (5,229.5)\n",
    "\n",
    "#### As shown in the bar chart above, both Mercedes and McLaren are below the average of the top 3 indicating that Ferrari dominates in terms of total points accumulated between 1981 and 2020, though Mercedes and McLaren are still strong performers. Also, between 1981 and 2020, mercedes only competed for 11 years while Ferrari and McLaren both competed for all 40 years. \n"
   ]
  },
  {
   "cell_type": "markdown",
   "metadata": {},
   "source": [
    "## Question b"
   ]
  },
  {
   "cell_type": "markdown",
   "metadata": {},
   "source": [
    "#### Top 3 constructors by total points and average total points across top 3 contructors between 2001 and 2020"
   ]
  },
  {
   "cell_type": "code",
   "execution_count": null,
   "metadata": {},
   "outputs": [],
   "source": [
    "# Getting the names of the top 3 constructors to compute the average \n",
    "top_3_constructor_2001_2020 = constructor_points_2001_2020.iloc[0:3,:]['name']\n",
    "\n",
    "# Getting the average total points between 2001 and 2020 for top 3 constructors \n",
    "top_3_avg_total_points_2001_2020 = constructor_points_2001_2020[constructor_points_2001_2020['name'].isin(top_3_constructor_2001_2020)]['total_points_2001_2020'].mean()\n",
    "\n",
    "# showing the top 3 constructors by total points between 2001 to 2020\n",
    "display(constructor_points_2001_2020.iloc[0:3,:])\n",
    "\n",
    "# printing the average total points for the top 3 constructors\n",
    "print(\"Average total points across top 3 constructors between 2001 and 2020 \", top_3_avg_total_points_2001_2020)"
   ]
  },
  {
   "cell_type": "markdown",
   "metadata": {},
   "source": [
    "#### Visualization of top 3 constructors by total points and average total points across top 3 constructors between 2001 and 2020"
   ]
  },
  {
   "cell_type": "code",
   "execution_count": null,
   "metadata": {},
   "outputs": [],
   "source": [
    "# Create a bar chart for the top 3 constructors\n",
    "\n",
    "plt.figure(figsize=(7, 4))\n",
    "bars = plt.bar(constructor_points_2001_2020.iloc[0:3,:]['name'], constructor_points_2001_2020.iloc[0:3,:]['total_points_2001_2020'], color='blue')\n",
    "plt.axhline(y=top_3_avg_total_points_2001_2020, color='red', linestyle='--', label=f'Average Points Across Top 3 Constructors: {top_3_avg_total_points_2001_2020:.0f}')\n",
    "\n",
    "for bar in bars:\n",
    "    yval = bar.get_height()  # Get the height of the bar (total points)\n",
    "    plt.text(bar.get_x() + bar.get_width()/2, yval, f'{yval:,.0f}', ha='center', va='bottom', fontsize=10)\n",
    "\n",
    "plt.ylim(0, 7000)\n",
    "plt.xlabel('Constructor')\n",
    "plt.ylabel('Total Points (2001-2020)')\n",
    "plt.title('Top 3 Constructors by Total Points (2001-2020)')\n",
    "plt.legend() \n",
    "\n",
    "# Display the plot\n",
    "plt.show()"
   ]
  },
  {
   "cell_type": "markdown",
   "metadata": {},
   "source": [
    "### Answers\n",
    "| Constructor | Total Points Between 2001 and 2020 | Years Competed Between 2001 and 2020 |\n",
    "|-------------|------------------------------------|--------------------------------------|\n",
    "| Ferrari     | 5,862                              | 20                                   |\n",
    "| Mercedes    | 5,685                              | 11                                   |\n",
    "| Red Bull    | 5,044                              | 16                                   |\n",
    "\n",
    "Avergage total points across top 3 constructors between 2001 and 2020 was 5,530 points\n",
    "\n",
    "#### Ferrari, Mercedes, and Red Bull had the highest number of total points between 2001 and 2020\n",
    "\n",
    "#### Between 2001 and 2020, Ferrari got 5,862 total points, Mercedes got 5,685 total points, and Red Bull got 5,004 total points; note that Mercedes has the same number of total points between 1981 and 2020, and between 2001 and 2020 because within those time periods, they only started racing from 2010 onwards.\n",
    "\n",
    "#### As shown in the bar chart above, both Ferrari and Mercedes are above the average total points for the top 3 indicating the close competition between them in this period. Red bull is slightly below average but is still a strong competitor. Ferrari has also been racing for more years during this time period than the other constructors. \n"
   ]
  },
  {
   "cell_type": "markdown",
   "metadata": {},
   "source": [
    "## Question c"
   ]
  },
  {
   "cell_type": "markdown",
   "metadata": {},
   "source": [
    "#### Comparing tables and bar charts from questions a and b "
   ]
  },
  {
   "cell_type": "code",
   "execution_count": null,
   "metadata": {},
   "outputs": [],
   "source": [
    "# Creating a plot with 1 row, 2 columns\n",
    "fig, list_subfig = plt.subplots(1, 2,figsize = (12,4))\n",
    "\n",
    "\n",
    "plt.tight_layout()\n",
    "plt.subplots_adjust(wspace=0.4)\n",
    "# First Subfigure (Bar Chart for Top 3 Constructors 1981 - 2020)\n",
    "bars = list_subfig[0].bar(constructor_points_1981_2020.iloc[0:3,:]['name'], constructor_points_1981_2020.iloc[0:3,:]['total_points_1981_2020'], color='blue')\n",
    "list_subfig[0].axhline(y=top_3_avg_total_points_1981_2020, color='red', linestyle='--', label=f'Avg Points Across Top 3: {top_3_avg_total_points_1981_2020:.0f}')\n",
    "\n",
    "for bar in bars:\n",
    "    yval = bar.get_height()  # Get the height of the bar (total points)\n",
    "    list_subfig[0].text(bar.get_x() + bar.get_width()/2, yval, f'{yval:,.0f}', ha='center', va='bottom', fontsize=10)\n",
    "\n",
    "list_subfig[0].set_xlabel('Constructor')\n",
    "list_subfig[0].set_ylabel('Total Points (1981-2020)')\n",
    "list_subfig[0].set_title('Top 3 Constructors by Total Points (1981-2020)')\n",
    "list_subfig[0].set_ylim(0, 8000)\n",
    "list_subfig[0].legend()\n",
    "\n",
    "\n",
    "\n",
    "# Second Subfigure (Bar Chart for Top 3 Constructors 2021 - 2020)\n",
    "bars = list_subfig[1].bar(constructor_points_2001_2020.iloc[0:3,:]['name'], constructor_points_2001_2020.iloc[0:3,:]['total_points_2001_2020'], color='blue')\n",
    "list_subfig[1].axhline(y=top_3_avg_total_points_2001_2020, color='red', linestyle='--', label=f'Avg Points Across Top 3: {top_3_avg_total_points_2001_2020:.0f}')\n",
    "\n",
    "for bar in bars:\n",
    "    yval = bar.get_height()  # Get the height of the bar (total points)\n",
    "    list_subfig[1].text(bar.get_x() + bar.get_width()/2, yval, f'{yval:,.0f}', ha='center', va='bottom', fontsize=10)\n",
    "\n",
    "list_subfig[1].set_xlabel('Constructor')\n",
    "list_subfig[1].set_ylabel('Total Points (2001-2020)')\n",
    "list_subfig[1].set_title('Top 3 Constructors by Total Points (2001-2020)')\n",
    "list_subfig[1].set_ylim(0, 8000)\n",
    "list_subfig[1].legend()\n",
    "\n",
    "\n",
    "# Display the plot\n",
    "plt.show()"
   ]
  },
  {
   "cell_type": "markdown",
   "metadata": {},
   "source": [
    "### Answers\n",
    "\n",
    "McLaren dropped out of the top three during the 2001-2020 time period, while Red Bull entered the top 3 taking 3rd place. \n",
    "\n",
    "Ferrari remained the top constructor between both time periods, though they appear to be less dominant in the 2001-2020 time period.\n",
    "\n",
    "Mercedes' total points remained the same between both time periods because they only started competing in 2010, which makes sense why the gap of total points from Ferrari decreased in the 2001-2020 time period since the number of years competing between the two constructors are becoming more similar. "
   ]
  },
  {
   "cell_type": "code",
   "execution_count": null,
   "metadata": {},
   "outputs": [],
   "source": []
  },
  {
   "cell_type": "markdown",
   "metadata": {},
   "source": [
    "## Question d"
   ]
  },
  {
   "cell_type": "code",
   "execution_count": null,
   "metadata": {},
   "outputs": [],
   "source": [
    "\n",
    "# Querying for just years between 1981 and 2020, aggregating points by constructorId, and sorting by total points by constructor \n",
    "# Note: I am also getting the number of distinct years that each constructor competed during the time frame \n",
    "drivers_ferrari_1981_2020 = (results_merged.query(\"(year >= 1981) & (year <= 2020) & (name == 'Ferrari')\"))['fullName'].nunique()\n",
    "\n",
    "print(\"Unique Ferrari drivers between 1981 and 2020: \", drivers_ferrari_1981_2020)\n",
    "                                                   \n",
    "\n"
   ]
  },
  {
   "cell_type": "markdown",
   "metadata": {},
   "source": [
    "### Answers\n",
    "\n",
    "There were 25 different drivers for Ferrari between 1981 and 2020"
   ]
  },
  {
   "cell_type": "code",
   "execution_count": null,
   "metadata": {},
   "outputs": [],
   "source": []
  }
 ],
 "metadata": {
  "kernelspec": {
   "display_name": "Python 3",
   "language": "python",
   "name": "python3"
  },
  "language_info": {
   "codemirror_mode": {
    "name": "ipython",
    "version": 3
   },
   "file_extension": ".py",
   "mimetype": "text/x-python",
   "name": "python",
   "nbconvert_exporter": "python",
   "pygments_lexer": "ipython3",
   "version": "3.11.5"
  }
 },
 "nbformat": 4,
 "nbformat_minor": 2
}
