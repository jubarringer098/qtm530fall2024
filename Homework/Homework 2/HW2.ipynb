{
 "cells": [
  {
   "cell_type": "markdown",
   "metadata": {},
   "source": [
    "# I. Import Libraries and Data"
   ]
  },
  {
   "cell_type": "markdown",
   "metadata": {},
   "source": [
    "### Key Libraries"
   ]
  },
  {
   "cell_type": "code",
   "execution_count": 1,
   "metadata": {},
   "outputs": [],
   "source": [
    "import numpy as np\n",
    "import pandas as pd\n",
    "import matplotlib.pyplot as plt\n",
    "import os "
   ]
  },
  {
   "cell_type": "markdown",
   "metadata": {},
   "source": [
    "### Read Datasets"
   ]
  },
  {
   "cell_type": "markdown",
   "metadata": {},
   "source": [
    "To answer questions a-e, I know that I need the following fields from the following tables:\n",
    "results:\n",
    "raceId, driverId, constructorId, number, positionOrder, points, fastestLapTime, rank\n",
    "races: raceId, year, \n",
    "constructors: "
   ]
  },
  {
   "cell_type": "code",
   "execution_count": 2,
   "metadata": {},
   "outputs": [],
   "source": [
    "import os \n",
    "base_dir = os.getcwd()\n",
    "#\"/Users/gracebarringer/qtm530fall2024/Lecture 03/data_raw\" # \n",
    "\n",
    "import os \n",
    "base_dir = os.getcwd()\n",
    "file_path = os.path.normpath(os.path.join(base_dir, \"../../\", \"Lecture 03/data_raw/\"))\n",
    "\n",
    "\n",
    "results_file_path = os.path.join(file_path, \"results.csv\")\n",
    "races_file_path = os.path.join(file_path, \"races.csv\")\n",
    "constructors_file_path = os.path.join(file_path, \"constructors.csv\")\n",
    "drivers_file_path = os.path.join(file_path, \"drivers.csv\")\n",
    "\n",
    "\n",
    "results = pd.read_csv(results_file_path)\n",
    "races = pd.read_csv(races_file_path)\n",
    "constructors = pd.read_csv(constructors_file_path)\n",
    "drivers = pd.read_csv(drivers_file_path)\n",
    "\n"
   ]
  },
  {
   "cell_type": "markdown",
   "metadata": {},
   "source": [
    "# II. Cleaning Data "
   ]
  },
  {
   "cell_type": "markdown",
   "metadata": {},
   "source": [
    "Questions for Dr. Sánchez Becerra\n",
    "1. Should I clean all fields of the data or just the ones I am going to use? For example, if I'm not planning on using the milliseconds field in the results table, do I still need to convert it to the correct data type? What about missing values?\n",
    "2. How thorough do my checks for data cleaning and validation need to be? For example, in the races table, can I assume that the values in the year column match the year specified in the date column?\n",
    "    Should I have checks for every new table I create?\n",
    "\n",
    "5. Should I check for outliers before or after the data is filtered and aggregated? For example, if I am using the points field in the results table but aggregating it across constructors and only for specific years, should I look at the point outliers of my new table or the original results table or both?\n",
    "\n",
    "7. Structure of code\n",
    "8. What was it that we should comment out vs. what we should show in our submission?"
   ]
  },
  {
   "cell_type": "markdown",
   "metadata": {},
   "source": [
    "## results table"
   ]
  },
  {
   "cell_type": "markdown",
   "metadata": {},
   "source": [
    "##### 1.\\) Checking for correct data types and fixing incorrect data types.\n",
    "I want to ensure that all columns in the results table are the same types as what is shown in the f1_codebook and fix them if they are not."
   ]
  },
  {
   "cell_type": "code",
   "execution_count": 3,
   "metadata": {},
   "outputs": [
    {
     "data": {
      "text/plain": [
       "resultId             int64\n",
       "raceId               int64\n",
       "driverId             int64\n",
       "constructorId        int64\n",
       "number              object\n",
       "grid                 int64\n",
       "position            object\n",
       "positionText        object\n",
       "positionOrder        int64\n",
       "points             float64\n",
       "laps                 int64\n",
       "time                object\n",
       "milliseconds        object\n",
       "fastestLap          object\n",
       "rank                object\n",
       "fastestLapTime      object\n",
       "fastestLapSpeed     object\n",
       "statusId             int64\n",
       "dtype: object"
      ]
     },
     "execution_count": 3,
     "metadata": {},
     "output_type": "execute_result"
    }
   ],
   "source": [
    "# Checking to ensure the data types match what's expected \n",
    "results.dtypes"
   ]
  },
  {
   "cell_type": "markdown",
   "metadata": {},
   "source": [
    "number, position, milliseconds, fastestLap, and rank don't match the data types in the f1_codebook - they are showing as objects in this table but should be integers. They are showing up as objects because there is at least one non-numeric value in each of the columns. Although I will not be using all of these columns in my analysis, I still to ensure they are all of the correct data type. Next, I will check to see what the non-numeric value(s) is (are) in each column."
   ]
  },
  {
   "cell_type": "code",
   "execution_count": 4,
   "metadata": {},
   "outputs": [
    {
     "name": "stdout",
     "output_type": "stream",
     "text": [
      "number:  ['\\\\N']\n",
      "position:  ['\\\\N']\n",
      "milliseconds:  ['\\\\N']\n",
      "fastestLap:  ['\\\\N']\n",
      "rank:  ['\\\\N']\n"
     ]
    }
   ],
   "source": [
    "# Checking to see non-numeric values in each column  \n",
    "\n",
    "subset_num = results.query(\"number.str.isnumeric() == False\")\n",
    "print(\"number: \", pd.unique(subset_num[\"number\"]))\n",
    "\n",
    "subset_pos = results.query(\"position.str.isnumeric() == False\")\n",
    "print(\"position: \", pd.unique(subset_pos[\"position\"]))\n",
    "\n",
    "subset_ms = results.query(\"milliseconds.str.isnumeric() == False\")\n",
    "print(\"milliseconds: \", pd.unique(subset_ms[\"milliseconds\"]))\n",
    "\n",
    "subset_fl = results.query(\"fastestLap.str.isnumeric() == False\")\n",
    "print(\"fastestLap: \", pd.unique(subset_fl[\"fastestLap\"]))\n",
    "\n",
    "subset_r = results.query(\"rank.str.isnumeric() == False\")\n",
    "print(\"rank: \", pd.unique(subset_r[\"rank\"]))"
   ]
  },
  {
   "cell_type": "markdown",
   "metadata": {},
   "source": [
    "'\\\\\\N' is the non-numeric value showing up across all columns listed above, so I will now use the .replace method to replace this value with NaN and convert the columns to integers. \n"
   ]
  },
  {
   "cell_type": "code",
   "execution_count": 5,
   "metadata": {},
   "outputs": [],
   "source": [
    "# Replacing non-numeric values with NaN and converting the column to type Int64\n",
    "\n",
    "results[\"number\"] = results[\"number\"].replace('\\\\N', np.nan)\n",
    "results[\"number\"] = pd.to_numeric(results[\"number\"]).astype('Int64')\n",
    "\n",
    "results[\"position\"] = results[\"position\"].replace('\\\\N', np.nan)\n",
    "results[\"position\"] = pd.to_numeric(results[\"position\"]).astype('Int64')\n",
    "\n",
    "results[\"milliseconds\"] = results[\"milliseconds\"].replace('\\\\N', np.nan)\n",
    "results[\"milliseconds\"] = pd.to_numeric(results[\"milliseconds\"]).astype('Int64')\n",
    "\n",
    "results[\"fastestLap\"] = results[\"fastestLap\"].replace('\\\\N', np.nan)\n",
    "results[\"fastestLap\"] = pd.to_numeric(results[\"fastestLap\"]).astype('Int64')\n",
    "\n",
    "results[\"rank\"] = results[\"rank\"].replace('\\\\N', np.nan)\n",
    "results[\"rank\"] = pd.to_numeric(results[\"rank\"]).astype('Int64')"
   ]
  },
  {
   "cell_type": "markdown",
   "metadata": {},
   "source": [
    "I know that I want to look at fastestLapTime and fastestLapSpeed when determining Ferrari's best year, so I'm going to go ahead and convert the fastestLapTime to milliseconds and make it an integer, and convert fastestLapSpeed into an integer. \n",
    "\n",
    "First, I'm going to see if there are any non-"
   ]
  },
  {
   "cell_type": "code",
   "execution_count": 55,
   "metadata": {},
   "outputs": [
    {
     "name": "stdout",
     "output_type": "stream",
     "text": [
      "fastestLapTime:  ['1:27.452' '1:27.739' '1:28.090' ... '1:29.788' '1:30.309' '1:30.579']\n"
     ]
    }
   ],
   "source": [
    "subset_fastestLapTime= results.query(\"fastestLapTime.str.isnumeric() == False\")\n",
    "print(\"fastestLapTime: \", pd.unique(subset_fastestLapTime[\"fastestLapTime\"]))"
   ]
  },
  {
   "cell_type": "code",
   "execution_count": 54,
   "metadata": {},
   "outputs": [
    {
     "ename": "ValueError",
     "evalue": "invalid literal for int() with base 10: '\\\\N'",
     "output_type": "error",
     "traceback": [
      "\u001b[0;31m---------------------------------------------------------------------------\u001b[0m",
      "\u001b[0;31mValueError\u001b[0m                                Traceback (most recent call last)",
      "Cell \u001b[0;32mIn[54], line 2\u001b[0m\n\u001b[1;32m      1\u001b[0m \u001b[38;5;66;03m# Convert the 'time' column into milliseconds using a lambda function\u001b[39;00m\n\u001b[0;32m----> 2\u001b[0m results[\u001b[38;5;124m'\u001b[39m\u001b[38;5;124mfastestLapTime_ms\u001b[39m\u001b[38;5;124m'\u001b[39m] \u001b[38;5;241m=\u001b[39m results[\u001b[38;5;124m'\u001b[39m\u001b[38;5;124mfastestLapTime\u001b[39m\u001b[38;5;124m'\u001b[39m]\u001b[38;5;241m.\u001b[39mapply(\u001b[38;5;28;01mlambda\u001b[39;00m x: \u001b[38;5;28mint\u001b[39m(x\u001b[38;5;241m.\u001b[39msplit(\u001b[38;5;124m'\u001b[39m\u001b[38;5;124m:\u001b[39m\u001b[38;5;124m'\u001b[39m)[\u001b[38;5;241m0\u001b[39m]) \u001b[38;5;241m*\u001b[39m \u001b[38;5;241m60\u001b[39m \u001b[38;5;241m*\u001b[39m \u001b[38;5;241m1000\u001b[39m \u001b[38;5;241m+\u001b[39m  \u001b[38;5;66;03m# minutes to milliseconds\u001b[39;00m\n\u001b[1;32m      3\u001b[0m                                                 \u001b[38;5;28mint\u001b[39m(x\u001b[38;5;241m.\u001b[39msplit(\u001b[38;5;124m'\u001b[39m\u001b[38;5;124m:\u001b[39m\u001b[38;5;124m'\u001b[39m)[\u001b[38;5;241m1\u001b[39m]\u001b[38;5;241m.\u001b[39msplit(\u001b[38;5;124m'\u001b[39m\u001b[38;5;124m.\u001b[39m\u001b[38;5;124m'\u001b[39m)[\u001b[38;5;241m0\u001b[39m]) \u001b[38;5;241m*\u001b[39m \u001b[38;5;241m1000\u001b[39m \u001b[38;5;241m+\u001b[39m  \u001b[38;5;66;03m# seconds to milliseconds\u001b[39;00m\n\u001b[1;32m      4\u001b[0m                                                 \u001b[38;5;28mint\u001b[39m(x\u001b[38;5;241m.\u001b[39msplit(\u001b[38;5;124m'\u001b[39m\u001b[38;5;124m:\u001b[39m\u001b[38;5;124m'\u001b[39m)[\u001b[38;5;241m1\u001b[39m]\u001b[38;5;241m.\u001b[39msplit(\u001b[38;5;124m'\u001b[39m\u001b[38;5;124m.\u001b[39m\u001b[38;5;124m'\u001b[39m)[\u001b[38;5;241m1\u001b[39m])) \n\u001b[1;32m      5\u001b[0m display(results)\n",
      "File \u001b[0;32m~/anaconda3/lib/python3.11/site-packages/pandas/core/series.py:4630\u001b[0m, in \u001b[0;36mSeries.apply\u001b[0;34m(self, func, convert_dtype, args, **kwargs)\u001b[0m\n\u001b[1;32m   4520\u001b[0m \u001b[38;5;28;01mdef\u001b[39;00m \u001b[38;5;21mapply\u001b[39m(\n\u001b[1;32m   4521\u001b[0m     \u001b[38;5;28mself\u001b[39m,\n\u001b[1;32m   4522\u001b[0m     func: AggFuncType,\n\u001b[0;32m   (...)\u001b[0m\n\u001b[1;32m   4525\u001b[0m     \u001b[38;5;241m*\u001b[39m\u001b[38;5;241m*\u001b[39mkwargs,\n\u001b[1;32m   4526\u001b[0m ) \u001b[38;5;241m-\u001b[39m\u001b[38;5;241m>\u001b[39m DataFrame \u001b[38;5;241m|\u001b[39m Series:\n\u001b[1;32m   4527\u001b[0m \u001b[38;5;250m    \u001b[39m\u001b[38;5;124;03m\"\"\"\u001b[39;00m\n\u001b[1;32m   4528\u001b[0m \u001b[38;5;124;03m    Invoke function on values of Series.\u001b[39;00m\n\u001b[1;32m   4529\u001b[0m \n\u001b[0;32m   (...)\u001b[0m\n\u001b[1;32m   4628\u001b[0m \u001b[38;5;124;03m    dtype: float64\u001b[39;00m\n\u001b[1;32m   4629\u001b[0m \u001b[38;5;124;03m    \"\"\"\u001b[39;00m\n\u001b[0;32m-> 4630\u001b[0m     \u001b[38;5;28;01mreturn\u001b[39;00m SeriesApply(\u001b[38;5;28mself\u001b[39m, func, convert_dtype, args, kwargs)\u001b[38;5;241m.\u001b[39mapply()\n",
      "File \u001b[0;32m~/anaconda3/lib/python3.11/site-packages/pandas/core/apply.py:1025\u001b[0m, in \u001b[0;36mSeriesApply.apply\u001b[0;34m(self)\u001b[0m\n\u001b[1;32m   1022\u001b[0m     \u001b[38;5;28;01mreturn\u001b[39;00m \u001b[38;5;28mself\u001b[39m\u001b[38;5;241m.\u001b[39mapply_str()\n\u001b[1;32m   1024\u001b[0m \u001b[38;5;66;03m# self.f is Callable\u001b[39;00m\n\u001b[0;32m-> 1025\u001b[0m \u001b[38;5;28;01mreturn\u001b[39;00m \u001b[38;5;28mself\u001b[39m\u001b[38;5;241m.\u001b[39mapply_standard()\n",
      "File \u001b[0;32m~/anaconda3/lib/python3.11/site-packages/pandas/core/apply.py:1076\u001b[0m, in \u001b[0;36mSeriesApply.apply_standard\u001b[0;34m(self)\u001b[0m\n\u001b[1;32m   1074\u001b[0m     \u001b[38;5;28;01melse\u001b[39;00m:\n\u001b[1;32m   1075\u001b[0m         values \u001b[38;5;241m=\u001b[39m obj\u001b[38;5;241m.\u001b[39mastype(\u001b[38;5;28mobject\u001b[39m)\u001b[38;5;241m.\u001b[39m_values\n\u001b[0;32m-> 1076\u001b[0m         mapped \u001b[38;5;241m=\u001b[39m lib\u001b[38;5;241m.\u001b[39mmap_infer(\n\u001b[1;32m   1077\u001b[0m             values,\n\u001b[1;32m   1078\u001b[0m             f,\n\u001b[1;32m   1079\u001b[0m             convert\u001b[38;5;241m=\u001b[39m\u001b[38;5;28mself\u001b[39m\u001b[38;5;241m.\u001b[39mconvert_dtype,\n\u001b[1;32m   1080\u001b[0m         )\n\u001b[1;32m   1082\u001b[0m \u001b[38;5;28;01mif\u001b[39;00m \u001b[38;5;28mlen\u001b[39m(mapped) \u001b[38;5;129;01mand\u001b[39;00m \u001b[38;5;28misinstance\u001b[39m(mapped[\u001b[38;5;241m0\u001b[39m], ABCSeries):\n\u001b[1;32m   1083\u001b[0m     \u001b[38;5;66;03m# GH#43986 Need to do list(mapped) in order to get treated as nested\u001b[39;00m\n\u001b[1;32m   1084\u001b[0m     \u001b[38;5;66;03m#  See also GH#25959 regarding EA support\u001b[39;00m\n\u001b[1;32m   1085\u001b[0m     \u001b[38;5;28;01mreturn\u001b[39;00m obj\u001b[38;5;241m.\u001b[39m_constructor_expanddim(\u001b[38;5;28mlist\u001b[39m(mapped), index\u001b[38;5;241m=\u001b[39mobj\u001b[38;5;241m.\u001b[39mindex)\n",
      "File \u001b[0;32m~/anaconda3/lib/python3.11/site-packages/pandas/_libs/lib.pyx:2834\u001b[0m, in \u001b[0;36mpandas._libs.lib.map_infer\u001b[0;34m()\u001b[0m\n",
      "Cell \u001b[0;32mIn[54], line 2\u001b[0m, in \u001b[0;36m<lambda>\u001b[0;34m(x)\u001b[0m\n\u001b[1;32m      1\u001b[0m \u001b[38;5;66;03m# Convert the 'time' column into milliseconds using a lambda function\u001b[39;00m\n\u001b[0;32m----> 2\u001b[0m results[\u001b[38;5;124m'\u001b[39m\u001b[38;5;124mfastestLapTime_ms\u001b[39m\u001b[38;5;124m'\u001b[39m] \u001b[38;5;241m=\u001b[39m results[\u001b[38;5;124m'\u001b[39m\u001b[38;5;124mfastestLapTime\u001b[39m\u001b[38;5;124m'\u001b[39m]\u001b[38;5;241m.\u001b[39mapply(\u001b[38;5;28;01mlambda\u001b[39;00m x: \u001b[38;5;28mint\u001b[39m(x\u001b[38;5;241m.\u001b[39msplit(\u001b[38;5;124m'\u001b[39m\u001b[38;5;124m:\u001b[39m\u001b[38;5;124m'\u001b[39m)[\u001b[38;5;241m0\u001b[39m]) \u001b[38;5;241m*\u001b[39m \u001b[38;5;241m60\u001b[39m \u001b[38;5;241m*\u001b[39m \u001b[38;5;241m1000\u001b[39m \u001b[38;5;241m+\u001b[39m  \u001b[38;5;66;03m# minutes to milliseconds\u001b[39;00m\n\u001b[1;32m      3\u001b[0m                                                 \u001b[38;5;28mint\u001b[39m(x\u001b[38;5;241m.\u001b[39msplit(\u001b[38;5;124m'\u001b[39m\u001b[38;5;124m:\u001b[39m\u001b[38;5;124m'\u001b[39m)[\u001b[38;5;241m1\u001b[39m]\u001b[38;5;241m.\u001b[39msplit(\u001b[38;5;124m'\u001b[39m\u001b[38;5;124m.\u001b[39m\u001b[38;5;124m'\u001b[39m)[\u001b[38;5;241m0\u001b[39m]) \u001b[38;5;241m*\u001b[39m \u001b[38;5;241m1000\u001b[39m \u001b[38;5;241m+\u001b[39m  \u001b[38;5;66;03m# seconds to milliseconds\u001b[39;00m\n\u001b[1;32m      4\u001b[0m                                                 \u001b[38;5;28mint\u001b[39m(x\u001b[38;5;241m.\u001b[39msplit(\u001b[38;5;124m'\u001b[39m\u001b[38;5;124m:\u001b[39m\u001b[38;5;124m'\u001b[39m)[\u001b[38;5;241m1\u001b[39m]\u001b[38;5;241m.\u001b[39msplit(\u001b[38;5;124m'\u001b[39m\u001b[38;5;124m.\u001b[39m\u001b[38;5;124m'\u001b[39m)[\u001b[38;5;241m1\u001b[39m])) \n\u001b[1;32m      5\u001b[0m display(results)\n",
      "\u001b[0;31mValueError\u001b[0m: invalid literal for int() with base 10: '\\\\N'"
     ]
    }
   ],
   "source": [
    "# Convert the 'time' column into milliseconds using a lambda function\n",
    "results['fastestLapTime_ms'] = results['fastestLapTime'].apply(lambda x: int(x.split(':')[0]) * 60 * 1000 +  # minutes to milliseconds\n",
    "                                                int(x.split(':')[1].split('.')[0]) * 1000 +  # seconds to milliseconds\n",
    "                                                int(x.split(':')[1].split('.')[1])) \n",
    "display(results)"
   ]
  },
  {
   "cell_type": "markdown",
   "metadata": {},
   "source": [
    "##### 2.\\) Checking for duplicates \n",
    "In the results table, I want to ensure that there are no duplicate records because each row should be a unique record"
   ]
  },
  {
   "cell_type": "code",
   "execution_count": 6,
   "metadata": {},
   "outputs": [
    {
     "name": "stdout",
     "output_type": "stream",
     "text": [
      "Duplicate rows in results table:  Empty DataFrame\n",
      "Columns: [resultId, raceId, driverId, constructorId, number, grid, position, positionText, positionOrder, points, laps, time, milliseconds, fastestLap, rank, fastestLapTime, fastestLapSpeed, statusId]\n",
      "Index: []\n"
     ]
    }
   ],
   "source": [
    "print(\"Duplicate rows in results table: \", results[results.duplicated()])"
   ]
  },
  {
   "cell_type": "markdown",
   "metadata": {},
   "source": [
    "There are no duplicate rows in the results table."
   ]
  },
  {
   "cell_type": "markdown",
   "metadata": {},
   "source": [
    "##### 3.\\) Checking for missing values\n",
    "Now that all of my columns are of the correct type and I've checked for duplicate records, I want to see which columns have missing values and count how many values are missing for each column in the results table. If many values are missing in a column that I plan on using, I might need to decide on a method to impute the values. \n"
   ]
  },
  {
   "cell_type": "markdown",
   "metadata": {},
   "source": [
    "Now that all of my columns are of the correct type, I want to count how many values each column in the results table are missing. If many values are missing in a column that I plan on using, I might need to decide on a method to impute the values. \n",
    "\n",
    "NaN represents a missing value in my int or float columns so I will use .isna() to count how many missing values there are in these columns. \n",
    "\n",
    "For object columns, I will use .isnull() to determine if any values are missing (not that isnull just checks for NULLs, but if the value makes sense or not)"
   ]
  },
  {
   "cell_type": "code",
   "execution_count": 7,
   "metadata": {},
   "outputs": [
    {
     "name": "stdout",
     "output_type": "stream",
     "text": [
      "Missing value count  resultId :  0\n",
      "Missing value count  raceId :  0\n",
      "Missing value count  driverId :  0\n",
      "Missing value count  constructorId :  0\n",
      "Missing value count  number :  6\n",
      "Missing value count  grid :  0\n",
      "Missing value count  position :  10851\n",
      "Missing value count  positionOrder :  0\n",
      "Missing value count  points :  0\n",
      "Missing value count  laps :  0\n",
      "Missing value count  milliseconds :  18753\n",
      "Missing value count  fastestLap :  18461\n",
      "Missing value count  rank :  18249\n",
      "Missing value count  statusId :  0\n",
      "Missing value count  positionText :  0\n",
      "Missing value count  time :  0\n",
      "Missing value count  fastestLapTime :  0\n",
      "Missing value count  fastestLapSpeed :  0\n"
     ]
    }
   ],
   "source": [
    "# getting list of column names \n",
    "results_cols_all = results.columns.tolist()\n",
    "# getting list of column names for numeric variables \n",
    "results_cols_num = results.select_dtypes(include = ['number']).columns.tolist()\n",
    "# getting list of column names for object variables \n",
    "results_cols_obj = results.select_dtypes(include = ['object']).columns.tolist()\n",
    "\n",
    "# count and print the missing values of each numeric column \n",
    "for i in results_cols_num:\n",
    "    print(\"Missing value count \", i, \": \", results[i].isna().sum())\n",
    "\n",
    "for i in results_cols_obj:\n",
    "    print(\"Missing value count \", i, \": \", results[i].isnull().sum())\n"
   ]
  },
  {
   "cell_type": "markdown",
   "metadata": {},
   "source": [
    "The only field that has missing values that I might be using is rank. I will only be using rank in the context of Ferrari between 1981 and 2020. Once I create the merged dataframe with my needed fields (in part III), I will check to see if any values are missing in rank for Ferrari between 1981 and 2020. "
   ]
  },
  {
   "cell_type": "code",
   "execution_count": null,
   "metadata": {},
   "outputs": [],
   "source": []
  },
  {
   "cell_type": "markdown",
   "metadata": {},
   "source": [
    "Questions: \n",
    "About ferrari being \"best\" - when to see if ferarri is missing values for what I might uyse for \"best\"\n",
    "About if I should look at description now or way until aggregated \n",
    "\n"
   ]
  },
  {
   "cell_type": "markdown",
   "metadata": {},
   "source": [
    "##### 4.\\) soemthing about uniqueness"
   ]
  },
  {
   "cell_type": "markdown",
   "metadata": {},
   "source": [
    "### races table"
   ]
  },
  {
   "cell_type": "markdown",
   "metadata": {},
   "source": [
    "##### 1.\\) Checking for correct data types and fixing incorrect data types.\n",
    "I want to ensure that all columns in the races table are the same types as what is shown in the f1_codebook and fix them if they are not."
   ]
  },
  {
   "cell_type": "code",
   "execution_count": 8,
   "metadata": {},
   "outputs": [
    {
     "data": {
      "text/plain": [
       "raceId          int64\n",
       "year            int64\n",
       "round           int64\n",
       "circuitId       int64\n",
       "name           object\n",
       "date           object\n",
       "time           object\n",
       "url            object\n",
       "fp1_date       object\n",
       "fp1_time       object\n",
       "fp2_date       object\n",
       "fp2_time       object\n",
       "fp3_date       object\n",
       "fp3_time       object\n",
       "quali_date     object\n",
       "quali_time     object\n",
       "sprint_date    object\n",
       "sprint_time    object\n",
       "dtype: object"
      ]
     },
     "execution_count": 8,
     "metadata": {},
     "output_type": "execute_result"
    }
   ],
   "source": [
    "# Checking to ensure the data types match what's expected \n",
    "races.dtypes"
   ]
  },
  {
   "cell_type": "markdown",
   "metadata": {},
   "source": [
    "The column types in the races table match the codebook. "
   ]
  },
  {
   "cell_type": "markdown",
   "metadata": {},
   "source": [
    "##### 2.\\) Checking for duplicates\n",
    "raceId in the races table should be unique, and since I will be using the raceId in the races table to pull in year to the results table, I want to ensure that each raceId is unique in the races table"
   ]
  },
  {
   "cell_type": "code",
   "execution_count": 9,
   "metadata": {},
   "outputs": [
    {
     "name": "stdout",
     "output_type": "stream",
     "text": [
      "Duplicate raceId in races table:  Empty DataFrame\n",
      "Columns: [raceId, year, round, circuitId, name, date, time, url, fp1_date, fp1_time, fp2_date, fp2_time, fp3_date, fp3_time, quali_date, quali_time, sprint_date, sprint_time]\n",
      "Index: []\n"
     ]
    }
   ],
   "source": [
    "print(\"Duplicate raceId in races table: \", races[races['raceId'].duplicated()])\n",
    "\n",
    "# I could also verify this by ensuring the count of rows in the dataframe equals the count of unique raceIds, or count how many times a raceId occurs and filter to count > 1"
   ]
  },
  {
   "cell_type": "markdown",
   "metadata": {},
   "source": [
    "##### 3.\\) Checking for missing values\n",
    "Because I will be using the races table to pull in the year to the results table on raceId, I want to ensure that raceId and year are not missing any values. "
   ]
  },
  {
   "cell_type": "code",
   "execution_count": 10,
   "metadata": {},
   "outputs": [
    {
     "name": "stdout",
     "output_type": "stream",
     "text": [
      "Missing value count raceId:  0\n",
      "Missing value count year:  0\n"
     ]
    }
   ],
   "source": [
    "print(\"Missing value count raceId: \", races['raceId'].isna().sum())\n",
    "print(\"Missing value count year: \", races['year'].isna().sum())"
   ]
  },
  {
   "cell_type": "markdown",
   "metadata": {},
   "source": [
    "### constructors table"
   ]
  },
  {
   "cell_type": "markdown",
   "metadata": {},
   "source": [
    "##### 1.\\) Checking for correct data types and fixing incorrect data types.\n",
    "I want to ensure that all columns in the constructors table are the same types as what is shown in the f1_codebook and fix them if they are not."
   ]
  },
  {
   "cell_type": "code",
   "execution_count": 11,
   "metadata": {},
   "outputs": [
    {
     "data": {
      "text/plain": [
       "constructorId      int64\n",
       "constructorRef    object\n",
       "name              object\n",
       "nationality       object\n",
       "url               object\n",
       "dtype: object"
      ]
     },
     "execution_count": 11,
     "metadata": {},
     "output_type": "execute_result"
    }
   ],
   "source": [
    "# Checking to ensure the data types match what's expected \n",
    "constructors.dtypes"
   ]
  },
  {
   "cell_type": "markdown",
   "metadata": {},
   "source": [
    "The column types in the constructors table match the codebook. "
   ]
  },
  {
   "cell_type": "markdown",
   "metadata": {},
   "source": [
    "##### 2.\\) Checking for duplicates\n",
    "I want to ensure that there are no duplicate constructorId values in the constructor table, and I want to ensure that there are no duplicate name values in the constructors table"
   ]
  },
  {
   "cell_type": "code",
   "execution_count": 12,
   "metadata": {},
   "outputs": [
    {
     "name": "stdout",
     "output_type": "stream",
     "text": [
      "Duplicate constructorIds in constructors table:  Empty DataFrame\n",
      "Columns: [constructorId, constructorRef, name, nationality, url]\n",
      "Index: []\n",
      "Duplicate names in constructors table:  Empty DataFrame\n",
      "Columns: [constructorId, constructorRef, name, nationality, url, normalizedName]\n",
      "Index: []\n"
     ]
    }
   ],
   "source": [
    "# checking for duplicate constructorIds\n",
    "print(\"Duplicate constructorIds in constructors table: \", constructors[constructors['constructorId'].duplicated()])\n",
    "\n",
    "# To ensure no duplicate names, I need to normalize the name values to ensure that duplicate names are recognized if they exist (put all in lowercase and remove all white space)\n",
    "constructors['normalizedName'] = constructors['name'].str.lower().str.strip()\n",
    "\n",
    "print(\"Duplicate names in constructors table: \", constructors[constructors['normalizedName'].duplicated()])\n",
    "\n"
   ]
  },
  {
   "cell_type": "markdown",
   "metadata": {},
   "source": [
    "constructorId values and name values are each unique "
   ]
  },
  {
   "cell_type": "markdown",
   "metadata": {},
   "source": [
    "##### 3.\\) Checking for missing values\n",
    "Because I will be using the constructs table to pull in the names to the results table on constructorId, I want to ensure that  constructorId and name are not missing any values. "
   ]
  },
  {
   "cell_type": "code",
   "execution_count": 13,
   "metadata": {},
   "outputs": [
    {
     "name": "stdout",
     "output_type": "stream",
     "text": [
      "Missing value count constructorId:  0\n",
      "Missing value count name:  0\n"
     ]
    }
   ],
   "source": [
    "print(\"Missing value count constructorId: \", constructors['constructorId'].isna().sum())\n",
    "print(\"Missing value count name: \", constructors['name'].isnull().sum())"
   ]
  },
  {
   "cell_type": "markdown",
   "metadata": {},
   "source": [
    "Neither constructorId nor name are missing values from the constructors table, which is what I expected given the fact that there were no duplicates (unless just missing 1 value)"
   ]
  },
  {
   "cell_type": "markdown",
   "metadata": {},
   "source": [
    "### drivers table"
   ]
  },
  {
   "cell_type": "markdown",
   "metadata": {},
   "source": [
    "##### 1.\\) Checking for correct data types and fixing incorrect data types.\n",
    "I want to ensure that all columns in the drivers table are the same types as what is shown in the f1_codebook and fix them if they are not."
   ]
  },
  {
   "cell_type": "code",
   "execution_count": 14,
   "metadata": {},
   "outputs": [
    {
     "data": {
      "text/plain": [
       "driverId        int64\n",
       "driverRef      object\n",
       "number         object\n",
       "code           object\n",
       "forename       object\n",
       "surname        object\n",
       "dob            object\n",
       "nationality    object\n",
       "url            object\n",
       "dtype: object"
      ]
     },
     "execution_count": 14,
     "metadata": {},
     "output_type": "execute_result"
    }
   ],
   "source": [
    "# Checking to ensure the data types match what's expected \n",
    "drivers.dtypes"
   ]
  },
  {
   "cell_type": "markdown",
   "metadata": {},
   "source": [
    "number does not match the data type in the codebook - it is showing as an object in this table but should be an integer. It is showing up as an object because there is at least one non-numeric value in the column. Next, I will check to see what the non-numeric value(s) is (are) in the column"
   ]
  },
  {
   "cell_type": "code",
   "execution_count": 15,
   "metadata": {},
   "outputs": [
    {
     "name": "stdout",
     "output_type": "stream",
     "text": [
      "['\\\\N']\n"
     ]
    }
   ],
   "source": [
    "# Checking to see non-numeric values in the column  \n",
    "drivers_subset_num = drivers.query(\"number.str.isnumeric() == False\")\n",
    "print(pd.unique(drivers_subset_num[\"number\"]))"
   ]
  },
  {
   "cell_type": "markdown",
   "metadata": {},
   "source": [
    "'\\\\\\N' is the non-numeric value showing up in the number column, so I will now use the .replace method to replace this value with NaN and convert the column to be type integer"
   ]
  },
  {
   "cell_type": "code",
   "execution_count": 16,
   "metadata": {},
   "outputs": [],
   "source": [
    "drivers[\"number\"] = drivers[\"number\"].replace('\\\\N', np.nan)\n",
    "drivers[\"number\"] = pd.to_numeric(drivers[\"number\"]).astype('Int64')"
   ]
  },
  {
   "cell_type": "code",
   "execution_count": 17,
   "metadata": {},
   "outputs": [
    {
     "data": {
      "text/plain": [
       "driverId        int64\n",
       "driverRef      object\n",
       "number          Int64\n",
       "code           object\n",
       "forename       object\n",
       "surname        object\n",
       "dob            object\n",
       "nationality    object\n",
       "url            object\n",
       "dtype: object"
      ]
     },
     "execution_count": 17,
     "metadata": {},
     "output_type": "execute_result"
    }
   ],
   "source": [
    "# Verifying that the number column is now type integer\n",
    "drivers.dtypes"
   ]
  },
  {
   "cell_type": "markdown",
   "metadata": {},
   "source": [
    "##### 2.\\) Checking for duplicates\n",
    "I want to ensure that there are no duplicate driverId values in the drivers table, and I want to ensure that there are no duplicate driver names (I will create a new variable fullName to combine forename and surname). In the drivers table, each driver should be represented in one row. Furthermore, each driver should have a unique driverId associated with them (number to driver should be a one-to-one mapping). "
   ]
  },
  {
   "cell_type": "code",
   "execution_count": 18,
   "metadata": {},
   "outputs": [
    {
     "name": "stdout",
     "output_type": "stream",
     "text": [
      "Duplicate driverId in drivers table:  Empty DataFrame\n",
      "Columns: [driverId, driverRef, number, code, forename, surname, dob, nationality, url]\n",
      "Index: []\n",
      "Duplicate fullName in drivers table:  Empty DataFrame\n",
      "Columns: [driverId, driverRef, number, code, forename, surname, dob, nationality, url, fullName, normalizedName]\n",
      "Index: []\n"
     ]
    }
   ],
   "source": [
    "# Check to see the number of rows in the dataset \n",
    "# print(\"drivers shape: \", drivers.shape)\n",
    "# print(\"count of unique driverId: \", drivers['driverId'].nunique())\n",
    "print(\"Duplicate driverId in drivers table: \", drivers[drivers['driverId'].duplicated()])\n",
    "\n",
    "# # Combine drivers forename and surname to get unique driver name (in case some drivers have the same forename or the same surname)\n",
    "drivers['fullName'] = drivers['forename'] + \" \" + drivers['surname']\n",
    "drivers['normalizedName'] = drivers['fullName'].str.lower().str.strip()\n",
    "print(\"Duplicate fullName in drivers table: \", drivers[drivers['normalizedName'].duplicated()])\n",
    "\n",
    "# print(\"count of unique driverId: \", drivers['driverId'].nunique())"
   ]
  },
  {
   "cell_type": "markdown",
   "metadata": {},
   "source": [
    "There are no duplicate driverId values or fullName values"
   ]
  },
  {
   "cell_type": "markdown",
   "metadata": {},
   "source": [
    "##### 3.\\) Check for missing values"
   ]
  },
  {
   "cell_type": "code",
   "execution_count": null,
   "metadata": {},
   "outputs": [],
   "source": []
  },
  {
   "cell_type": "markdown",
   "metadata": {},
   "source": [
    "### All tables - checking for join integrity "
   ]
  },
  {
   "cell_type": "markdown",
   "metadata": {},
   "source": [
    "In order to answer the questions in the homework, I will need to joins to pull in needed fields into the results table. \n",
    "\n",
    "For questions a, b, and c, I will be pulling in year from the races table into the results table joining on raceId. This will allow me to aggregate the data I need by year, which is currently not in the results table. I need to ensure that there are no raceIds in the results table that are not in the races table. \n",
    "\n",
    "For questions a, b, and c, I will also be pulling in name from the constructors table into the results table joining on constructorId. This will allow me to display my data using the constructor name, which is not currently in the results table. I need to ensure that there are no constructorIds in the results table that are not in the constructors table. \n",
    "\n"
   ]
  },
  {
   "cell_type": "code",
   "execution_count": 19,
   "metadata": {},
   "outputs": [
    {
     "name": "stdout",
     "output_type": "stream",
     "text": [
      "All raceId values in the results table are in the races table\n",
      "All constructorId values in the results table are in the constructors table\n"
     ]
    }
   ],
   "source": [
    "# Checking that all raceIds in the results table are in the races table \n",
    "missing_raceId = results[~results['raceId'].isin(races['raceId'])]\n",
    "if missing_raceId.empty:\n",
    "    print(\"All raceId values in the results table are in the races table\")\n",
    "else:\n",
    "    print(\"There are raceId values in the results table that are not in the races table\")\n",
    "\n",
    "\n",
    "# Checking that all constructorIds in the results table are in the constructors table \n",
    "missing_constructorId = results[~results['constructorId'].isin(constructors['constructorId'])]\n",
    "if missing_constructorId.empty:\n",
    "    print(\"All constructorId values in the results table are in the constructors table\")\n",
    "else:\n",
    "    print(\"There are constructorId values in the results table that are not in the constructors table\")\n"
   ]
  },
  {
   "cell_type": "markdown",
   "metadata": {},
   "source": [
    "# III. Creating needed dataframes for questions\n"
   ]
  },
  {
   "cell_type": "markdown",
   "metadata": {},
   "source": [
    "### Creating merged \"master\" dataframe from which I can use to answer the questions"
   ]
  },
  {
   "cell_type": "code",
   "execution_count": 45,
   "metadata": {},
   "outputs": [],
   "source": [
    "# Pulling year into results data using a join on raceId and selecting only needed columns \n",
    "results_merged = pd.merge(results[['raceId', 'constructorId', 'driverId', 'positionOrder','points', 'fastestLapTime', 'rank']],\n",
    "                       races[[\"raceId\", \"year\"]],\n",
    "                       on = \"raceId\",\n",
    "                       how = \"left\")\n",
    "\n",
    "# Pulling in constructor name from the constructors table \n",
    "results_merged = pd.merge(results_merged, constructors[['constructorId', 'name']], \n",
    "                          on = \"constructorId\",\n",
    "                          how = \"left\")\n",
    "\n",
    "# Pulling in driver fullnames from the drivers table \n",
    "results_merged = pd.merge(results_merged, drivers[['driverId', 'fullName']], \n",
    "                          on = \"driverId\",\n",
    "                          how = \"left\")"
   ]
  },
  {
   "cell_type": "markdown",
   "metadata": {},
   "source": [
    "### Quality checks for merged \"master\" dataframe"
   ]
  },
  {
   "cell_type": "markdown",
   "metadata": {},
   "source": [
    "#### Ensure row count in results_merged is the same as the results table"
   ]
  },
  {
   "cell_type": "code",
   "execution_count": 21,
   "metadata": {},
   "outputs": [
    {
     "name": "stdout",
     "output_type": "stream",
     "text": [
      "Number of rows in results:  25840\n",
      "Number of rows in results_merged:  25840\n"
     ]
    }
   ],
   "source": [
    "print('Number of rows in results: ', results.shape[0])\n",
    "print('Number of rows in results_merged: ', results_merged.shape[0])"
   ]
  },
  {
   "cell_type": "markdown",
   "metadata": {},
   "source": [
    "Both the results_merged table and the results table have the same count of rows indicating that no rows were added or removed during the join."
   ]
  },
  {
   "cell_type": "markdown",
   "metadata": {},
   "source": [
    "#### Ensure that no data was lost, gained or altered during the join by comparing the descriptive statistics of results_merged to those of results"
   ]
  },
  {
   "cell_type": "code",
   "execution_count": 47,
   "metadata": {},
   "outputs": [
    {
     "data": {
      "text/html": [
       "<div>\n",
       "<style scoped>\n",
       "    .dataframe tbody tr th:only-of-type {\n",
       "        vertical-align: middle;\n",
       "    }\n",
       "\n",
       "    .dataframe tbody tr th {\n",
       "        vertical-align: top;\n",
       "    }\n",
       "\n",
       "    .dataframe thead th {\n",
       "        text-align: right;\n",
       "    }\n",
       "</style>\n",
       "<table border=\"1\" class=\"dataframe\">\n",
       "  <thead>\n",
       "    <tr style=\"text-align: right;\">\n",
       "      <th></th>\n",
       "      <th>raceId</th>\n",
       "      <th>constructorId</th>\n",
       "      <th>driverId</th>\n",
       "      <th>positionOrder</th>\n",
       "      <th>points</th>\n",
       "      <th>rank</th>\n",
       "    </tr>\n",
       "  </thead>\n",
       "  <tbody>\n",
       "    <tr>\n",
       "      <th>count</th>\n",
       "      <td>25840.000000</td>\n",
       "      <td>25840.000000</td>\n",
       "      <td>25840.000000</td>\n",
       "      <td>25840.000000</td>\n",
       "      <td>25840.000000</td>\n",
       "      <td>7591.0</td>\n",
       "    </tr>\n",
       "    <tr>\n",
       "      <th>mean</th>\n",
       "      <td>531.425813</td>\n",
       "      <td>48.628328</td>\n",
       "      <td>261.732082</td>\n",
       "      <td>12.876006</td>\n",
       "      <td>1.877053</td>\n",
       "      <td>10.409959</td>\n",
       "    </tr>\n",
       "    <tr>\n",
       "      <th>std</th>\n",
       "      <td>299.440908</td>\n",
       "      <td>59.732131</td>\n",
       "      <td>268.623016</td>\n",
       "      <td>7.712391</td>\n",
       "      <td>4.169849</td>\n",
       "      <td>6.162407</td>\n",
       "    </tr>\n",
       "    <tr>\n",
       "      <th>min</th>\n",
       "      <td>1.000000</td>\n",
       "      <td>1.000000</td>\n",
       "      <td>1.000000</td>\n",
       "      <td>1.000000</td>\n",
       "      <td>0.000000</td>\n",
       "      <td>0.0</td>\n",
       "    </tr>\n",
       "    <tr>\n",
       "      <th>25%</th>\n",
       "      <td>293.000000</td>\n",
       "      <td>6.000000</td>\n",
       "      <td>56.000000</td>\n",
       "      <td>6.000000</td>\n",
       "      <td>0.000000</td>\n",
       "      <td>5.0</td>\n",
       "    </tr>\n",
       "    <tr>\n",
       "      <th>50%</th>\n",
       "      <td>514.000000</td>\n",
       "      <td>25.000000</td>\n",
       "      <td>163.000000</td>\n",
       "      <td>12.000000</td>\n",
       "      <td>0.000000</td>\n",
       "      <td>10.0</td>\n",
       "    </tr>\n",
       "    <tr>\n",
       "      <th>75%</th>\n",
       "      <td>784.000000</td>\n",
       "      <td>58.000000</td>\n",
       "      <td>360.000000</td>\n",
       "      <td>18.000000</td>\n",
       "      <td>2.000000</td>\n",
       "      <td>16.0</td>\n",
       "    </tr>\n",
       "    <tr>\n",
       "      <th>max</th>\n",
       "      <td>1096.000000</td>\n",
       "      <td>214.000000</td>\n",
       "      <td>856.000000</td>\n",
       "      <td>39.000000</td>\n",
       "      <td>50.000000</td>\n",
       "      <td>24.0</td>\n",
       "    </tr>\n",
       "  </tbody>\n",
       "</table>\n",
       "</div>"
      ],
      "text/plain": [
       "             raceId  constructorId      driverId  positionOrder        points  \\\n",
       "count  25840.000000   25840.000000  25840.000000   25840.000000  25840.000000   \n",
       "mean     531.425813      48.628328    261.732082      12.876006      1.877053   \n",
       "std      299.440908      59.732131    268.623016       7.712391      4.169849   \n",
       "min        1.000000       1.000000      1.000000       1.000000      0.000000   \n",
       "25%      293.000000       6.000000     56.000000       6.000000      0.000000   \n",
       "50%      514.000000      25.000000    163.000000      12.000000      0.000000   \n",
       "75%      784.000000      58.000000    360.000000      18.000000      2.000000   \n",
       "max     1096.000000     214.000000    856.000000      39.000000     50.000000   \n",
       "\n",
       "            rank  \n",
       "count     7591.0  \n",
       "mean   10.409959  \n",
       "std     6.162407  \n",
       "min          0.0  \n",
       "25%          5.0  \n",
       "50%         10.0  \n",
       "75%         16.0  \n",
       "max         24.0  "
      ]
     },
     "metadata": {},
     "output_type": "display_data"
    },
    {
     "data": {
      "text/html": [
       "<div>\n",
       "<style scoped>\n",
       "    .dataframe tbody tr th:only-of-type {\n",
       "        vertical-align: middle;\n",
       "    }\n",
       "\n",
       "    .dataframe tbody tr th {\n",
       "        vertical-align: top;\n",
       "    }\n",
       "\n",
       "    .dataframe thead th {\n",
       "        text-align: right;\n",
       "    }\n",
       "</style>\n",
       "<table border=\"1\" class=\"dataframe\">\n",
       "  <thead>\n",
       "    <tr style=\"text-align: right;\">\n",
       "      <th></th>\n",
       "      <th>raceId</th>\n",
       "      <th>constructorId</th>\n",
       "      <th>driverId</th>\n",
       "      <th>positionOrder</th>\n",
       "      <th>points</th>\n",
       "      <th>rank</th>\n",
       "      <th>year</th>\n",
       "    </tr>\n",
       "  </thead>\n",
       "  <tbody>\n",
       "    <tr>\n",
       "      <th>count</th>\n",
       "      <td>25840.000000</td>\n",
       "      <td>25840.000000</td>\n",
       "      <td>25840.000000</td>\n",
       "      <td>25840.000000</td>\n",
       "      <td>25840.000000</td>\n",
       "      <td>7591.0</td>\n",
       "      <td>25840.000000</td>\n",
       "    </tr>\n",
       "    <tr>\n",
       "      <th>mean</th>\n",
       "      <td>531.425813</td>\n",
       "      <td>48.628328</td>\n",
       "      <td>261.732082</td>\n",
       "      <td>12.876006</td>\n",
       "      <td>1.877053</td>\n",
       "      <td>10.409959</td>\n",
       "      <td>1990.251780</td>\n",
       "    </tr>\n",
       "    <tr>\n",
       "      <th>std</th>\n",
       "      <td>299.440908</td>\n",
       "      <td>59.732131</td>\n",
       "      <td>268.623016</td>\n",
       "      <td>7.712391</td>\n",
       "      <td>4.169849</td>\n",
       "      <td>6.162407</td>\n",
       "      <td>19.345632</td>\n",
       "    </tr>\n",
       "    <tr>\n",
       "      <th>min</th>\n",
       "      <td>1.000000</td>\n",
       "      <td>1.000000</td>\n",
       "      <td>1.000000</td>\n",
       "      <td>1.000000</td>\n",
       "      <td>0.000000</td>\n",
       "      <td>0.0</td>\n",
       "      <td>1950.000000</td>\n",
       "    </tr>\n",
       "    <tr>\n",
       "      <th>25%</th>\n",
       "      <td>293.000000</td>\n",
       "      <td>6.000000</td>\n",
       "      <td>56.000000</td>\n",
       "      <td>6.000000</td>\n",
       "      <td>0.000000</td>\n",
       "      <td>5.0</td>\n",
       "      <td>1976.000000</td>\n",
       "    </tr>\n",
       "    <tr>\n",
       "      <th>50%</th>\n",
       "      <td>514.000000</td>\n",
       "      <td>25.000000</td>\n",
       "      <td>163.000000</td>\n",
       "      <td>12.000000</td>\n",
       "      <td>0.000000</td>\n",
       "      <td>10.0</td>\n",
       "      <td>1990.000000</td>\n",
       "    </tr>\n",
       "    <tr>\n",
       "      <th>75%</th>\n",
       "      <td>784.000000</td>\n",
       "      <td>58.000000</td>\n",
       "      <td>360.000000</td>\n",
       "      <td>18.000000</td>\n",
       "      <td>2.000000</td>\n",
       "      <td>16.0</td>\n",
       "      <td>2007.000000</td>\n",
       "    </tr>\n",
       "    <tr>\n",
       "      <th>max</th>\n",
       "      <td>1096.000000</td>\n",
       "      <td>214.000000</td>\n",
       "      <td>856.000000</td>\n",
       "      <td>39.000000</td>\n",
       "      <td>50.000000</td>\n",
       "      <td>24.0</td>\n",
       "      <td>2022.000000</td>\n",
       "    </tr>\n",
       "  </tbody>\n",
       "</table>\n",
       "</div>"
      ],
      "text/plain": [
       "             raceId  constructorId      driverId  positionOrder        points  \\\n",
       "count  25840.000000   25840.000000  25840.000000   25840.000000  25840.000000   \n",
       "mean     531.425813      48.628328    261.732082      12.876006      1.877053   \n",
       "std      299.440908      59.732131    268.623016       7.712391      4.169849   \n",
       "min        1.000000       1.000000      1.000000       1.000000      0.000000   \n",
       "25%      293.000000       6.000000     56.000000       6.000000      0.000000   \n",
       "50%      514.000000      25.000000    163.000000      12.000000      0.000000   \n",
       "75%      784.000000      58.000000    360.000000      18.000000      2.000000   \n",
       "max     1096.000000     214.000000    856.000000      39.000000     50.000000   \n",
       "\n",
       "            rank          year  \n",
       "count     7591.0  25840.000000  \n",
       "mean   10.409959   1990.251780  \n",
       "std     6.162407     19.345632  \n",
       "min          0.0   1950.000000  \n",
       "25%          5.0   1976.000000  \n",
       "50%         10.0   1990.000000  \n",
       "75%         16.0   2007.000000  \n",
       "max         24.0   2022.000000  "
      ]
     },
     "metadata": {},
     "output_type": "display_data"
    }
   ],
   "source": [
    "display(results[['raceId', 'constructorId', 'driverId', 'positionOrder', 'points', 'fastestLapTime', 'rank']].describe())\n",
    "display(results_merged.describe())\n"
   ]
  },
  {
   "cell_type": "markdown",
   "metadata": {},
   "source": [
    "The distributions are the same between both tables so I am comfortable that the join was executed correctly. \n",
    "\n",
    "A few notes: \n",
    "- None of the fields are missing values besides rank \n",
    "- points has "
   ]
  },
  {
   "cell_type": "markdown",
   "metadata": {},
   "source": [
    "#### Checking for missing values in rank for Ferrari between 1981 and 2020"
   ]
  },
  {
   "cell_type": "code",
   "execution_count": 24,
   "metadata": {},
   "outputs": [
    {
     "name": "stdout",
     "output_type": "stream",
     "text": [
      "Missing value count rank:  738\n"
     ]
    }
   ],
   "source": [
    "ferrari_1981_2020 = results_merged.query(\"(year >= 1981) & (year <= 2020) & (name == 'Ferrari')\")\n",
    "\n",
    "print(\"Missing value count rank: \", ferrari_1981_2020['rank'].isna().sum())\n",
    "\n",
    "# display(ferrari_1981_2020)"
   ]
  },
  {
   "cell_type": "markdown",
   "metadata": {},
   "source": [
    "### Creating and validating needed aggregated data frames for each question"
   ]
  },
  {
   "cell_type": "markdown",
   "metadata": {},
   "source": [
    "#### Question a"
   ]
  },
  {
   "cell_type": "markdown",
   "metadata": {},
   "source": [
    "##### Creating data frame"
   ]
  },
  {
   "cell_type": "code",
   "execution_count": 25,
   "metadata": {},
   "outputs": [],
   "source": [
    "# Created new dataframe with constructor points by year \n",
    "constructors_agg = (results_merged.groupby([\"constructorId\", \"name\", \"year\"]).agg(points_by_year = ('points','sum'))).reset_index()\n",
    "\n",
    "# Querying for just years between 1981 and 2020, aggregating points by constructorId, and sorting by total points by constructor \n",
    "# Note: I am also getting the number of distinct years that each constructor competed during the time frame \n",
    "constructor_points_1981_2020 = (constructors_agg.query(\"(year >= 1981) & (year <= 2020)\").groupby([\"constructorId\", \"name\"]).agg(total_points_1981_2020 = ('points_by_year','sum'), distinct_years = ('year', 'nunique')).sort_values(by = 'total_points_1981_2020', ascending = False)).reset_index()\n",
    "\n"
   ]
  },
  {
   "cell_type": "markdown",
   "metadata": {},
   "source": [
    "##### Checking data frame"
   ]
  },
  {
   "cell_type": "code",
   "execution_count": 28,
   "metadata": {},
   "outputs": [
    {
     "name": "stdout",
     "output_type": "stream",
     "text": [
      "Row count check passed\n"
     ]
    }
   ],
   "source": [
    "# Checking for duplicates \n",
    "\n",
    "# Ensuring we have the correct number of rows \n",
    "# During the time period 1981 and 2020, I would expect the number of constructors to be computed by this: \n",
    "constructor_count_1981_2020 = results_merged.query(\"(year >= 1981) & (year <= 2020)\")['constructorId'].nunique()\n",
    "# Since the constructor_points_1981_2020 table is aggregated at the constructor level, I expect that the number of rows in that table should be equal to constructor_count_1981_2020\n",
    "if constructor_count_1981_2020 == constructor_points_1981_2020.shape[0]:\n",
    "    print('Row count check passed')\n",
    "else:\n",
    "    print('Row count check failed')\n",
    "\n",
    "\n",
    "# # Looking at data (descriptions)\n",
    "# display(constructor_points_1981_2020.describe())"
   ]
  },
  {
   "cell_type": "markdown",
   "metadata": {},
   "source": [
    "#### Question b"
   ]
  },
  {
   "cell_type": "markdown",
   "metadata": {},
   "source": [
    "##### Creating data frame"
   ]
  },
  {
   "cell_type": "code",
   "execution_count": 29,
   "metadata": {},
   "outputs": [],
   "source": [
    "# Note: using constructors_agg from question a\n",
    "\n",
    "# Querying for just years between 2001 and 2020, aggregating points by constructorId, and sorting by total points by constructor \n",
    "# Note: I am also getting the number of distinct years that each constructor competed during the time frame \n",
    "constructor_points_2001_2020 = (constructors_agg.query(\"(year >= 2001) & (year <= 2020)\").groupby([\"constructorId\", \"name\"]).agg(total_points_2001_2020 = ('points_by_year','sum'), distinct_years = ('year', 'nunique')).sort_values(by = 'total_points_2001_2020', ascending = False)).reset_index()\n"
   ]
  },
  {
   "cell_type": "markdown",
   "metadata": {},
   "source": [
    "##### Checking data frame"
   ]
  },
  {
   "cell_type": "code",
   "execution_count": null,
   "metadata": {},
   "outputs": [],
   "source": []
  },
  {
   "cell_type": "markdown",
   "metadata": {},
   "source": [
    "Note: \n",
    "- Will be using analysis from questions a and b to answer question c\n",
    "- Will be using results_merged to compute question d directly\n"
   ]
  },
  {
   "cell_type": "markdown",
   "metadata": {},
   "source": [
    "#### Question e\n",
    "\n"
   ]
  },
  {
   "cell_type": "markdown",
   "metadata": {},
   "source": [
    "There are a few different metrics I want to look at to determine Ferrari's best year between 1981 and 2020:\n",
    "- Total number of points accumulated in each year - directly indicates performance in each season\n",
    "- Average number of points per race in each year \n",
    "- The number of races won in each year (also show relative to total races) - measure of dominance\n",
    "- The number of total podium finishes in each year (also show relative to total races) - measure of consistency \n",
    "- The fastestLap for each year - could be an indicator of Ferrari's potential speed"
   ]
  },
  {
   "cell_type": "markdown",
   "metadata": {},
   "source": [
    "##### Creating data frame"
   ]
  },
  {
   "cell_type": "code",
   "execution_count": null,
   "metadata": {},
   "outputs": [],
   "source": [
    "\n",
    "\n",
    "\n",
    "constructors_agg = (results_merged.groupby([\"constructorId\", \"name\", \"year\"]).agg(total_points_by_year = ('points','sum'), avg_points_by_year = ('points', 'mean'), '')).reset_index()\n"
   ]
  },
  {
   "cell_type": "code",
   "execution_count": 40,
   "metadata": {},
   "outputs": [
    {
     "data": {
      "text/html": [
       "<div>\n",
       "<style scoped>\n",
       "    .dataframe tbody tr th:only-of-type {\n",
       "        vertical-align: middle;\n",
       "    }\n",
       "\n",
       "    .dataframe tbody tr th {\n",
       "        vertical-align: top;\n",
       "    }\n",
       "\n",
       "    .dataframe thead th {\n",
       "        text-align: right;\n",
       "    }\n",
       "</style>\n",
       "<table border=\"1\" class=\"dataframe\">\n",
       "  <thead>\n",
       "    <tr style=\"text-align: right;\">\n",
       "      <th></th>\n",
       "      <th>raceId</th>\n",
       "      <th>constructorId</th>\n",
       "      <th>driverId</th>\n",
       "      <th>positionOrder</th>\n",
       "      <th>points</th>\n",
       "      <th>fastestLapTime</th>\n",
       "      <th>rank</th>\n",
       "      <th>year</th>\n",
       "      <th>name</th>\n",
       "      <th>fullName</th>\n",
       "    </tr>\n",
       "  </thead>\n",
       "  <tbody>\n",
       "    <tr>\n",
       "      <th>0</th>\n",
       "      <td>18</td>\n",
       "      <td>1</td>\n",
       "      <td>1</td>\n",
       "      <td>1</td>\n",
       "      <td>10.0</td>\n",
       "      <td>1:27.452</td>\n",
       "      <td>2</td>\n",
       "      <td>2008</td>\n",
       "      <td>McLaren</td>\n",
       "      <td>Lewis Hamilton</td>\n",
       "    </tr>\n",
       "    <tr>\n",
       "      <th>1</th>\n",
       "      <td>18</td>\n",
       "      <td>2</td>\n",
       "      <td>2</td>\n",
       "      <td>2</td>\n",
       "      <td>8.0</td>\n",
       "      <td>1:27.739</td>\n",
       "      <td>3</td>\n",
       "      <td>2008</td>\n",
       "      <td>BMW Sauber</td>\n",
       "      <td>Nick Heidfeld</td>\n",
       "    </tr>\n",
       "    <tr>\n",
       "      <th>2</th>\n",
       "      <td>18</td>\n",
       "      <td>3</td>\n",
       "      <td>3</td>\n",
       "      <td>3</td>\n",
       "      <td>6.0</td>\n",
       "      <td>1:28.090</td>\n",
       "      <td>5</td>\n",
       "      <td>2008</td>\n",
       "      <td>Williams</td>\n",
       "      <td>Nico Rosberg</td>\n",
       "    </tr>\n",
       "    <tr>\n",
       "      <th>3</th>\n",
       "      <td>18</td>\n",
       "      <td>4</td>\n",
       "      <td>4</td>\n",
       "      <td>4</td>\n",
       "      <td>5.0</td>\n",
       "      <td>1:28.603</td>\n",
       "      <td>7</td>\n",
       "      <td>2008</td>\n",
       "      <td>Renault</td>\n",
       "      <td>Fernando Alonso</td>\n",
       "    </tr>\n",
       "    <tr>\n",
       "      <th>4</th>\n",
       "      <td>18</td>\n",
       "      <td>1</td>\n",
       "      <td>5</td>\n",
       "      <td>5</td>\n",
       "      <td>4.0</td>\n",
       "      <td>1:27.418</td>\n",
       "      <td>1</td>\n",
       "      <td>2008</td>\n",
       "      <td>McLaren</td>\n",
       "      <td>Heikki Kovalainen</td>\n",
       "    </tr>\n",
       "    <tr>\n",
       "      <th>...</th>\n",
       "      <td>...</td>\n",
       "      <td>...</td>\n",
       "      <td>...</td>\n",
       "      <td>...</td>\n",
       "      <td>...</td>\n",
       "      <td>...</td>\n",
       "      <td>...</td>\n",
       "      <td>...</td>\n",
       "      <td>...</td>\n",
       "      <td>...</td>\n",
       "    </tr>\n",
       "    <tr>\n",
       "      <th>25835</th>\n",
       "      <td>1096</td>\n",
       "      <td>210</td>\n",
       "      <td>854</td>\n",
       "      <td>16</td>\n",
       "      <td>0.0</td>\n",
       "      <td>1:29.833</td>\n",
       "      <td>12</td>\n",
       "      <td>2022</td>\n",
       "      <td>Haas F1 Team</td>\n",
       "      <td>Mick Schumacher</td>\n",
       "    </tr>\n",
       "    <tr>\n",
       "      <th>25836</th>\n",
       "      <td>1096</td>\n",
       "      <td>210</td>\n",
       "      <td>825</td>\n",
       "      <td>17</td>\n",
       "      <td>0.0</td>\n",
       "      <td>1:31.158</td>\n",
       "      <td>20</td>\n",
       "      <td>2022</td>\n",
       "      <td>Haas F1 Team</td>\n",
       "      <td>Kevin Magnussen</td>\n",
       "    </tr>\n",
       "    <tr>\n",
       "      <th>25837</th>\n",
       "      <td>1096</td>\n",
       "      <td>131</td>\n",
       "      <td>1</td>\n",
       "      <td>18</td>\n",
       "      <td>0.0</td>\n",
       "      <td>1:29.788</td>\n",
       "      <td>11</td>\n",
       "      <td>2022</td>\n",
       "      <td>Mercedes</td>\n",
       "      <td>Lewis Hamilton</td>\n",
       "    </tr>\n",
       "    <tr>\n",
       "      <th>25838</th>\n",
       "      <td>1096</td>\n",
       "      <td>3</td>\n",
       "      <td>849</td>\n",
       "      <td>19</td>\n",
       "      <td>0.0</td>\n",
       "      <td>1:30.309</td>\n",
       "      <td>14</td>\n",
       "      <td>2022</td>\n",
       "      <td>Williams</td>\n",
       "      <td>Nicholas Latifi</td>\n",
       "    </tr>\n",
       "    <tr>\n",
       "      <th>25839</th>\n",
       "      <td>1096</td>\n",
       "      <td>214</td>\n",
       "      <td>4</td>\n",
       "      <td>20</td>\n",
       "      <td>0.0</td>\n",
       "      <td>1:30.579</td>\n",
       "      <td>17</td>\n",
       "      <td>2022</td>\n",
       "      <td>Alpine F1 Team</td>\n",
       "      <td>Fernando Alonso</td>\n",
       "    </tr>\n",
       "  </tbody>\n",
       "</table>\n",
       "<p>25840 rows × 10 columns</p>\n",
       "</div>"
      ],
      "text/plain": [
       "       raceId  constructorId  driverId  positionOrder  points fastestLapTime  \\\n",
       "0          18              1         1              1    10.0       1:27.452   \n",
       "1          18              2         2              2     8.0       1:27.739   \n",
       "2          18              3         3              3     6.0       1:28.090   \n",
       "3          18              4         4              4     5.0       1:28.603   \n",
       "4          18              1         5              5     4.0       1:27.418   \n",
       "...       ...            ...       ...            ...     ...            ...   \n",
       "25835    1096            210       854             16     0.0       1:29.833   \n",
       "25836    1096            210       825             17     0.0       1:31.158   \n",
       "25837    1096            131         1             18     0.0       1:29.788   \n",
       "25838    1096              3       849             19     0.0       1:30.309   \n",
       "25839    1096            214         4             20     0.0       1:30.579   \n",
       "\n",
       "       rank  year            name           fullName  \n",
       "0         2  2008         McLaren     Lewis Hamilton  \n",
       "1         3  2008      BMW Sauber      Nick Heidfeld  \n",
       "2         5  2008        Williams       Nico Rosberg  \n",
       "3         7  2008         Renault    Fernando Alonso  \n",
       "4         1  2008         McLaren  Heikki Kovalainen  \n",
       "...     ...   ...             ...                ...  \n",
       "25835    12  2022    Haas F1 Team    Mick Schumacher  \n",
       "25836    20  2022    Haas F1 Team    Kevin Magnussen  \n",
       "25837    11  2022        Mercedes     Lewis Hamilton  \n",
       "25838    14  2022        Williams    Nicholas Latifi  \n",
       "25839    17  2022  Alpine F1 Team    Fernando Alonso  \n",
       "\n",
       "[25840 rows x 10 columns]"
      ]
     },
     "metadata": {},
     "output_type": "display_data"
    }
   ],
   "source": [
    "display(results_merged)"
   ]
  },
  {
   "cell_type": "markdown",
   "metadata": {},
   "source": [
    "# IV. Results, visualizations and answers to each question"
   ]
  },
  {
   "cell_type": "markdown",
   "metadata": {},
   "source": [
    "## Question a"
   ]
  },
  {
   "cell_type": "markdown",
   "metadata": {},
   "source": [
    "#### Top 3 constructors by total points and average total points across top 3 contructors between 1981 and 2020"
   ]
  },
  {
   "cell_type": "code",
   "execution_count": 31,
   "metadata": {},
   "outputs": [
    {
     "data": {
      "text/html": [
       "<div>\n",
       "<style scoped>\n",
       "    .dataframe tbody tr th:only-of-type {\n",
       "        vertical-align: middle;\n",
       "    }\n",
       "\n",
       "    .dataframe tbody tr th {\n",
       "        vertical-align: top;\n",
       "    }\n",
       "\n",
       "    .dataframe thead th {\n",
       "        text-align: right;\n",
       "    }\n",
       "</style>\n",
       "<table border=\"1\" class=\"dataframe\">\n",
       "  <thead>\n",
       "    <tr style=\"text-align: right;\">\n",
       "      <th></th>\n",
       "      <th>constructorId</th>\n",
       "      <th>name</th>\n",
       "      <th>total_points_1981_2020</th>\n",
       "      <th>distinct_years</th>\n",
       "    </tr>\n",
       "  </thead>\n",
       "  <tbody>\n",
       "    <tr>\n",
       "      <th>0</th>\n",
       "      <td>6</td>\n",
       "      <td>Ferrari</td>\n",
       "      <td>7374.0</td>\n",
       "      <td>40</td>\n",
       "    </tr>\n",
       "    <tr>\n",
       "      <th>1</th>\n",
       "      <td>131</td>\n",
       "      <td>Mercedes</td>\n",
       "      <td>5685.0</td>\n",
       "      <td>11</td>\n",
       "    </tr>\n",
       "    <tr>\n",
       "      <th>2</th>\n",
       "      <td>1</td>\n",
       "      <td>McLaren</td>\n",
       "      <td>5229.5</td>\n",
       "      <td>40</td>\n",
       "    </tr>\n",
       "  </tbody>\n",
       "</table>\n",
       "</div>"
      ],
      "text/plain": [
       "   constructorId      name  total_points_1981_2020  distinct_years\n",
       "0              6   Ferrari                  7374.0              40\n",
       "1            131  Mercedes                  5685.0              11\n",
       "2              1   McLaren                  5229.5              40"
      ]
     },
     "metadata": {},
     "output_type": "display_data"
    },
    {
     "name": "stdout",
     "output_type": "stream",
     "text": [
      "Average total points across top 3 constructors between 1981 and 2020  6096.166666666667\n"
     ]
    }
   ],
   "source": [
    "# Getting the names of the top 3 constructors to compute the average \n",
    "top_3_constructor_1981_2020 = constructor_points_1981_2020.iloc[0:3,:]['name']\n",
    "\n",
    "# Getting the average total points between 1981 and 2020 for top 3 constructors \n",
    "top_3_avg_total_points_1981_2020 = constructor_points_1981_2020[constructor_points_1981_2020['name'].isin(top_3_constructor_1981_2020)]['total_points_1981_2020'].mean()\n",
    "\n",
    "# showing the top 3 constructors by total points between 1981 to 2020\n",
    "display(constructor_points_1981_2020.iloc[0:3,:])\n",
    "\n",
    "# printing the average total points for the top 3 constructors\n",
    "print(\"Average total points across top 3 constructors between 1981 and 2020 \", top_3_avg_total_points_1981_2020)"
   ]
  },
  {
   "cell_type": "markdown",
   "metadata": {},
   "source": [
    "#### Visualization of top 3 constructors by total points and average total points across top 3 constructors between 1981 and 2020"
   ]
  },
  {
   "cell_type": "code",
   "execution_count": 32,
   "metadata": {},
   "outputs": [
    {
     "data": {
      "image/png": "[encoded data removed]",
      "text/plain": [
       "<Figure size 700x400 with 1 Axes>"
      ]
     },
     "metadata": {},
     "output_type": "display_data"
    }
   ],
   "source": [
    "# Create a bar chart for the top 3 constructors\n",
    "plt.figure(figsize=(7, 4))\n",
    "bars = plt.bar(constructor_points_1981_2020.iloc[0:3,:]['name'], constructor_points_1981_2020.iloc[0:3,:]['total_points_1981_2020'], color='blue')\n",
    "plt.axhline(y=top_3_avg_total_points_1981_2020, color='red', linestyle='--', label=f'Average Points Across Top 3 Constructors: {top_3_avg_total_points_1981_2020:.0f}')\n",
    "\n",
    "for bar in bars:\n",
    "    yval = bar.get_height()  # Get the height of the bar (total points)\n",
    "    plt.text(bar.get_x() + bar.get_width()/2, yval, f'{yval:,.0f}', ha='center', va='bottom', fontsize=10)\n",
    "\n",
    "\n",
    "plt.xlabel('Constructor')\n",
    "plt.ylabel('Total Points (1981-2020)')\n",
    "plt.title('Top 3 Constructors by Total Points (1981-2020)')\n",
    "plt.ylim(0, 8000)\n",
    "plt.legend()\n",
    "\n",
    "# Display the plot\n",
    "plt.show()"
   ]
  },
  {
   "cell_type": "markdown",
   "metadata": {},
   "source": [
    "### Answers\n",
    "\n",
    "| Constructor | Total Points Between 1981 and 2020 | Years Competed between 1981 and 2020 |\n",
    "|-------------|------------------------------------|--------------------------------------|\n",
    "| Ferrari     | 7,374                              | 40                                   |\n",
    "| Mercedes    | 5,685                              | 11                                   |\n",
    "| McLaren     | 5,230                              | 40                                   |\n",
    "\n",
    "Avergage total points across top 3 constructors between 1981 and 2020 was 6,096 points\n",
    "\n",
    "\n",
    "#### Ferrari, Mercedes, and McLaren had the highest number of total points between 1981 and 2020\n",
    "\n",
    "#### Between 1981 and 2020, Ferrari got 7,374 total points, Mercedes got 5,685 total points, and McLaren got 5,230 total points (5,229.5)\n",
    "\n",
    "#### As shown in the bar chart above, both Mercedes and McLaren are below the average of the top 3 indicating that Ferrari dominates in terms of total points accumulated between 1981 and 2020, though Mercedes and McLaren are still strong performers. Also, between 1981 and 2020, mercedes only competed for 11 years while Ferrari and McLaren both competed for all 40 years. \n"
   ]
  },
  {
   "cell_type": "markdown",
   "metadata": {},
   "source": [
    "## Question b"
   ]
  },
  {
   "cell_type": "markdown",
   "metadata": {},
   "source": [
    "#### Top 3 constructors by total points and average total points across top 3 contructors between 2001 and 2020"
   ]
  },
  {
   "cell_type": "code",
   "execution_count": 33,
   "metadata": {},
   "outputs": [
    {
     "data": {
      "text/html": [
       "<div>\n",
       "<style scoped>\n",
       "    .dataframe tbody tr th:only-of-type {\n",
       "        vertical-align: middle;\n",
       "    }\n",
       "\n",
       "    .dataframe tbody tr th {\n",
       "        vertical-align: top;\n",
       "    }\n",
       "\n",
       "    .dataframe thead th {\n",
       "        text-align: right;\n",
       "    }\n",
       "</style>\n",
       "<table border=\"1\" class=\"dataframe\">\n",
       "  <thead>\n",
       "    <tr style=\"text-align: right;\">\n",
       "      <th></th>\n",
       "      <th>constructorId</th>\n",
       "      <th>name</th>\n",
       "      <th>total_points_2001_2020</th>\n",
       "      <th>distinct_years</th>\n",
       "    </tr>\n",
       "  </thead>\n",
       "  <tbody>\n",
       "    <tr>\n",
       "      <th>0</th>\n",
       "      <td>6</td>\n",
       "      <td>Ferrari</td>\n",
       "      <td>5862.0</td>\n",
       "      <td>20</td>\n",
       "    </tr>\n",
       "    <tr>\n",
       "      <th>1</th>\n",
       "      <td>131</td>\n",
       "      <td>Mercedes</td>\n",
       "      <td>5685.0</td>\n",
       "      <td>11</td>\n",
       "    </tr>\n",
       "    <tr>\n",
       "      <th>2</th>\n",
       "      <td>9</td>\n",
       "      <td>Red Bull</td>\n",
       "      <td>5043.5</td>\n",
       "      <td>16</td>\n",
       "    </tr>\n",
       "  </tbody>\n",
       "</table>\n",
       "</div>"
      ],
      "text/plain": [
       "   constructorId      name  total_points_2001_2020  distinct_years\n",
       "0              6   Ferrari                  5862.0              20\n",
       "1            131  Mercedes                  5685.0              11\n",
       "2              9  Red Bull                  5043.5              16"
      ]
     },
     "metadata": {},
     "output_type": "display_data"
    },
    {
     "name": "stdout",
     "output_type": "stream",
     "text": [
      "Average total points across top 3 constructors between 2001 and 2020  5530.166666666667\n"
     ]
    }
   ],
   "source": [
    "# Getting the names of the top 3 constructors to compute the average \n",
    "top_3_constructor_2001_2020 = constructor_points_2001_2020.iloc[0:3,:]['name']\n",
    "\n",
    "# Getting the average total points between 2001 and 2020 for top 3 constructors \n",
    "top_3_avg_total_points_2001_2020 = constructor_points_2001_2020[constructor_points_2001_2020['name'].isin(top_3_constructor_2001_2020)]['total_points_2001_2020'].mean()\n",
    "\n",
    "# showing the top 3 constructors by total points between 2001 to 2020\n",
    "display(constructor_points_2001_2020.iloc[0:3,:])\n",
    "\n",
    "# printing the average total points for the top 3 constructors\n",
    "print(\"Average total points across top 3 constructors between 2001 and 2020 \", top_3_avg_total_points_2001_2020)"
   ]
  },
  {
   "cell_type": "markdown",
   "metadata": {},
   "source": [
    "#### Visualization of top 3 constructors by total points and average total points across top 3 constructors between 2001 and 2020"
   ]
  },
  {
   "cell_type": "code",
   "execution_count": 34,
   "metadata": {},
   "outputs": [
    {
     "data": {
      "image/png": "[encoded data removed]",
      "text/plain": [
       "<Figure size 700x400 with 1 Axes>"
      ]
     },
     "metadata": {},
     "output_type": "display_data"
    }
   ],
   "source": [
    "# Create a bar chart for the top 3 constructors\n",
    "\n",
    "plt.figure(figsize=(7, 4))\n",
    "bars = plt.bar(constructor_points_2001_2020.iloc[0:3,:]['name'], constructor_points_2001_2020.iloc[0:3,:]['total_points_2001_2020'], color='blue')\n",
    "plt.axhline(y=top_3_avg_total_points_2001_2020, color='red', linestyle='--', label=f'Average Points Across Top 3 Constructors: {top_3_avg_total_points_2001_2020:.0f}')\n",
    "\n",
    "for bar in bars:\n",
    "    yval = bar.get_height()  # Get the height of the bar (total points)\n",
    "    plt.text(bar.get_x() + bar.get_width()/2, yval, f'{yval:,.0f}', ha='center', va='bottom', fontsize=10)\n",
    "\n",
    "plt.ylim(0, 7000)\n",
    "plt.xlabel('Constructor')\n",
    "plt.ylabel('Total Points (2001-2020)')\n",
    "plt.title('Top 3 Constructors by Total Points (2001-2020)')\n",
    "plt.legend() \n",
    "\n",
    "# Display the plot\n",
    "plt.show()"
   ]
  },
  {
   "cell_type": "markdown",
   "metadata": {},
   "source": [
    "### Answers\n",
    "| Constructor | Total Points Between 2001 and 2020 | Years Competed Between 2001 and 2020 |\n",
    "|-------------|------------------------------------|--------------------------------------|\n",
    "| Ferrari     | 5,862                              | 20                                   |\n",
    "| Mercedes    | 5,685                              | 11                                   |\n",
    "| Red Bull    | 5,044                              | 16                                   |\n",
    "\n",
    "Avergage total points across top 3 constructors between 2001 and 2020 was 5,530 points\n",
    "\n",
    "#### Ferrari, Mercedes, and Red Bull had the highest number of total points between 2001 and 2020\n",
    "\n",
    "#### Between 2001 and 2020, Ferrari got 5,862 total points, Mercedes got 5,685 total points, and Red Bull got 5,004 total points; note that Mercedes has the same number of total points between 1981 and 2020, and between 2001 and 2020 because within those time periods, they only started racing from 2010 onwards.\n",
    "\n",
    "#### As shown in the bar chart above, both Ferrari and Mercedes are above the average total points for the top 3 indicating the close competition between them in this period. Red bull is slightly below average but is still a strong competitor. Ferrari has also been racing for more years during this time period than the other constructors. \n"
   ]
  },
  {
   "cell_type": "markdown",
   "metadata": {},
   "source": [
    "## Question c"
   ]
  },
  {
   "cell_type": "markdown",
   "metadata": {},
   "source": [
    "#### Comparing tables and bar charts from questions a and b "
   ]
  },
  {
   "cell_type": "code",
   "execution_count": 39,
   "metadata": {},
   "outputs": [
    {
     "data": {
      "image/png": "[encoded data removed]",
      "text/plain": [
       "<Figure size 1200x400 with 2 Axes>"
      ]
     },
     "metadata": {},
     "output_type": "display_data"
    }
   ],
   "source": [
    "# Creating a plot with 1 row, 2 columns\n",
    "fig, list_subfig = plt.subplots(1, 2,figsize = (12,4))\n",
    "\n",
    "\n",
    "plt.tight_layout()\n",
    "plt.subplots_adjust(wspace=0.4)\n",
    "# First Subfigure (Bar Chart for Top 3 Constructors 1981 - 2020)\n",
    "bars = list_subfig[0].bar(constructor_points_1981_2020.iloc[0:3,:]['name'], constructor_points_1981_2020.iloc[0:3,:]['total_points_1981_2020'], color='blue')\n",
    "list_subfig[0].axhline(y=top_3_avg_total_points_1981_2020, color='red', linestyle='--', label=f'Avg Points Across Top 3: {top_3_avg_total_points_1981_2020:.0f}')\n",
    "\n",
    "for bar in bars:\n",
    "    yval = bar.get_height()  # Get the height of the bar (total points)\n",
    "    list_subfig[0].text(bar.get_x() + bar.get_width()/2, yval, f'{yval:,.0f}', ha='center', va='bottom', fontsize=10)\n",
    "\n",
    "list_subfig[0].set_xlabel('Constructor')\n",
    "list_subfig[0].set_ylabel('Total Points (1981-2020)')\n",
    "list_subfig[0].set_title('Top 3 Constructors by Total Points (1981-2020)')\n",
    "list_subfig[0].set_ylim(0, 8000)\n",
    "list_subfig[0].legend()\n",
    "\n",
    "\n",
    "\n",
    "# Second Subfigure (Bar Chart for Top 3 Constructors 2021 - 2020)\n",
    "bars = list_subfig[1].bar(constructor_points_2001_2020.iloc[0:3,:]['name'], constructor_points_2001_2020.iloc[0:3,:]['total_points_2001_2020'], color='blue')\n",
    "list_subfig[1].axhline(y=top_3_avg_total_points_2001_2020, color='red', linestyle='--', label=f'Avg Points Across Top 3: {top_3_avg_total_points_2001_2020:.0f}')\n",
    "\n",
    "for bar in bars:\n",
    "    yval = bar.get_height()  # Get the height of the bar (total points)\n",
    "    list_subfig[1].text(bar.get_x() + bar.get_width()/2, yval, f'{yval:,.0f}', ha='center', va='bottom', fontsize=10)\n",
    "\n",
    "list_subfig[1].set_xlabel('Constructor')\n",
    "list_subfig[1].set_ylabel('Total Points (2001-2020)')\n",
    "list_subfig[1].set_title('Top 3 Constructors by Total Points (2001-2020)')\n",
    "list_subfig[1].set_ylim(0, 8000)\n",
    "list_subfig[1].legend()\n",
    "\n",
    "\n",
    "# Display the plot\n",
    "plt.show()"
   ]
  },
  {
   "cell_type": "markdown",
   "metadata": {},
   "source": [
    "### Answers\n",
    "\n",
    "McLaren dropped out of the top three during the 2001-2020 time period, while Red Bull entered the top 3 taking 3rd place. \n",
    "\n",
    "Ferrari remained the top constructor between both time periods, though they appear to be less dominant in the 2001-2020 time period.\n",
    "\n",
    "Mercedes' total points remained the same between both time periods because they only started competing in 2010, which makes sense why the gap of total points from Ferrari decreased in the 2001-2020 time period since the number of years competing between the two constructors are becoming more similar. "
   ]
  },
  {
   "cell_type": "code",
   "execution_count": null,
   "metadata": {},
   "outputs": [],
   "source": []
  },
  {
   "cell_type": "markdown",
   "metadata": {},
   "source": [
    "## Question d"
   ]
  },
  {
   "cell_type": "code",
   "execution_count": 42,
   "metadata": {},
   "outputs": [
    {
     "name": "stdout",
     "output_type": "stream",
     "text": [
      "Unique Ferrari drivers between 1981 and 2020:  25\n"
     ]
    }
   ],
   "source": [
    "\n",
    "# Querying for just years between 1981 and 2020, aggregating points by constructorId, and sorting by total points by constructor \n",
    "# Note: I am also getting the number of distinct years that each constructor competed during the time frame \n",
    "drivers_ferrari_1981_2020 = (results_merged.query(\"(year >= 1981) & (year <= 2020) & (name == 'Ferrari')\"))['fullName'].nunique()\n",
    "\n",
    "print(\"Unique Ferrari drivers between 1981 and 2020: \", drivers_ferrari_1981_2020)\n",
    "                                                   \n",
    "\n"
   ]
  },
  {
   "cell_type": "markdown",
   "metadata": {},
   "source": [
    "### Answers\n",
    "\n",
    "There were 25 different drivers for Ferrari between 1981 and 2020"
   ]
  },
  {
   "cell_type": "code",
   "execution_count": null,
   "metadata": {},
   "outputs": [],
   "source": []
  }
 ],
 "metadata": {
  "kernelspec": {
   "display_name": "Python 3",
   "language": "python",
   "name": "python3"
  },
  "language_info": {
   "codemirror_mode": {
    "name": "ipython",
    "version": 3
   },
   "file_extension": ".py",
   "mimetype": "text/x-python",
   "name": "python",
   "nbconvert_exporter": "python",
   "pygments_lexer": "ipython3",
   "version": "3.11.5"
  }
 },
 "nbformat": 4,
 "nbformat_minor": 2
}
