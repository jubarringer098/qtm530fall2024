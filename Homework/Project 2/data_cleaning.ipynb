{
 "cells": [
  {
   "cell_type": "markdown",
   "metadata": {},
   "source": [
    "## Import Needed Libraries"
   ]
  },
  {
   "cell_type": "code",
   "execution_count": 1,
   "metadata": {},
   "outputs": [],
   "source": [
    "import pandas as pd\n",
    "import numpy as np"
   ]
  },
  {
   "cell_type": "markdown",
   "metadata": {},
   "source": [
    "## Import Dataset"
   ]
  },
  {
   "cell_type": "code",
   "execution_count": 2,
   "metadata": {},
   "outputs": [],
   "source": [
    "df_dogs_info = pd.read_csv('georgia_dogs 09:01.csv')\n",
    "df_dogs = df_dogs_info.copy()"
   ]
  },
  {
   "cell_type": "markdown",
   "metadata": {},
   "source": [
    "## Cleaning Data"
   ]
  },
  {
   "cell_type": "markdown",
   "metadata": {},
   "source": [
    "### Drop Unneeded Columns"
   ]
  },
  {
   "cell_type": "code",
   "execution_count": 3,
   "metadata": {},
   "outputs": [],
   "source": [
    "# Defining a list of columns that aren't needed for the analysis \n",
    "columns_to_drop = ['pet_name', 'secondary_breed', 'primary_colour', 'secondary_colour', 'coat_length', 'children', 'cats', 'other_dogs', 'other_animals', 'fee_waived', 'characteristics', 'house_trained', 'health', 'size', 'shelter_id', 'zip_code']\n",
    "\n",
    "df_dogs = df_dogs.drop(columns=columns_to_drop)\n"
   ]
  },
  {
   "cell_type": "markdown",
   "metadata": {},
   "source": [
    "### Value Consistency"
   ]
  },
  {
   "cell_type": "markdown",
   "metadata": {},
   "source": [
    "#### Adoption Fee"
   ]
  },
  {
   "cell_type": "code",
   "execution_count": 4,
   "metadata": {},
   "outputs": [
    {
     "name": "stdout",
     "output_type": "stream",
     "text": [
      "['$100.00 ' nan '300' '350' '$200.00 ' '$175.00 ' '$75.00 ' '$250.00 ' '.'\n",
      " '$225.00 ' '$195.00 ' '$275.00 ' '$300.00 ' '$50.00 ' '$85.00 '\n",
      " '$350.00 ' '$250.01 ' '$125.00 ' '$150.00 ' '$500.00 ' '275' '$450.00 '\n",
      " '$270.00 ' '$375.00 ' '$400.00 ' '$25.00 ' '$251.00 ' '$90.00 '\n",
      " '$180.00 ' '50' '$298.00 ' '$249.00 ' '$40.00 ' '$325.00 ' '$475.00 '\n",
      " '$201.00 ' '$99.00 ' '$49.00 ' '$130.00 ' '$172.00 ' '99' '400'\n",
      " '$140.00 ' '$248.00 ' '$199.00 ' '$600.00 ' '450' '$60.00 ' '250' '500'\n",
      " '$324.00 ']\n"
     ]
    }
   ],
   "source": [
    "# Looking at unique adoption fees to identify different structures \n",
    "print(df_dogs['adoption_fee'].unique())"
   ]
  },
  {
   "cell_type": "code",
   "execution_count": 5,
   "metadata": {},
   "outputs": [],
   "source": [
    "# Using regular expression to make consistent structure\n",
    "df_dogs['adoption_fee'] = df_dogs['adoption_fee'].replace(['N/A', '.'], np.nan)\n",
    "df_dogs['adoption_fee'] = df_dogs['adoption_fee'].replace({r'\\$': ''}, regex=True)\n",
    "\n",
    "# Converting to numeric coerce errors to NaN\n",
    "df_dogs['adoption_fee'] = pd.to_numeric(df_dogs['adoption_fee'], errors='coerce')\n",
    "\n",
    "# Rounding and converting to Int64\n",
    "df_dogs['adoption_fee'] = df_dogs['adoption_fee'].round().astype('Int64')\n",
    "\n",
    "# Rounding to nearest 5 (from experience working with shelters, dogs are priced as multiples of 5)\n",
    "df_dogs['adoption_fee'] = df_dogs['adoption_fee'].apply(lambda x: 5 * round(x / 5) if pd.notnull(x) else x)"
   ]
  },
  {
   "cell_type": "code",
   "execution_count": 6,
   "metadata": {},
   "outputs": [
    {
     "name": "stdout",
     "output_type": "stream",
     "text": [
      "[100.  nan 300. 350. 200. 175.  75. 250. 225. 195. 275.  50.  85. 125.\n",
      " 150. 500. 450. 270. 375. 400.  25.  90. 180.  40. 325. 475. 130. 170.\n",
      " 140. 600.  60.]\n"
     ]
    }
   ],
   "source": [
    "print(df_dogs['adoption_fee'].unique())"
   ]
  },
  {
   "cell_type": "markdown",
   "metadata": {},
   "source": [
    "#### Pet Location"
   ]
  },
  {
   "cell_type": "code",
   "execution_count": 7,
   "metadata": {},
   "outputs": [
    {
     "name": "stdout",
     "output_type": "stream",
     "text": [
      "['Fayetteville, GA' 'Peachtree City, GA' 'Snellville, GA' 'Monticello, GA'\n",
      " 'Jonesboro, GA' 'Atlanta, GA' 'East Point, GA' 'Monroe, GA'\n",
      " 'Phenix City, AL' 'Dunwoody, GA' 'Decatur, GA' 'Augusta, GA'\n",
      " 'Lawrenceville, GA' 'Centerville, GA' 'Covington, GA'\n",
      " 'Peachtree City , GA' 'Macon, GA' 'Locust Grove, GA' 'Marshallville, GA'\n",
      " 'Stockbridge, GA' 'Milledgeville, GA' 'Albany, GA' 'Perry, GA'\n",
      " 'Stone Mountain, GA' 'Forsyth, GA' 'Griffin, GA' 'Eastman, GA'\n",
      " 'Newnan, GA' 'Dawson, GA' 'Norwood, GA' 'Tyrone, GA' 'Washington, GA'\n",
      " 'Columbus, GA' 'Auburn, GA' 'Winder, GA' 'Peachtree Corners, GA'\n",
      " 'Madison, GA' 'Colbert, GA' 'Buford, GA' 'Loganville, GA' 'Chamblee, GA'\n",
      " 'Sharpsburg, GA' 'Cusseta, GA' 'Athens, GA' 'Smyrna, GA'\n",
      " 'Social Circle, GA' 'ATLANTA , GA' 'WARNER ROBINS, GA' 'Douglas, GA'\n",
      " 'Grovetown, GA' 'Greensboro, GA' 'Jeffersonville, GA' 'Hamilton, GA'\n",
      " 'Conyers, GA' 'Danielsville, GA' 'Appling, GA' 'Knoxville, GA'\n",
      " 'Sparta, GA' 'Milner, GA' 'Douglasville, GA' 'Martinez, GA' 'thomson, GA'\n",
      " 'Sylvester, GA' 'Jackson, GA' 'Bishop, GA' 'Newborn, GA' 'Salem, AL'\n",
      " 'Valley, AL' 'Greenville, GA' 'Atlanta , GA' 'Metter, GA' 'Duluth, GA'\n",
      " 'Tucker, GA' 'phenix city, AL' 'Barnesville, GA' 'Swainsboro, GA'\n",
      " 'LaGrange, GA' 'Millen, GA' 'Lyons, GA' 'Leesburg, GA' 'Alpharetta, GA'\n",
      " 'Jefferson, GA' 'WAYNESBORO, GA' 'Dacula, GA' 'Lilburn, GA'\n",
      " 'Norcross, GA' 'Grayson, GA' 'ATLANTA, GA' 'College Park, GA'\n",
      " 'Harlem, GA' 'Austell, GA' 'Marietta, GA' 'Cochran, GA' 'Palmetto, GA']\n"
     ]
    }
   ],
   "source": [
    "# Looking at unique pet_locations to identify different structures \n",
    "print(df_dogs['pet_location'].unique())"
   ]
  },
  {
   "cell_type": "markdown",
   "metadata": {},
   "source": [
    "Findings:\n",
    "- There are different cases being used \n",
    "- Some cities have a space before the comma seperating the city and state\n",
    "- There are also some cities in Alabama that are present in the pet location, as the shelter might have a partner shelter in Alabama"
   ]
  },
  {
   "cell_type": "code",
   "execution_count": 8,
   "metadata": {},
   "outputs": [],
   "source": [
    "# Dropping pets in Alabama \n",
    "df_dogs = df_dogs[~df_dogs['pet_location'].str.contains(r',\\s*AL$', regex=True)]"
   ]
  },
  {
   "cell_type": "code",
   "execution_count": 9,
   "metadata": {},
   "outputs": [],
   "source": [
    "# Standardizing the pet_location format \n",
    "df_dogs['pet_location'] = (df_dogs['pet_location'].str.replace(r'\\s*,\\s*', ', ', regex=True).str.replace(r'\\s+', ' ', regex=True).str.title().str.replace(r'(\\bGa\\b)', 'GA', regex=True))"
   ]
  },
  {
   "cell_type": "code",
   "execution_count": 10,
   "metadata": {},
   "outputs": [
    {
     "name": "stdout",
     "output_type": "stream",
     "text": [
      "['Fayetteville, GA' 'Peachtree City, GA' 'Snellville, GA' 'Monticello, GA'\n",
      " 'Jonesboro, GA' 'Atlanta, GA' 'East Point, GA' 'Monroe, GA'\n",
      " 'Dunwoody, GA' 'Decatur, GA' 'Augusta, GA' 'Lawrenceville, GA'\n",
      " 'Centerville, GA' 'Covington, GA' 'Macon, GA' 'Locust Grove, GA'\n",
      " 'Marshallville, GA' 'Stockbridge, GA' 'Milledgeville, GA' 'Albany, GA'\n",
      " 'Perry, GA' 'Stone Mountain, GA' 'Forsyth, GA' 'Griffin, GA'\n",
      " 'Eastman, GA' 'Newnan, GA' 'Dawson, GA' 'Norwood, GA' 'Tyrone, GA'\n",
      " 'Washington, GA' 'Columbus, GA' 'Auburn, GA' 'Winder, GA'\n",
      " 'Peachtree Corners, GA' 'Madison, GA' 'Colbert, GA' 'Buford, GA'\n",
      " 'Loganville, GA' 'Chamblee, GA' 'Sharpsburg, GA' 'Cusseta, GA'\n",
      " 'Athens, GA' 'Smyrna, GA' 'Social Circle, GA' 'Warner Robins, GA'\n",
      " 'Douglas, GA' 'Grovetown, GA' 'Greensboro, GA' 'Jeffersonville, GA'\n",
      " 'Hamilton, GA' 'Conyers, GA' 'Danielsville, GA' 'Appling, GA'\n",
      " 'Knoxville, GA' 'Sparta, GA' 'Milner, GA' 'Douglasville, GA'\n",
      " 'Martinez, GA' 'Thomson, GA' 'Sylvester, GA' 'Jackson, GA' 'Bishop, GA'\n",
      " 'Newborn, GA' 'Greenville, GA' 'Metter, GA' 'Duluth, GA' 'Tucker, GA'\n",
      " 'Barnesville, GA' 'Swainsboro, GA' 'Lagrange, GA' 'Millen, GA'\n",
      " 'Lyons, GA' 'Leesburg, GA' 'Alpharetta, GA' 'Jefferson, GA'\n",
      " 'Waynesboro, GA' 'Dacula, GA' 'Lilburn, GA' 'Norcross, GA' 'Grayson, GA'\n",
      " 'College Park, GA' 'Harlem, GA' 'Austell, GA' 'Marietta, GA'\n",
      " 'Cochran, GA' 'Palmetto, GA']\n"
     ]
    }
   ],
   "source": [
    "print(df_dogs['pet_location'].unique())"
   ]
  },
  {
   "cell_type": "markdown",
   "metadata": {},
   "source": [
    "#### Primary Breed"
   ]
  },
  {
   "cell_type": "code",
   "execution_count": 11,
   "metadata": {},
   "outputs": [
    {
     "name": "stdout",
     "output_type": "stream",
     "text": [
      "['Basset Hound' 'American Staffordshire Terrier' 'Rat Terrier' 'Chihuahua'\n",
      " 'Shepherd' 'Australian Shepherd' 'Feist' 'Retriever' 'Labrador Retriever'\n",
      " 'Maltese' 'Staffordshire Bull Terrier' 'Pointer' 'Terrier'\n",
      " 'Pit Bull Terrier' 'Australian Cattle Dog / Blue Heeler'\n",
      " 'American Bulldog' 'Miniature Pinscher' 'Catahoula Leopard Dog'\n",
      " 'Jack Russell Terrier' 'Poodle' 'Akita' 'Mixed Breed' 'Bull Terrier'\n",
      " 'German Shepherd Dog' 'Boxer' 'German Pinscher' 'Black Mouth Cur'\n",
      " 'Cane Corso' 'Yorkshire Terrier' 'Siberian Husky' 'Beagle' 'Tosa Inu'\n",
      " 'Presa Canario' 'Hound' 'Bloodhound' 'Plott Hound' 'Husky'\n",
      " 'Wirehaired Terrier' 'English Bulldog' 'Dutch Shepherd'\n",
      " 'Doberman Pinscher' 'Collie' 'Neapolitan Mastiff' 'Mastiff'\n",
      " 'Black Labrador Retriever' 'Pug' 'Great Dane'\n",
      " 'Patterdale Terrier / Fell Terrier' 'Weimaraner' 'Shar-Pei'\n",
      " 'Yellow Labrador Retriever' 'Fox Terrier' 'Boerboel' 'Bullmastiff'\n",
      " 'Chocolate Labrador Retriever' 'Golden Retriever' 'Great Pyrenees'\n",
      " 'West Highland White Terrier / Westie' 'Treeing Walker Coonhound'\n",
      " 'Canaan Dog' 'Shih Tzu' 'Border Collie' 'Rottweiler' 'Mountain Cur'\n",
      " 'Vizsla' 'Belgian Shepherd / Malinois' 'Schnauzer' 'Aussiedoodle'\n",
      " 'Cattle Dog' 'Italian Greyhound' 'French Bulldog'\n",
      " 'German Shorthaired Pointer' 'Coonhound' 'Anatolian Shepherd' 'Spaniel'\n",
      " 'Bearded Collie' 'Jindo' 'Dogo Argentino' 'Rhodesian Ridgeback'\n",
      " 'Manchester Terrier' 'Chow Chow' 'Brittany Spaniel' 'Miniature Poodle'\n",
      " 'Parson Russell Terrier' 'Dachshund' 'Alaskan Malamute' 'Standard Poodle'\n",
      " 'Xoloitzcuintli / Mexican Hairless' 'Chinese Crested Dog' 'Shiba Inu'\n",
      " 'Spitz' 'Scottish Terrier' 'Corgi' 'Labradoodle' 'English Pointer'\n",
      " 'Pharaoh Hound' 'Carolina Dog' 'Boston Terrier' 'Redbone Coonhound'\n",
      " 'Bluetick Coonhound' 'Wirehaired Dachshund' 'Bulldog' 'Whippet'\n",
      " 'Airedale Terrier' 'Cardigan Welsh Corgi' 'White German Shepherd'\n",
      " 'Nova Scotia Duck Tolling Retriever' 'Cairn Terrier' 'English Coonhound'\n",
      " 'American Bully' 'Chesapeake Bay Retriever' 'Silky Terrier'\n",
      " 'Cavalier King Charles Spaniel' 'Australian Kelpie' 'Goldendoodle'\n",
      " 'Chiweenie' 'Cocker Spaniel' 'Lhasa Apso' 'Black and Tan Coonhound'\n",
      " 'Portuguese Water Dog' 'Giant Schnauzer' 'Pomeranian' 'Bichon Frise'\n",
      " 'Bavarian Mountain Hound' 'American Foxhound' 'Bernese Mountain Dog']\n"
     ]
    }
   ],
   "source": [
    "# Looking at unique primary breeds to identify different structures \n",
    "print(df_dogs['primary_breed'].unique())"
   ]
  },
  {
   "cell_type": "markdown",
   "metadata": {},
   "source": [
    "Findings: \n",
    "- It appears that some dogs have two breeds listed as their primary breed, seperated by a \"/\". In many of these cases, it looks like the breed after the \"/\" in another name for the breed before the \"/\"\n",
    "- In these cases, I am just going to take the breed before the \"/\""
   ]
  },
  {
   "cell_type": "code",
   "execution_count": 12,
   "metadata": {},
   "outputs": [],
   "source": [
    "df_dogs['primary_breed'] = df_dogs['primary_breed'].str.split('/').str[0].str.strip()\n"
   ]
  },
  {
   "cell_type": "markdown",
   "metadata": {},
   "source": [
    "### Missing Values"
   ]
  },
  {
   "cell_type": "code",
   "execution_count": 13,
   "metadata": {},
   "outputs": [],
   "source": [
    "# Replacing blanks with nan to identify missing values \n",
    "df_dogs = df_dogs.replace([r'^\\s*$', \"N/A\"], np.nan, regex=True)\n",
    "\n",
    "col_names = df_dogs.columns.tolist()\n",
    "dogs_missing_count = df_dogs[col_names].isna().sum()\n",
    "dogs_missing_share = ((df_dogs[col_names].isna().sum()/df_dogs.shape[0])*100).round(0).astype(int)\n",
    "dogs_missing_table = pd.DataFrame({\n",
    "    'Missing Count': dogs_missing_count,\n",
    "    'Missing Share (%)': dogs_missing_share\n",
    "})\n",
    "\n",
    "dogs_missing_table.reset_index(inplace=True)\n",
    "dogs_missing_table.rename(columns={'index': 'Variable'}, inplace=True)"
   ]
  },
  {
   "cell_type": "code",
   "execution_count": 14,
   "metadata": {},
   "outputs": [
    {
     "data": {
      "text/html": [
       "<div>\n",
       "<style scoped>\n",
       "    .dataframe tbody tr th:only-of-type {\n",
       "        vertical-align: middle;\n",
       "    }\n",
       "\n",
       "    .dataframe tbody tr th {\n",
       "        vertical-align: top;\n",
       "    }\n",
       "\n",
       "    .dataframe thead th {\n",
       "        text-align: right;\n",
       "    }\n",
       "</style>\n",
       "<table border=\"1\" class=\"dataframe\">\n",
       "  <thead>\n",
       "    <tr style=\"text-align: right;\">\n",
       "      <th></th>\n",
       "      <th>Variable</th>\n",
       "      <th>Missing Count</th>\n",
       "      <th>Missing Share (%)</th>\n",
       "    </tr>\n",
       "  </thead>\n",
       "  <tbody>\n",
       "    <tr>\n",
       "      <th>0</th>\n",
       "      <td>pet_id</td>\n",
       "      <td>0</td>\n",
       "      <td>0</td>\n",
       "    </tr>\n",
       "    <tr>\n",
       "      <th>1</th>\n",
       "      <td>primary_breed</td>\n",
       "      <td>0</td>\n",
       "      <td>0</td>\n",
       "    </tr>\n",
       "    <tr>\n",
       "      <th>2</th>\n",
       "      <td>mixed_breed</td>\n",
       "      <td>0</td>\n",
       "      <td>0</td>\n",
       "    </tr>\n",
       "    <tr>\n",
       "      <th>3</th>\n",
       "      <td>age</td>\n",
       "      <td>0</td>\n",
       "      <td>0</td>\n",
       "    </tr>\n",
       "    <tr>\n",
       "      <th>4</th>\n",
       "      <td>gender</td>\n",
       "      <td>0</td>\n",
       "      <td>0</td>\n",
       "    </tr>\n",
       "    <tr>\n",
       "      <th>5</th>\n",
       "      <td>shelter_name</td>\n",
       "      <td>0</td>\n",
       "      <td>0</td>\n",
       "    </tr>\n",
       "    <tr>\n",
       "      <th>6</th>\n",
       "      <td>num_photos</td>\n",
       "      <td>0</td>\n",
       "      <td>0</td>\n",
       "    </tr>\n",
       "    <tr>\n",
       "      <th>7</th>\n",
       "      <td>pet_location</td>\n",
       "      <td>0</td>\n",
       "      <td>0</td>\n",
       "    </tr>\n",
       "    <tr>\n",
       "      <th>8</th>\n",
       "      <td>adoption_fee</td>\n",
       "      <td>3678</td>\n",
       "      <td>86</td>\n",
       "    </tr>\n",
       "  </tbody>\n",
       "</table>\n",
       "</div>"
      ],
      "text/plain": [
       "        Variable  Missing Count  Missing Share (%)\n",
       "0         pet_id              0                  0\n",
       "1  primary_breed              0                  0\n",
       "2    mixed_breed              0                  0\n",
       "3            age              0                  0\n",
       "4         gender              0                  0\n",
       "5   shelter_name              0                  0\n",
       "6     num_photos              0                  0\n",
       "7   pet_location              0                  0\n",
       "8   adoption_fee           3678                 86"
      ]
     },
     "metadata": {},
     "output_type": "display_data"
    }
   ],
   "source": [
    "display(dogs_missing_table)"
   ]
  },
  {
   "cell_type": "markdown",
   "metadata": {},
   "source": [
    "Findings:\n",
    "- The adoption_fee field is missing 86% of values\n",
    "\n",
    "From experience, I know that most shelters charge a flat rate for each dog based on their age. I will use this knowledge to fill in the missing values based on age for adoption_fee for shelters who list the adoption_fee.  "
   ]
  },
  {
   "cell_type": "code",
   "execution_count": 15,
   "metadata": {},
   "outputs": [
    {
     "name": "stdout",
     "output_type": "stream",
     "text": [
      "                                shelter_name     age  adoption_fee\n",
      "0                  Joyful Pets Animal Rescue   Adult           NaN\n",
      "1                  Joyful Pets Animal Rescue    Baby           NaN\n",
      "2                  Joyful Pets Animal Rescue  Senior           NaN\n",
      "3                  Joyful Pets Animal Rescue   Young           NaN\n",
      "4               A Welcome Home Animal Rescue   Adult           NaN\n",
      "..                                       ...     ...           ...\n",
      "353  Washington Wilkes Humane Animal Shelter  Senior           NaN\n",
      "354  Washington Wilkes Humane Animal Shelter   Young           NaN\n",
      "355                            Whiskers Fund   Adult           NaN\n",
      "356                     You Lucky Dog Rescue   Adult         300.0\n",
      "357                     You Lucky Dog Rescue   Young         300.0\n",
      "\n",
      "[358 rows x 3 columns]\n"
     ]
    }
   ],
   "source": [
    "# Grouping by shelter_name and age, and calculating the mean of adoption_fee while ignoring NaNs\n",
    "average_adoption_fee = df_dogs.groupby(['shelter_name', 'age'], as_index=False)['adoption_fee'].mean()\n",
    "\n",
    "print(average_adoption_fee)"
   ]
  },
  {
   "cell_type": "code",
   "execution_count": 16,
   "metadata": {},
   "outputs": [],
   "source": [
    "# Merging df_dogs with average_adoption_fee on shelter_name and age\n",
    "df_dogs = df_dogs.merge(average_adoption_fee, on=['shelter_name', 'age'], suffixes=('', '_avg'))\n"
   ]
  },
  {
   "cell_type": "code",
   "execution_count": 17,
   "metadata": {},
   "outputs": [],
   "source": [
    "# Filling nan values in adoption_fee with the calculated average for each shelter-age group\n",
    "df_dogs['adoption_fee'] = df_dogs['adoption_fee'].fillna(df_dogs['adoption_fee_avg'])\n",
    "\n",
    "# Dropping the temporary average column \n",
    "df_dogs = df_dogs.drop(columns=['adoption_fee_avg'])"
   ]
  },
  {
   "cell_type": "code",
   "execution_count": 18,
   "metadata": {},
   "outputs": [
    {
     "name": "stdout",
     "output_type": "stream",
     "text": [
      "There are  3440  still missing, which is  81 % of the data.\n"
     ]
    }
   ],
   "source": [
    "# Recomputing missing value count and proportion of adoption_fee\n",
    "adoption_fee_missing_count = df_dogs['adoption_fee'].isna().sum()\n",
    "adoption_fee_missing_share = ((df_dogs['adoption_fee'].isna().sum()/df_dogs.shape[0])*100).round(0).astype(int)\n",
    "\n",
    "print(\"There are \", adoption_fee_missing_count, \" still missing, which is \",  adoption_fee_missing_share, \"% of the data.\")"
   ]
  },
  {
   "cell_type": "markdown",
   "metadata": {},
   "source": [
    "Using this method, I was only able to recover an extra 5% of the missing values. "
   ]
  },
  {
   "cell_type": "markdown",
   "metadata": {},
   "source": [
    "### Correct Data Format"
   ]
  },
  {
   "cell_type": "code",
   "execution_count": 19,
   "metadata": {},
   "outputs": [
    {
     "data": {
      "text/plain": [
       "pet_id             int64\n",
       "primary_breed     object\n",
       "mixed_breed         bool\n",
       "age               object\n",
       "gender            object\n",
       "shelter_name      object\n",
       "num_photos         int64\n",
       "pet_location      object\n",
       "adoption_fee     float64\n",
       "dtype: object"
      ]
     },
     "execution_count": 19,
     "metadata": {},
     "output_type": "execute_result"
    }
   ],
   "source": [
    "df_dogs.dtypes"
   ]
  },
  {
   "cell_type": "markdown",
   "metadata": {},
   "source": [
    "Findings:\n",
    "- The fields are in the correct format "
   ]
  },
  {
   "cell_type": "markdown",
   "metadata": {},
   "source": [
    "## Save Cleaned Data to CSV"
   ]
  },
  {
   "cell_type": "code",
   "execution_count": 20,
   "metadata": {},
   "outputs": [],
   "source": [
    "df_dogs.to_csv('df_dogs_cleaned.csv')"
   ]
  }
 ],
 "metadata": {
  "kernelspec": {
   "display_name": "base",
   "language": "python",
   "name": "python3"
  },
  "language_info": {
   "codemirror_mode": {
    "name": "ipython",
    "version": 3
   },
   "file_extension": ".py",
   "mimetype": "text/x-python",
   "name": "python",
   "nbconvert_exporter": "python",
   "pygments_lexer": "ipython3",
   "version": "3.12.2"
  }
 },
 "nbformat": 4,
 "nbformat_minor": 2
}
