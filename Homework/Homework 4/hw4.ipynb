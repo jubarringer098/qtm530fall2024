{
 "cells": [
  {
   "cell_type": "markdown",
   "metadata": {},
   "source": [
    "# Import Libraries"
   ]
  },
  {
   "cell_type": "code",
   "execution_count": 1,
   "metadata": {},
   "outputs": [],
   "source": [
    "import re\n",
    "import numpy as np\n",
    "import pandas as pd\n",
    "import matplotlib.pyplot as plt\n",
    "import os"
   ]
  },
  {
   "cell_type": "markdown",
   "metadata": {},
   "source": [
    "# Load Dataset "
   ]
  },
  {
   "cell_type": "code",
   "execution_count": 2,
   "metadata": {},
   "outputs": [],
   "source": [
    "base_dir = os.getcwd()\n",
    "file_path = os.path.normpath(os.path.join(base_dir, \"../../\", \"Lecture 10/data_raw/bills_actions.csv\"))\n",
    "\n",
    "actions = pd.read_csv(file_path)\n"
   ]
  },
  {
   "cell_type": "markdown",
   "metadata": {},
   "source": [
    "## Basic descriptive statistics "
   ]
  },
  {
   "cell_type": "code",
   "execution_count": 15,
   "metadata": {},
   "outputs": [
    {
     "name": "stdout",
     "output_type": "stream",
     "text": [
      "There are  1331  bills.\n",
      "category\n",
      "amendment                       0.462913\n",
      "house bill                      0.273085\n",
      "senate bill                     0.155616\n",
      "house resolution                0.070845\n",
      "senate resolution               0.018165\n",
      "house joint resolution          0.006661\n",
      "house concurrent resolution     0.006055\n",
      "senate concurrent resolution    0.004239\n",
      "senate joint resolution         0.002422\n",
      "Name: proportion, dtype: float64\n",
      "category           action                                                                                                                                                                                                                                                                                                                                  \n",
      "amendment          POSTPONED PROCEEDINGS - At the conclusion of debate on the Gosar amendment, the Chair put the question on the amendment and by voice vote, announced that the noes had prevailed. Mr. Gosar demanded a recorded vote and the Chair postponed further proceedings on agreeing to the amendment until a time to be announced.                 0.004578\n",
      "                   POSTPONED PROCEEDINGS - At the conclusion of debate on the Banks amendment, the Chair put the question on the amendment and by voice vote, announced that the noes had prevailed. Mr. Banks demanded a recorded vote and the Chair postponed further proceedings on agreeing to the amendment until a time to be announced.                 0.003270\n",
      "                   POSTPONED PROCEEDINGS - At the conclusion of debate on the Gosar amendment, the Chair put the question on adoption of the amendment, and by voice vote announced that the noes had prevailed. Mr. Gosar demanded a recorded vote, and the Chair postponed further proceedings on adoption of the amendment until a time to be announced.    0.003270\n",
      "                   POSTPONED PROCEEDINGS - At the conclusion of debate on the DeSaulnier amendment, the Chair put the question on the amendment and by voice vote, announced that the ayes had prevailed. Mr. Roy demanded a recorded vote and the Chair postponed further proceedings on agreeing to the amendment until a time to be announced.              0.002616\n",
      "                   POSTPONED PROCEEDINGS - At the conclusion of debate on the Burgess amendment, the Chair put the question on the amendment and by voice vote, announced that the noes had prevailed. Mr. Burgess demanded a recorded vote and the Chair postponed further proceedings on agreeing to the amendment until a time to be announced.             0.001962\n",
      "                                                                                                                                                                                                                                                                                                                                                                 ...   \n",
      "senate resolution  Committee on the Budget. Original measure reported to Senate by Senator Enzi. Without written report.                                                                                                                                                                                                                                       0.016667\n",
      "                   Committee on the Judiciary. Original measure reported to Senate by Senator Graham. Without written report.                                                                                                                                                                                                                                  0.016667\n",
      "                   Motion by Senator McConnell to reconsider the vote by which cloture on the motion to proceed to S. Res. 50 was not invoked ( Record Vote No. 57 ) entered in Senate.                                                                                                                                                                        0.016667\n",
      "                   Select Committee on Intelligence. Original measure reported to Senate by Senator Burr. Without written report.                                                                                                                                                                                                                              0.016667\n",
      "                   Special Committee on Aging. Original measure reported to Senate by Senator Collins. Without written report.                                                                                                                                                                                                                                 0.016667\n",
      "Name: proportion, Length: 2491, dtype: float64\n"
     ]
    }
   ],
   "source": [
    "# Count distinct number of bills \n",
    "num_bills = actions['bill_number'].nunique()\n",
    "print(\"There are \", num_bills, \" bills.\")\n",
    "\n",
    "# Proportion of bills in each category - use normalize for proportions \n",
    "category_proportions = actions['category'].value_counts(normalize=True)\n",
    "print(category_proportions)\n",
    "\n",
    "# Proportion of bills in each action within each category \n",
    "action_proportions_within_category = actions.groupby('category')['action'].value_counts(normalize=True)\n",
    "print(action_proportions_within_category)\n",
    "\n"
   ]
  },
  {
   "cell_type": "code",
   "execution_count": null,
   "metadata": {},
   "outputs": [],
   "source": []
  },
  {
   "cell_type": "markdown",
   "metadata": {},
   "source": [
    "## Question 2 "
   ]
  },
  {
   "cell_type": "code",
   "execution_count": 4,
   "metadata": {},
   "outputs": [
    {
     "name": "stdout",
     "output_type": "stream",
     "text": [
      "116\n"
     ]
    }
   ],
   "source": [
    "# House floor actions as part of senate bills category \n",
    "house_floor_actions_in_senate_bills = actions[(actions['category'] == 'senate bill') & (actions['main_action'] == 'house floor actions')]\n",
    "print(house_floor_actions_in_senate_bills.shape[0])\n"
   ]
  },
  {
   "cell_type": "code",
   "execution_count": null,
   "metadata": {},
   "outputs": [],
   "source": [
    "# Number of actions that were suspended\n",
    "suspended_actions = house_floor_actions_in_senate_bills['action'].str.contains('suspend').sum()\n",
    "suspended_as_amended_actions = house_floor_actions_in_senate_bills['action'].str.contains('suspend as amended', case=False).sum()\n"
   ]
  },
  {
   "cell_type": "code",
   "execution_count": 12,
   "metadata": {},
   "outputs": [
    {
     "name": "stdout",
     "output_type": "stream",
     "text": [
      "Empty DataFrame\n",
      "Columns: [action]\n",
      "Index: []\n"
     ]
    }
   ],
   "source": [
    "# Define the regex pattern to capture titles like Mr., Mrs., and Ms.\n",
    "title_pattern = r\"\\b(Mr\\.|Mrs\\.|Ms\\.)\\b\"\n",
    "\n",
    "# Create a new column that checks whether each row in the 'action' column contains a title\n",
    "actions['contains_title'] = actions['action'].apply(lambda x: bool(re.search(title_pattern, x)))\n",
    "\n",
    "# Display the rows where titles are found\n",
    "rows_with_titles = actions[actions['contains_title']]\n",
    "\n",
    "# Display the results\n",
    "print(rows_with_titles[['action']])"
   ]
  }
 ],
 "metadata": {
  "kernelspec": {
   "display_name": "base",
   "language": "python",
   "name": "python3"
  },
  "language_info": {
   "codemirror_mode": {
    "name": "ipython",
    "version": 3
   },
   "file_extension": ".py",
   "mimetype": "text/x-python",
   "name": "python",
   "nbconvert_exporter": "python",
   "pygments_lexer": "ipython3",
   "version": "3.12.2"
  }
 },
 "nbformat": 4,
 "nbformat_minor": 2
}
